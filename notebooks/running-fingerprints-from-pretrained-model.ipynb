{
 "metadata": {
  "language_info": {
   "codemirror_mode": {
    "name": "ipython",
    "version": 3
   },
   "file_extension": ".py",
   "mimetype": "text/x-python",
   "name": "python",
   "nbconvert_exporter": "python",
   "pygments_lexer": "ipython3",
   "version": "3.8.8"
  },
  "orig_nbformat": 4,
  "kernelspec": {
   "name": "python3",
   "display_name": "Python 3.8.8 64-bit ('graphium': conda)"
  },
  "interpreter": {
   "hash": "f4a99d018a205fcbcc0480c84566beaebcb91b08d0414b39a842df533e2a1d25"
  }
 },
 "nbformat": 4,
 "nbformat_minor": 2,
 "cells": [
  {
   "cell_type": "code",
   "execution_count": 1,
   "source": [
    "# General imports\r\n",
    "import yaml\r\n",
    "import numpy as np\r\n",
    "import torch\r\n",
    "import fsspec\r\n",
    "\r\n",
    "# Current project imports\r\n",
    "import graphium\r\n",
    "from graphium.config._loader import load_datamodule, load_trainer\r\n",
    "from graphium.trainer.predictor import PredictorModule\r\n"
   ],
   "outputs": [
    {
     "output_type": "stream",
     "name": "stderr",
     "text": [
      "Using backend: pytorch\n"
     ]
    }
   ],
   "metadata": {}
  },
  {
   "cell_type": "code",
   "execution_count": 2,
   "source": [
    "# Path containing the model and its configurations\r\n",
    "MODEL_PATH = \"https://storage.valencelabs.com/graphium/pretrained-models/graphium-zinc-micro-dummy-test\"\r\n",
    "MODEL_FILE = f\"{MODEL_PATH}/model.ckpt\"\r\n",
    "CONFIG_FILE = f\"{MODEL_PATH}/configs.yaml\"\r\n",
    "\r\n",
    "# Path containing the SMILES data to infer\r\n",
    "SMILES_DF_PATH = f\"https://storage.valencelabs.com/graphium/datasets/graphium-zinc-bench-gnn/smiles_score.csv.gz\"\r\n",
    "SMILES_COL = \"SMILES\"\r\n",
    "\r\n",
    "# Number of layers to drop when inferring the fingerprints\r\n",
    "NUM_LAYERS_TO_DROP = 1"
   ],
   "outputs": [],
   "metadata": {}
  },
  {
   "cell_type": "code",
   "execution_count": 3,
   "source": [
    "# Load the configuration file of the trained model\r\n",
    "with fsspec.open(CONFIG_FILE, \"rb\") as f:\r\n",
    "    cfg = yaml.safe_load(f)\r\n",
    "\r\n",
    "# Overwrite configurations of the datamodule\r\n",
    "cfg[\"datamodule\"][\"module_type\"] = \"DGLFromSmilesDataModule\"\r\n",
    "args = cfg[\"datamodule\"][\"args\"]\r\n",
    "cfg[\"datamodule\"][\"args\"] = {\r\n",
    "        \"df_path\": SMILES_DF_PATH,\r\n",
    "        \"smiles_col\": SMILES_COL,\r\n",
    "        \"label_cols\": [],\r\n",
    "        \"featurization\": args[\"featurization\"],\r\n",
    "    }\r\n",
    "\r\n",
    "# Load and initialize the dataset\r\n",
    "datamodule = load_datamodule(cfg)"
   ],
   "outputs": [],
   "metadata": {}
  },
  {
   "cell_type": "code",
   "execution_count": 4,
   "source": [
    "# Load the model, drop the layers, and load the trainer\r\n",
    "predictor = PredictorModule.load_from_checkpoint(MODEL_FILE)\r\n",
    "predictor.model.drop_graph_output_nn_layers(num_layers_to_drop=NUM_LAYERS_TO_DROP)\r\n",
    "trainer = load_trainer(cfg)\r\n",
    "\r\n",
    "predictor"
   ],
   "outputs": [
    {
     "output_type": "error",
     "ename": "AssertionError",
     "evalue": "",
     "traceback": [
      "\u001b[1;31m---------------------------------------------------------------------------\u001b[0m",
      "\u001b[1;31mAssertionError\u001b[0m                            Traceback (most recent call last)",
      "\u001b[1;32m<ipython-input-4-5f92b03a935d>\u001b[0m in \u001b[0;36m<module>\u001b[1;34m\u001b[0m\n\u001b[0;32m      1\u001b[0m \u001b[1;31m# Load the model, drop the layers, and load the trainer\u001b[0m\u001b[1;33m\u001b[0m\u001b[1;33m\u001b[0m\u001b[1;33m\u001b[0m\u001b[0m\n\u001b[0;32m      2\u001b[0m \u001b[0mpredictor\u001b[0m \u001b[1;33m=\u001b[0m \u001b[0mPredictorModule\u001b[0m\u001b[1;33m.\u001b[0m\u001b[0mload_from_checkpoint\u001b[0m\u001b[1;33m(\u001b[0m\u001b[0mMODEL_FILE\u001b[0m\u001b[1;33m)\u001b[0m\u001b[1;33m\u001b[0m\u001b[1;33m\u001b[0m\u001b[0m\n\u001b[1;32m----> 3\u001b[1;33m \u001b[0mpredictor\u001b[0m\u001b[1;33m.\u001b[0m\u001b[0mmodel\u001b[0m\u001b[1;33m.\u001b[0m\u001b[0mdrop_graph_output_nn_layers\u001b[0m\u001b[1;33m(\u001b[0m\u001b[0mnum_layers_to_drop\u001b[0m\u001b[1;33m=\u001b[0m\u001b[0mNUM_LAYERS_TO_DROP\u001b[0m\u001b[1;33m)\u001b[0m\u001b[1;33m\u001b[0m\u001b[1;33m\u001b[0m\u001b[0m\n\u001b[0m\u001b[0;32m      4\u001b[0m \u001b[0mtrainer\u001b[0m \u001b[1;33m=\u001b[0m \u001b[0mload_trainer\u001b[0m\u001b[1;33m(\u001b[0m\u001b[0mcfg\u001b[0m\u001b[1;33m)\u001b[0m\u001b[1;33m\u001b[0m\u001b[1;33m\u001b[0m\u001b[0m\n\u001b[0;32m      5\u001b[0m \u001b[1;33m\u001b[0m\u001b[0m\n",
      "\u001b[1;32mc:\\users\\domin\\documents\\gits\\graphium_windows\\graphium\\nn\\architectures.py\u001b[0m in \u001b[0;36mdrop_graph_output_nn_layers\u001b[1;34m(self, num_layers_to_drop)\u001b[0m\n\u001b[0;32m    867\u001b[0m \u001b[1;33m\u001b[0m\u001b[0m\n\u001b[0;32m    868\u001b[0m         \u001b[1;32massert\u001b[0m \u001b[0mnum_layers_to_drop\u001b[0m \u001b[1;33m>=\u001b[0m \u001b[1;36m0\u001b[0m\u001b[1;33m\u001b[0m\u001b[1;33m\u001b[0m\u001b[0m\n\u001b[1;32m--> 869\u001b[1;33m         \u001b[1;32massert\u001b[0m \u001b[0mnum_layers_to_drop\u001b[0m \u001b[1;33m<=\u001b[0m \u001b[0mlen\u001b[0m\u001b[1;33m(\u001b[0m\u001b[0mself\u001b[0m\u001b[1;33m.\u001b[0m\u001b[0mgraph_output_nn\u001b[0m\u001b[1;33m.\u001b[0m\u001b[0mlayers\u001b[0m\u001b[1;33m)\u001b[0m\u001b[1;33m\u001b[0m\u001b[1;33m\u001b[0m\u001b[0m\n\u001b[0m\u001b[0;32m    870\u001b[0m \u001b[1;33m\u001b[0m\u001b[0m\n\u001b[0;32m    871\u001b[0m         \u001b[1;32mif\u001b[0m \u001b[0mnum_layers_to_drop\u001b[0m \u001b[1;33m>\u001b[0m \u001b[1;36m0\u001b[0m\u001b[1;33m:\u001b[0m\u001b[1;33m\u001b[0m\u001b[1;33m\u001b[0m\u001b[0m\n",
      "\u001b[1;31mAssertionError\u001b[0m: "
     ]
    }
   ],
   "metadata": {}
  },
  {
   "cell_type": "code",
   "execution_count": null,
   "source": [
    "# Run the model prediction, and concatenate the batched results\r\n",
    "preds = trainer.predict(model=predictor, datamodule=datamodule)\r\n",
    "if isinstance(preds[0], torch.Tensor):\r\n",
    "    preds = [p.detach().cpu().numpy() for p in preds]\r\n",
    "preds = np.concatenate(preds, axis=0)\r\n",
    "\r\n",
    "preds"
   ],
   "outputs": [],
   "metadata": {}
  },
  {
   "cell_type": "code",
   "execution_count": null,
   "source": [
    "preds.shape"
   ],
   "outputs": [],
   "metadata": {}
  }
 ]
}
