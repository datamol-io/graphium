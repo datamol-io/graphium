{
 "cells": [
  {
   "cell_type": "code",
   "execution_count": 1,
   "metadata": {},
   "outputs": [
    {
     "name": "stderr",
     "output_type": "stream",
     "text": [
      "Using backend: pytorch\n"
     ]
    }
   ],
   "source": [
    "import goli\n",
    "# from goli.config._loader import (load_datamodule, load_metrics, load_architecture, load_predictor, load_trainer)"
   ]
  },
  {
   "cell_type": "markdown",
   "metadata": {},
   "source": [
    "### Constants\n",
    "\n",
    "First, we define the constants such as the random seed and whether the model should raise or ignore an error."
   ]
  },
  {
   "cell_type": "code",
   "execution_count": 4,
   "metadata": {},
   "outputs": [
    {
     "name": "stdout",
     "output_type": "stream",
     "text": [
      "constants:\n",
      "  seed: 42\n",
      "  raise_train_error: true\n",
      "\n"
     ]
    }
   ],
   "source": [
    "print_config_with_key(yaml_config, \"constants\")"
   ]
  },
  {
   "cell_type": "markdown",
   "metadata": {},
   "source": [
    "### Datamodule\n",
    "\n",
    "Here, we define all the parameters required by the datamodule to run correctly, such as the dataset path, whether to cache, the columns for the training, the molecular featurization to use, the train/val/test splits and the batch size.\n",
    "\n",
    "For more details, see class `goli.data.datamodule.DGLFromSmilesDataModule`"
   ]
  },
  {
   "cell_type": "code",
   "execution_count": 5,
   "metadata": {},
   "outputs": [
    {
     "name": "stdout",
     "output_type": "stream",
     "text": [
      "datamodule:\n",
      "  df_path: goli/data/micro_ZINC/micro_ZINC.csv\n",
      "  cache_data_path: goli/data/cache/micro_ZINC/full.cache\n",
      "  label_cols:\n",
      "  - score\n",
      "  smiles_col: SMILES\n",
      "  featurization_n_jobs: -1\n",
      "  featurization_progress: true\n",
      "  featurization:\n",
      "    atom_property_list_onehot:\n",
      "    - atomic-number\n",
      "    - valence\n",
      "    atom_property_list_float:\n",
      "    - mass\n",
      "    - electronegativity\n",
      "    - in-ring\n",
      "    edge_property_list: []\n",
      "    add_self_loop: false\n",
      "    explicit_H: false\n",
      "    use_bonds_weights: false\n",
      "  split_val: 0.2\n",
      "  split_test: 0.2\n",
      "  split_seed: 42\n",
      "  splits_path: null\n",
      "  batch_size_train_val: 128\n",
      "  batch_size_test: 256\n",
      "  num_workers: -1\n",
      "  pin_memory: false\n",
      "\n"
     ]
    }
   ],
   "source": [
    "print_config_with_key(yaml_config, \"datamodule\")"
   ]
  },
  {
   "cell_type": "markdown",
   "metadata": {},
   "source": [
    "### Architecture\n",
    "\n",
    "In the architecture, we define all the layers for the model, including the layers for the pre-processing MLP (input layers `pre-nn`), the post-processing MLP (output layers `post-nn`), and the main GNN (graph neural network `gnn`).\n",
    "\n",
    "The parameters allow to chose the feature size, the depth, the skip connections, the pooling and the virtual node. It also support different GNN layers such as `gcn`, `gin`, `gat`, `gated-gcn`, `pna-conv` and `pna-msgpass`.\n",
    "\n",
    "For more details, see the following classes:\n",
    "\n",
    "-  `goli.nn.architecture.FullDGLNetwork`: Main class for the architecture\n",
    "-  `goli.nn.architecture.FeedForwardNN`: Main class for the inputs and outputs MLP\n",
    "-  `goli.nn.architecture.FeedForwardDGL`: Main class for the GNN layers"
   ]
  },
  {
   "cell_type": "code",
   "execution_count": 6,
   "metadata": {},
   "outputs": [
    {
     "name": "stdout",
     "output_type": "stream",
     "text": [
      "architecture:\n",
      "  model_type: fulldglnetwork\n",
      "  pre_nn:\n",
      "    out_dim: 32\n",
      "    hidden_dims: 32\n",
      "    depth: 1\n",
      "    activation: relu\n",
      "    last_activation: none\n",
      "    dropout: 0.1\n",
      "    normalization: "batch_norm"\n",
      "    last_normalization: "batch_norm"\n",
      "    residual_type: none\n",
      "  gnn:\n",
      "    out_dim: 32\n",
      "    hidden_dims: 32\n",
      "    depth: 4\n",
      "    activation: relu\n",
      "    last_activation: none\n",
      "    dropout: 0.1\n",
      "    normalization: "batch_norm"\n",
      "    last_normalization: "batch_norm"\n",
      "    residual_type: simple\n",
      "    pooling: sum\n",
      "    virtual_node: sum\n",
      "    layer_type: pna-msgpass\n",
      "    layer_kwargs:\n",
      "      aggregators:\n",
      "      - mean\n",
      "      - max\n",
      "      - min\n",
      "      - std\n",
      "      scalers:\n",
      "      - identity\n",
      "      - amplification\n",
      "      - attenuation\n",
      "  post_nn:\n",
      "    out_dim: 1\n",
      "    hidden_dims: 32\n",
      "    depth: 2\n",
      "    activation: relu\n",
      "    last_activation: none\n",
      "    dropout: 0.1\n",
      "    normalization: "batch_norm"\n",
      "    last_normalization: "none"\n",
      "    residual_type: none\n",
      "\n"
     ]
    }
   ],
   "source": [
    "print_config_with_key(yaml_config, \"architecture\")"
   ]
  },
  {
   "cell_type": "markdown",
   "metadata": {},
   "source": [
    "### Predictor\n",
    "\n",
    "In the predictor, we define the loss functions, the metrics to track on the progress bar, and all the parameters necessary for the optimizer."
   ]
  },
  {
   "cell_type": "code",
   "execution_count": 7,
   "metadata": {},
   "outputs": [
    {
     "name": "stdout",
     "output_type": "stream",
     "text": [
      "predictor:\n",
      "  metrics_on_progress_bar:\n",
      "  - mae\n",
      "  - pearsonr\n",
      "  - f1 > 3\n",
      "  - precision > 3\n",
      "  loss_fun: mse\n",
      "  random_seed: 42\n",
      "  optim_kwargs:\n",
      "    lr: 0.01\n",
      "    weight_decay: 1.0e-07\n",
      "  lr_reduce_on_plateau_kwargs:\n",
      "    factor: 0.5\n",
      "    patience: 7\n",
      "  scheduler_kwargs:\n",
      "    monitor: loss/val\n",
      "    frequency: 1\n",
      "  target_nan_mask: 0\n",
      "\n"
     ]
    }
   ],
   "source": [
    "print_config_with_key(yaml_config, \"predictor\")"
   ]
  },
  {
   "cell_type": "markdown",
   "metadata": {},
   "source": [
    "### Metrics\n",
    "\n",
    "All the metrics can be defined there. If we want to use a classification metric, we can also define a threshold.\n",
    "\n",
    "See class `goli.trainer.metrics.MetricWrapper` for more details.\n",
    "\n",
    "See `goli.trainer.metrics.METRICS_CLASSIFICATION` and `goli.trainer.metrics.METRICS_REGRESSION` for a dictionnary of accepted metrics."
   ]
  },
  {
   "cell_type": "code",
   "execution_count": 8,
   "metadata": {},
   "outputs": [
    {
     "name": "stdout",
     "output_type": "stream",
     "text": [
      "metrics:\n",
      "- name: mae\n",
      "  metric: mae\n",
      "  threshold_kwargs: null\n",
      "- name: pearsonr\n",
      "  metric: pearsonr\n",
      "  threshold_kwargs: null\n",
      "- name: f1 > 3\n",
      "  metric: f1\n",
      "  num_classes: 2\n",
      "  average: micro\n",
      "  threshold_kwargs:\n",
      "    operator: greater\n",
      "    threshold: 3\n",
      "    th_on_preds: true\n",
      "    th_on_target: true\n",
      "- name: f1 > 5\n",
      "  metric: f1\n",
      "  num_classes: 2\n",
      "  average: micro\n",
      "  threshold_kwargs:\n",
      "    operator: greater\n",
      "    threshold: 5\n",
      "    th_on_preds: true\n",
      "    th_on_target: true\n",
      "- name: precision > 3\n",
      "  metric: precision\n",
      "  class_reduction: micro\n",
      "  threshold_kwargs:\n",
      "    operator: greater\n",
      "    threshold: 3\n",
      "    th_on_preds: true\n",
      "    th_on_target: true\n",
      "\n"
     ]
    }
   ],
   "source": [
    "print_config_with_key(yaml_config, \"metrics\")"
   ]
  },
  {
   "cell_type": "markdown",
   "metadata": {},
   "source": [
    "### Trainer\n",
    "\n",
    "Finally, the Trainer defines the parameters for the number of epochs to train, the checkpoints, and the patience."
   ]
  },
  {
   "cell_type": "code",
   "execution_count": 9,
   "metadata": {},
   "outputs": [
    {
     "name": "stdout",
     "output_type": "stream",
     "text": [
      "trainer:\n",
      "  logger:\n",
      "    save_dir: logs/micro_ZINC\n",
      "  early_stopping:\n",
      "    monitor: loss/val\n",
      "    min_delta: 0\n",
      "    patience: 10\n",
      "    mode: min\n",
      "  model_checkpoint:\n",
      "    dirpath: models_checkpoints/micro_ZINC/\n",
      "    filename: bob\n",
      "    monitor: loss/val\n",
      "    mode: min\n",
      "    save_top_k: 1\n",
      "    period: 1\n",
      "  trainer:\n",
      "    max_epochs: 25\n",
      "    min_epochs: 5\n",
      "    gpus: 1\n",
      "\n"
     ]
    }
   ],
   "source": [
    "print_config_with_key(yaml_config, \"trainer\")"
   ]
  },
  {
   "cell_type": "markdown",
   "metadata": {},
   "source": [
    "## Training the model\n",
    "\n",
    "Now that we defined all the configuration files, we want to train the model. The steps are fairly easy using the config loaders, and are given below."
   ]
  },
  {
   "cell_type": "code",
   "execution_count": 10,
   "metadata": {},
   "outputs": [
    {
     "name": "stderr",
     "output_type": "stream",
     "text": [
      "Using backend: pytorch\n",
      "2021-03-25 09:44:37.314 | WARNING  | goli.config._loader:load_trainer:111 - Number of GPUs selected is `1`, but will be ignored since no GPU are available on this device\n",
      "/home/dominique/anaconda3/envs/goli/lib/python3.8/site-packages/pytorch_lightning/utilities/distributed.py:51: UserWarning: Checkpoint directory models_checkpoints/micro_ZINC/ exists and is not empty.\n",
      "  warnings.warn(*args, **kwargs)\n",
      "GPU available: False, used: False\n",
      "TPU available: None, using: 0 TPU cores\n",
      "2021-03-25 09:44:37.331 | INFO     | goli.data.datamodule:prepare_data:153 - Reload data from goli/data/cache/micro_ZINC/full.cache.\n",
      "\n",
      "datamodule:\n",
      " name: DGLFromSmilesDataModule\n",
      "len: 1000\n",
      "batch_size_train_val: 128\n",
      "batch_size_test: 256\n",
      "num_node_feats: 55\n",
      "num_edge_feats: 0\n",
      "collate_fn: goli_collate_fn\n",
      "featurization:\n",
      "  atom_property_list_onehot:\n",
      "  - atomic-number\n",
      "  - valence\n",
      "  atom_property_list_float:\n",
      "  - mass\n",
      "  - electronegativity\n",
      "  - in-ring\n",
      "  edge_property_list: []\n",
      "  add_self_loop: false\n",
      "  explicit_H: false\n",
      "  use_bonds_weights: false\n",
      " \n",
      "\n",
      "{'mae': mean_absolute_error, 'pearsonr': pearsonr, 'f1 > 3': f1(>3), 'f1 > 5': f1(>5), 'precision > 3': precision(>3)}\n",
      "DGL_GNN\n",
      "---------\n",
      "    pre-NN(depth=1, ResidualConnectionNone)\n",
      "        [FCLayer[55 -> 32]\n",
      "    \n",
      "    GNN(depth=4, ResidualConnectionSimple(skip_steps=1))\n",
      "        PNAMessagePassingLayer[32 -> 32 -> 32 -> 32 -> 32]\n",
      "        -> Pooling(sum) -> FCLayer(32 -> 32, activation=None)\n",
      "    \n",
      "    post-NN(depth=2, ResidualConnectionNone)\n",
      "        [FCLayer[32 -> 32 -> 1]\n",
      "   | Name                            | Type                     | Params\n",
      "------------------------------------------------------------------------------\n",
      "0  | model                           | FullDGLNetwork           | 69.7 K\n",
      "1  | model.pre_nn                    | FeedForwardNN            | 1.9 K \n",
      "2  | model.pre_nn.activation         | ReLU                     | 0     \n",
      "3  | model.pre_nn.residual_layer     | ResidualConnectionNone   | 0     \n",
      "4  | model.pre_nn.layers             | ModuleList               | 1.9 K \n",
      "5  | model.pre_nn.layers.0           | FCLayer                  | 1.9 K \n",
      "6  | model.gnn                       | FeedForwardDGL           | 66.7 K\n",
      "7  | model.gnn.activation            | ReLU                     | 0     \n",
      "8  | model.gnn.layers                | ModuleList               | 62.2 K\n",
      "9  | model.gnn.layers.0              | PNAMessagePassingLayer   | 15.6 K\n",
      "10 | model.gnn.layers.1              | PNAMessagePassingLayer   | 15.6 K\n",
      "11 | model.gnn.layers.2              | PNAMessagePassingLayer   | 15.6 K\n",
      "12 | model.gnn.layers.3              | PNAMessagePassingLayer   | 15.6 K\n",
      "13 | model.gnn.virtual_node_layers   | ModuleList               | 3.4 K \n",
      "14 | model.gnn.virtual_node_layers.0 | VirtualNode              | 1.1 K \n",
      "15 | model.gnn.virtual_node_layers.1 | VirtualNode              | 1.1 K \n",
      "16 | model.gnn.virtual_node_layers.2 | VirtualNode              | 1.1 K \n",
      "17 | model.gnn.residual_layer        | ResidualConnectionSimple | 0     \n",
      "18 | model.gnn.global_pool_layer     | ModuleListConcat         | 0     \n",
      "19 | model.gnn.global_pool_layer.0   | SumPooling               | 0     \n",
      "20 | model.gnn.out_linear            | FCLayer                  | 1.1 K \n",
      "21 | model.gnn.out_linear.linear     | Linear                   | 1.1 K \n",
      "22 | model.gnn.out_linear.dropout    | Dropout                  | 0     \n",
      "23 | model.gnn.out_linear.batch_norm | BatchNorm1d              | 64    \n",
      "24 | model.post_nn                   | FeedForwardNN            | 1.2 K \n",
      "25 | model.post_nn.activation        | ReLU                     | 0     \n",
      "26 | model.post_nn.residual_layer    | ResidualConnectionNone   | 0     \n",
      "27 | model.post_nn.layers            | ModuleList               | 1.2 K \n",
      "28 | model.post_nn.layers.0          | FCLayer                  | 1.1 K \n",
      "29 | model.post_nn.layers.1          | FCLayer                  | 33    \n",
      "30 | loss_fun                        | MSELoss                  | 0     \n",
      "------------------------------------------------------------------------------\n",
      "69.7 K    Trainable params\n",
      "0         Non-trainable params\n",
      "69.7 K    Total params\n",
      "0.279     Total estimated model params size (MB)\n",
      "\n",
      "  | Name     | Type           | Params\n",
      "--------------------------------------------\n",
      "0 | model    | FullDGLNetwork | 69.7 K\n",
      "1 | loss_fun | MSELoss        | 0     \n",
      "--------------------------------------------\n",
      "69.7 K    Trainable params\n",
      "0         Non-trainable params\n",
      "69.7 K    Total params\n",
      "0.279     Total estimated model params size (MB)\n"
     ]
    },
    {
     "data": {
      "application/vnd.jupyter.widget-view+json": {
       "model_id": "61dc1894ee264599ab493d982b390430",
       "version_major": 2,
       "version_minor": 0
      },
      "text/plain": [
       "Validation sanity check: 0it [00:00, ?it/s]"
      ]
     },
     "metadata": {},
     "output_type": "display_data"
    },
    {
     "name": "stderr",
     "output_type": "stream",
     "text": [
      "/home/dominique/anaconda3/envs/goli/lib/python3.8/site-packages/pytorch_lightning/utilities/distributed.py:51: UserWarning: The validation_epoch_end should not return anything as of 9.1. To log, use self.log(...) or self.write(...) directly in the LightningModule\n",
      "  warnings.warn(*args, **kwargs)\n"
     ]
    },
    {
     "data": {
      "application/vnd.jupyter.widget-view+json": {
       "model_id": "657567b3d0b546a1a648173c2bfb1e4a",
       "version_major": 2,
       "version_minor": 0
      },
      "text/plain": [
       "Training: 0it [00:00, ?it/s]"
      ]
     },
     "metadata": {},
     "output_type": "display_data"
    },
    {
     "data": {
      "application/vnd.jupyter.widget-view+json": {
       "model_id": "01792491c7fd49b08ce5086832135c7b",
       "version_major": 2,
       "version_minor": 0
      },
      "text/plain": [
       "Validating: 0it [00:00, ?it/s]"
      ]
     },
     "metadata": {},
     "output_type": "display_data"
    },
    {
     "data": {
      "application/vnd.jupyter.widget-view+json": {
       "model_id": "b9d96f2469234fe380d07ffd806350ed",
       "version_major": 2,
       "version_minor": 0
      },
      "text/plain": [
       "Validating: 0it [00:00, ?it/s]"
      ]
     },
     "metadata": {},
     "output_type": "display_data"
    },
    {
     "data": {
      "application/vnd.jupyter.widget-view+json": {
       "model_id": "eed00b1f81524fe99e07e2084c952532",
       "version_major": 2,
       "version_minor": 0
      },
      "text/plain": [
       "Validating: 0it [00:00, ?it/s]"
      ]
     },
     "metadata": {},
     "output_type": "display_data"
    },
    {
     "data": {
      "application/vnd.jupyter.widget-view+json": {
       "model_id": "c435a81142c24be09a0e38d7575b365b",
       "version_major": 2,
       "version_minor": 0
      },
      "text/plain": [
       "Validating: 0it [00:00, ?it/s]"
      ]
     },
     "metadata": {},
     "output_type": "display_data"
    },
    {
     "data": {
      "application/vnd.jupyter.widget-view+json": {
       "model_id": "ae0357d542ec4021b0c9c38fb38bd11c",
       "version_major": 2,
       "version_minor": 0
      },
      "text/plain": [
       "Validating: 0it [00:00, ?it/s]"
      ]
     },
     "metadata": {},
     "output_type": "display_data"
    },
    {
     "data": {
      "application/vnd.jupyter.widget-view+json": {
       "model_id": "a1d24f83f1504d3b80b0741d1c0f404b",
       "version_major": 2,
       "version_minor": 0
      },
      "text/plain": [
       "Validating: 0it [00:00, ?it/s]"
      ]
     },
     "metadata": {},
     "output_type": "display_data"
    },
    {
     "data": {
      "application/vnd.jupyter.widget-view+json": {
       "model_id": "647aee1f810f407c90697c394d0f604f",
       "version_major": 2,
       "version_minor": 0
      },
      "text/plain": [
       "Validating: 0it [00:00, ?it/s]"
      ]
     },
     "metadata": {},
     "output_type": "display_data"
    },
    {
     "data": {
      "application/vnd.jupyter.widget-view+json": {
       "model_id": "c69086a4802e421f816cab1ebbc20ae9",
       "version_major": 2,
       "version_minor": 0
      },
      "text/plain": [
       "Validating: 0it [00:00, ?it/s]"
      ]
     },
     "metadata": {},
     "output_type": "display_data"
    },
    {
     "data": {
      "application/vnd.jupyter.widget-view+json": {
       "model_id": "ebb4a32a0f78470ba21ff5bea8b450f4",
       "version_major": 2,
       "version_minor": 0
      },
      "text/plain": [
       "Validating: 0it [00:00, ?it/s]"
      ]
     },
     "metadata": {},
     "output_type": "display_data"
    },
    {
     "data": {
      "application/vnd.jupyter.widget-view+json": {
       "model_id": "840d27d095344fcd9a74862e61a2fe7f",
       "version_major": 2,
       "version_minor": 0
      },
      "text/plain": [
       "Validating: 0it [00:00, ?it/s]"
      ]
     },
     "metadata": {},
     "output_type": "display_data"
    },
    {
     "data": {
      "application/vnd.jupyter.widget-view+json": {
       "model_id": "905c7ee70f4b4282871c130b0c7b9f0a",
       "version_major": 2,
       "version_minor": 0
      },
      "text/plain": [
       "Validating: 0it [00:00, ?it/s]"
      ]
     },
     "metadata": {},
     "output_type": "display_data"
    },
    {
     "data": {
      "application/vnd.jupyter.widget-view+json": {
       "model_id": "daab3285c0854c23a4e3dd47846c820e",
       "version_major": 2,
       "version_minor": 0
      },
      "text/plain": [
       "Validating: 0it [00:00, ?it/s]"
      ]
     },
     "metadata": {},
     "output_type": "display_data"
    },
    {
     "data": {
      "application/vnd.jupyter.widget-view+json": {
       "model_id": "e0e0d9096fc64198a470ae1b3cd7f351",
       "version_major": 2,
       "version_minor": 0
      },
      "text/plain": [
       "Validating: 0it [00:00, ?it/s]"
      ]
     },
     "metadata": {},
     "output_type": "display_data"
    },
    {
     "data": {
      "application/vnd.jupyter.widget-view+json": {
       "model_id": "99ac351f4e334e8c838a6913ef6bee08",
       "version_major": 2,
       "version_minor": 0
      },
      "text/plain": [
       "Validating: 0it [00:00, ?it/s]"
      ]
     },
     "metadata": {},
     "output_type": "display_data"
    },
    {
     "data": {
      "application/vnd.jupyter.widget-view+json": {
       "model_id": "69b47fad071248eab8095d67e33b5d5e",
       "version_major": 2,
       "version_minor": 0
      },
      "text/plain": [
       "Validating: 0it [00:00, ?it/s]"
      ]
     },
     "metadata": {},
     "output_type": "display_data"
    },
    {
     "data": {
      "application/vnd.jupyter.widget-view+json": {
       "model_id": "8c68dcc01135429e845427bb6908f414",
       "version_major": 2,
       "version_minor": 0
      },
      "text/plain": [
       "Validating: 0it [00:00, ?it/s]"
      ]
     },
     "metadata": {},
     "output_type": "display_data"
    },
    {
     "data": {
      "application/vnd.jupyter.widget-view+json": {
       "model_id": "096aaea9ce2649fba9bf70b99b7e7955",
       "version_major": 2,
       "version_minor": 0
      },
      "text/plain": [
       "Validating: 0it [00:00, ?it/s]"
      ]
     },
     "metadata": {},
     "output_type": "display_data"
    },
    {
     "data": {
      "application/vnd.jupyter.widget-view+json": {
       "model_id": "d8ecff999d934a119157a3e0ca7a1c6a",
       "version_major": 2,
       "version_minor": 0
      },
      "text/plain": [
       "Validating: 0it [00:00, ?it/s]"
      ]
     },
     "metadata": {},
     "output_type": "display_data"
    },
    {
     "data": {
      "application/vnd.jupyter.widget-view+json": {
       "model_id": "4287a56d059b4eb2966eb2e90498a210",
       "version_major": 2,
       "version_minor": 0
      },
      "text/plain": [
       "Validating: 0it [00:00, ?it/s]"
      ]
     },
     "metadata": {},
     "output_type": "display_data"
    },
    {
     "data": {
      "application/vnd.jupyter.widget-view+json": {
       "model_id": "0a5ffab4db4e4768a4876b01a8b10f96",
       "version_major": 2,
       "version_minor": 0
      },
      "text/plain": [
       "Validating: 0it [00:00, ?it/s]"
      ]
     },
     "metadata": {},
     "output_type": "display_data"
    },
    {
     "data": {
      "application/vnd.jupyter.widget-view+json": {
       "model_id": "6177ef595f9542598e5b065d6d77bb32",
       "version_major": 2,
       "version_minor": 0
      },
      "text/plain": [
       "Validating: 0it [00:00, ?it/s]"
      ]
     },
     "metadata": {},
     "output_type": "display_data"
    },
    {
     "data": {
      "application/vnd.jupyter.widget-view+json": {
       "model_id": "e86938e35b0b443791119e37dd2e2199",
       "version_major": 2,
       "version_minor": 0
      },
      "text/plain": [
       "Validating: 0it [00:00, ?it/s]"
      ]
     },
     "metadata": {},
     "output_type": "display_data"
    },
    {
     "data": {
      "application/vnd.jupyter.widget-view+json": {
       "model_id": "98aff21b49cc434dbaaaf12c355ab783",
       "version_major": 2,
       "version_minor": 0
      },
      "text/plain": [
       "Validating: 0it [00:00, ?it/s]"
      ]
     },
     "metadata": {},
     "output_type": "display_data"
    },
    {
     "data": {
      "application/vnd.jupyter.widget-view+json": {
       "model_id": "e4c88c49c0c843c09934e9786e9b6aa5",
       "version_major": 2,
       "version_minor": 0
      },
      "text/plain": [
       "Validating: 0it [00:00, ?it/s]"
      ]
     },
     "metadata": {},
     "output_type": "display_data"
    },
    {
     "data": {
      "application/vnd.jupyter.widget-view+json": {
       "model_id": "dcb917418a084d4ba36d57f5b0406819",
       "version_major": 2,
       "version_minor": 0
      },
      "text/plain": [
       "Validating: 0it [00:00, ?it/s]"
      ]
     },
     "metadata": {},
     "output_type": "display_data"
    },
    {
     "data": {
      "text/plain": [
       "1"
      ]
     },
     "execution_count": 10,
     "metadata": {},
     "output_type": "execute_result"
    }
   ],
   "source": [
    "\n",
    "\n",
    "MAIN_DIR = dirname(dirname(abspath(goli.__file__)))\n",
    "os.chdir(MAIN_DIR)\n",
    "\n",
    "cfg = dict(deepcopy(yaml_config))\n",
    "\n",
    "# Load and initialize the dataset\n",
    "datamodule = load_datamodule(cfg)\n",
    "print(\"\\ndatamodule:\\n\", datamodule, \"\\n\")\n",
    "\n",
    "# Initialize the network\n",
    "model_class, model_kwargs = load_architecture(\n",
    "    cfg,\n",
    "    in_dim_nodes=datamodule.num_node_feats_with_positional_encoding,\n",
    "    in_dim_edges=datamodule.num_edge_feats,\n",
    ")\n",
    "\n",
    "metrics = load_metrics(cfg)\n",
    "print(metrics)\n",
    "\n",
    "predictor = load_predictor(cfg, model_class, model_kwargs, metrics)\n",
    "\n",
    "print(predictor.model)\n",
    "print(predictor.summarize(max_depth=4))\n",
    "\n",
    "trainer = load_trainer(cfg, metrics)\n",
    "\n",
    "# Run the model training\n",
    "trainer.fit(model=predictor, datamodule=datamodule)"
   ]
  },
  {
   "cell_type": "code",
   "execution_count": null,
   "metadata": {},
   "outputs": [],
   "source": []
  }
 ],
 "metadata": {
  "kernelspec": {
   "display_name": "Python [conda env:goli]",
   "language": "python",
   "name": "conda-env-goli-py"
  },
  "language_info": {
   "codemirror_mode": {
    "name": "ipython",
    "version": 3
   },
   "file_extension": ".py",
   "mimetype": "text/x-python",
   "name": "python",
   "nbconvert_exporter": "python",
   "pygments_lexer": "ipython3",
   "version": "3.8.8"
  },
  "widgets": {
   "application/vnd.jupyter.widget-state+json": {
    "state": {},
    "version_major": 2,
    "version_minor": 0
   }
  }
 },
 "nbformat": 4,
 "nbformat_minor": 4
}
