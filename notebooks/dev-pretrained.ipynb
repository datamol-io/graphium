{
 "cells": [
  {
   "cell_type": "code",
   "execution_count": 2,
   "metadata": {},
   "outputs": [
    {
     "name": "stderr",
     "output_type": "stream",
     "text": [
      "Using backend: pytorch\n"
     ]
    }
   ],
   "source": [
    "%load_ext autoreload\n",
    "%autoreload 2\n",
    "\n",
    "import pathlib\n",
    "import functools\n",
    "import tempfile\n",
    "import yaml\n",
    "\n",
    "from loguru import logger\n",
    "\n",
    "import numpy as np\n",
    "import pytorch_lightning as pl\n",
    "import torch\n",
    "import datamol as dm\n",
    "import pandas as pd\n",
    "\n",
    "import goli"
   ]
  },
  {
   "cell_type": "markdown",
   "metadata": {},
   "source": [
    "## Training"
   ]
  },
  {
   "cell_type": "code",
   "execution_count": 2,
   "metadata": {},
   "outputs": [],
   "source": [
    "# Load a config\n",
    "with open(\"../expts/config_micro_ZINC.yaml\", \"r\") as file:\n",
    "    yaml_config = yaml.load(file, Loader=yaml.FullLoader)"
   ]
  },
  {
   "cell_type": "code",
   "execution_count": 3,
   "metadata": {},
   "outputs": [],
   "source": [
    "training_dir = \"/home/hadim/Drive/Data/goli/test-training\"\n",
    "\n",
    "# Tweak config and paths\n",
    "yaml_config[\"datamodule\"][\"args\"][\"df_path\"] = \"../goli/data/micro_ZINC/micro_ZINC.csv\"\n",
    "yaml_config[\"datamodule\"][\"args\"][\"cache_data_path\"] = None\n",
    "\n",
    "yaml_config[\"trainer\"][\"trainer\"][\"min_epochs\"] = 1\n",
    "yaml_config[\"trainer\"][\"trainer\"][\"max_epochs\"] = 1\n",
    "\n",
    "yaml_config[\"trainer\"][\"logger\"][\"save_dir\"] = training_dir\n",
    "yaml_config[\"trainer\"][\"model_checkpoint\"][\"dirpath\"] = None\n",
    "yaml_config[\"trainer\"][\"trainer\"][\"default_root_dir\"] = training_dir"
   ]
  },
  {
   "cell_type": "code",
   "execution_count": 4,
   "metadata": {},
   "outputs": [
    {
     "name": "stderr",
     "output_type": "stream",
     "text": [
      "/home/hadim/Drive/Documents/valence/Platform/Libs/goli/goli/features/spectral.py:43: ComplexWarning: Casting complex values to real discards the imaginary part\n",
      "  eigvecs[comp, :] = this_eigvecs\n",
      "/home/hadim/Drive/Documents/valence/Platform/Libs/goli/goli/features/spectral.py:44: ComplexWarning: Casting complex values to real discards the imaginary part\n",
      "  eigvals_tile[comp, :] = this_eigvals\n",
      "2021-06-08 13:34:09.135 | WARNING  | goli.config._loader:load_trainer:124 - Number of GPUs selected is `1`, but will be ignored since no GPU are available on this device\n",
      "GPU available: False, used: False\n",
      "TPU available: False, using: 0 TPU cores\n"
     ]
    }
   ],
   "source": [
    "# Load datamodule\n",
    "datamodule = goli.config.load_datamodule(yaml_config)\n",
    "\n",
    "# Initialize the network\n",
    "model_class, model_kwargs = goli.config.load_architecture(\n",
    "    yaml_config,\n",
    "    in_dim_nodes=datamodule.num_node_feats_with_positional_encoding,\n",
    "    in_dim_edges=datamodule.num_edge_feats,\n",
    ")\n",
    "\n",
    "# Init trainer\n",
    "metrics = goli.config.load_metrics(yaml_config)\n",
    "predictor = goli.config.load_predictor(yaml_config, model_class, model_kwargs, metrics)\n",
    "trainer = goli.config.load_trainer(yaml_config)"
   ]
  },
  {
   "cell_type": "code",
   "execution_count": 5,
   "metadata": {},
   "outputs": [
    {
     "name": "stderr",
     "output_type": "stream",
     "text": [
      "2021-06-08 13:34:10.118 | INFO     | goli.data.datamodule:prepare_data:347 - Prepare dataset with 1000 data points.\n"
     ]
    },
    {
     "data": {
      "application/vnd.jupyter.widget-view+json": {
       "model_id": "9fc35f5ef68542048dd5e89b857130bd",
       "version_major": 2,
       "version_minor": 0
      },
      "text/plain": [
       "  0%|          | 0/1000 [00:00<?, ?it/s]"
      ]
     },
     "metadata": {},
     "output_type": "display_data"
    },
    {
     "name": "stderr",
     "output_type": "stream",
     "text": [
      "/home/hadim/local/conda/envs/goli/lib/python3.9/site-packages/pytorch_lightning/utilities/distributed.py:69: RuntimeWarning: Found unsupported keys in the lr scheduler dict: ['mode']\n",
      "  warnings.warn(*args, **kwargs)\n",
      "\n",
      "  | Name     | Type           | Params\n",
      "--------------------------------------------\n",
      "0 | model    | FullDGLNetwork | 74.4 K\n",
      "1 | loss_fun | MSELoss        | 0     \n",
      "--------------------------------------------\n",
      "74.4 K    Trainable params\n",
      "0         Non-trainable params\n",
      "74.4 K    Total params\n",
      "0.298     Total estimated model params size (MB)\n"
     ]
    },
    {
     "data": {
      "application/vnd.jupyter.widget-view+json": {
       "model_id": "",
       "version_major": 2,
       "version_minor": 0
      },
      "text/plain": [
       "Validation sanity check: 0it [00:00, ?it/s]"
      ]
     },
     "metadata": {},
     "output_type": "display_data"
    },
    {
     "name": "stderr",
     "output_type": "stream",
     "text": [
      "/home/hadim/local/conda/envs/goli/lib/python3.9/site-packages/pytorch_lightning/utilities/distributed.py:69: UserWarning: The dataloader, val dataloader 0, does not have many workers which may be a bottleneck. Consider increasing the value of the `num_workers` argument` (try 16 which is the number of cpus on this machine) in the `DataLoader` init to improve performance.\n",
      "  warnings.warn(*args, **kwargs)\n",
      "/home/hadim/local/conda/envs/goli/lib/python3.9/site-packages/dgl/base.py:45: DGLWarning: DGLGraph.in_degree is deprecated. Please use DGLGraph.in_degrees\n",
      "  return warnings.warn(message, category=category, stacklevel=1)\n",
      "/home/hadim/local/conda/envs/goli/lib/python3.9/site-packages/pytorch_lightning/utilities/distributed.py:69: UserWarning: The dataloader, train dataloader, does not have many workers which may be a bottleneck. Consider increasing the value of the `num_workers` argument` (try 16 which is the number of cpus on this machine) in the `DataLoader` init to improve performance.\n",
      "  warnings.warn(*args, **kwargs)\n"
     ]
    },
    {
     "data": {
      "application/vnd.jupyter.widget-view+json": {
       "model_id": "8aca5a77af224bdbb7478a4021fd83da",
       "version_major": 2,
       "version_minor": 0
      },
      "text/plain": [
       "Training: 0it [00:00, ?it/s]"
      ]
     },
     "metadata": {},
     "output_type": "display_data"
    },
    {
     "data": {
      "application/vnd.jupyter.widget-view+json": {
       "model_id": "",
       "version_major": 2,
       "version_minor": 0
      },
      "text/plain": [
       "Validating: 0it [00:00, ?it/s]"
      ]
     },
     "metadata": {},
     "output_type": "display_data"
    }
   ],
   "source": [
    "# Training\n",
    "trainer.fit(model=predictor, datamodule=datamodule)"
   ]
  },
  {
   "cell_type": "markdown",
   "metadata": {},
   "source": [
    "## Load pretrained (hard coded path)"
   ]
  },
  {
   "cell_type": "code",
   "execution_count": 3,
   "metadata": {},
   "outputs": [],
   "source": [
    "# Load a config\n",
    "with open(\"../expts/config_micro_ZINC.yaml\", \"r\") as file:\n",
    "    yaml_config = yaml.load(file, Loader=yaml.FullLoader)"
   ]
  },
  {
   "cell_type": "code",
   "execution_count": 4,
   "metadata": {},
   "outputs": [],
   "source": [
    "training_dir = \"/home/hadim/Drive/Data/goli/test-training\"\n",
    "\n",
    "# Tweak config and paths\n",
    "yaml_config[\"datamodule\"][\"args\"][\"df_path\"] = \"../goli/data/micro_ZINC/micro_ZINC.csv\"\n",
    "yaml_config[\"datamodule\"][\"args\"][\"cache_data_path\"] = None\n",
    "\n",
    "yaml_config[\"trainer\"][\"trainer\"][\"min_epochs\"] = 1\n",
    "yaml_config[\"trainer\"][\"trainer\"][\"max_epochs\"] = 1\n",
    "\n",
    "yaml_config[\"trainer\"][\"logger\"][\"save_dir\"] = training_dir\n",
    "yaml_config[\"trainer\"][\"model_checkpoint\"][\"dirpath\"] = None\n",
    "yaml_config[\"trainer\"][\"trainer\"][\"default_root_dir\"] = training_dir"
   ]
  },
  {
   "cell_type": "code",
   "execution_count": 7,
   "metadata": {},
   "outputs": [
    {
     "name": "stderr",
     "output_type": "stream",
     "text": [
      "2021-06-08 13:37:06.943 | WARNING  | goli.config._loader:load_trainer:124 - Number of GPUs selected is `1`, but will be ignored since no GPU are available on this device\n",
      "GPU available: False, used: False\n",
      "TPU available: False, using: 0 TPU cores\n"
     ]
    }
   ],
   "source": [
    "# Load datamodule\n",
    "datamodule = goli.config.load_datamodule(yaml_config)\n",
    "\n",
    "# Load a trainer\n",
    "trainer = goli.config.load_trainer(yaml_config)"
   ]
  },
  {
   "cell_type": "code",
   "execution_count": 9,
   "metadata": {},
   "outputs": [
    {
     "name": "stderr",
     "output_type": "stream",
     "text": [
      "/home/hadim/local/conda/envs/goli/lib/python3.9/site-packages/pytorch_lightning/utilities/distributed.py:69: UserWarning: The dataloader, predict dataloader 0, does not have many workers which may be a bottleneck. Consider increasing the value of the `num_workers` argument` (try 16 which is the number of cpus on this machine) in the `DataLoader` init to improve performance.\n",
      "  warnings.warn(*args, **kwargs)\n"
     ]
    },
    {
     "data": {
      "application/vnd.jupyter.widget-view+json": {
       "model_id": "b4a4fa9d68f94d878bd04ac8883b17cd",
       "version_major": 2,
       "version_minor": 0
      },
      "text/plain": [
       "Predicting: 0it [00:00, ?it/s]"
      ]
     },
     "metadata": {},
     "output_type": "display_data"
    },
    {
     "name": "stderr",
     "output_type": "stream",
     "text": [
      "/home/hadim/local/conda/envs/goli/lib/python3.9/site-packages/dgl/base.py:45: DGLWarning: DGLGraph.in_degree is deprecated. Please use DGLGraph.in_degrees\n",
      "  return warnings.warn(message, category=category, stacklevel=1)\n"
     ]
    }
   ],
   "source": [
    "# Load a pretrained model\n",
    "model_path = \"s3://goli-public/pretrained-models/ZINC-micro-dummy-test.ckpt\"\n",
    "# model_path = \"/home/hadim/Drive/Data/goli/test-training/default/version_0/checkpoints/model.ckpt\"\n",
    "predictor = goli.trainer.predictor.PredictorModule.load_from_checkpoint(model_path)\n",
    "\n",
    "# Inference\n",
    "results = trainer.predict(predictor, datamodule=datamodule, return_predictions=True)"
   ]
  },
  {
   "cell_type": "markdown",
   "metadata": {},
   "source": [
    "## Load pretrained (from goli available models)"
   ]
  },
  {
   "cell_type": "code",
   "execution_count": 16,
   "metadata": {},
   "outputs": [],
   "source": [
    "# Load a config\n",
    "with open(\"../expts/config_micro_ZINC.yaml\", \"r\") as file:\n",
    "    yaml_config = yaml.load(file, Loader=yaml.FullLoader)"
   ]
  },
  {
   "cell_type": "code",
   "execution_count": 17,
   "metadata": {},
   "outputs": [],
   "source": [
    "training_dir = \"/home/hadim/Drive/Data/goli/test-training\"\n",
    "\n",
    "# Tweak config and paths\n",
    "yaml_config[\"datamodule\"][\"args\"][\"df_path\"] = \"../goli/data/micro_ZINC/micro_ZINC.csv\"\n",
    "yaml_config[\"datamodule\"][\"args\"][\"cache_data_path\"] = None\n",
    "\n",
    "yaml_config[\"trainer\"][\"trainer\"][\"min_epochs\"] = 1\n",
    "yaml_config[\"trainer\"][\"trainer\"][\"max_epochs\"] = 1\n",
    "\n",
    "yaml_config[\"trainer\"][\"logger\"][\"save_dir\"] = training_dir\n",
    "yaml_config[\"trainer\"][\"model_checkpoint\"][\"dirpath\"] = None\n",
    "yaml_config[\"trainer\"][\"trainer\"][\"default_root_dir\"] = training_dir"
   ]
  },
  {
   "cell_type": "code",
   "execution_count": 21,
   "metadata": {},
   "outputs": [],
   "source": [
    "yaml_config[\"trainer\"][\"trainer\"][\"gpus\"] = 0"
   ]
  },
  {
   "cell_type": "code",
   "execution_count": 7,
   "metadata": {},
   "outputs": [
    {
     "name": "stderr",
     "output_type": "stream",
     "text": [
      "2021-06-08 13:37:06.943 | WARNING  | goli.config._loader:load_trainer:124 - Number of GPUs selected is `1`, but will be ignored since no GPU are available on this device\n",
      "GPU available: False, used: False\n",
      "TPU available: False, using: 0 TPU cores\n"
     ]
    }
   ],
   "source": [
    "# Load datamodule\n",
    "datamodule = goli.config.load_datamodule(yaml_config)\n",
    "\n",
    "# Load a trainer\n",
    "trainer = goli.config.load_trainer(yaml_config)"
   ]
  },
  {
   "cell_type": "code",
   "execution_count": 18,
   "metadata": {},
   "outputs": [
    {
     "data": {
      "application/vnd.jupyter.widget-view+json": {
       "model_id": "0d7d7a795c5e4a50a516d62b23605290",
       "version_major": 2,
       "version_minor": 0
      },
      "text/plain": [
       "Predicting: 0it [00:00, ?it/s]"
      ]
     },
     "metadata": {},
     "output_type": "display_data"
    }
   ],
   "source": [
    "# Load a pretrained model\n",
    "predictor = goli.trainer.PredictorModule.load_pretrained_models(\"ZINC-micro-dummy-test\")\n",
    "\n",
    "# Inference\n",
    "results = trainer.predict(predictor, datamodule=datamodule, return_predictions=True)"
   ]
  },
  {
   "cell_type": "code",
   "execution_count": 38,
   "metadata": {},
   "outputs": [
    {
     "data": {
      "text/plain": [
       "goli.trainer.predictor.PredictorModule"
      ]
     },
     "execution_count": 38,
     "metadata": {},
     "output_type": "execute_result"
    }
   ],
   "source": [
    "type(predictor)"
   ]
  },
  {
   "cell_type": "code",
   "execution_count": 31,
   "metadata": {},
   "outputs": [],
   "source": [
    "assert tuple(results[0].shape) == (128, 1)"
   ]
  }
 ],
 "metadata": {
  "kernelspec": {
   "display_name": "Python [conda env:goli]",
   "language": "python",
   "name": "conda-env-goli-py"
  },
  "language_info": {
   "codemirror_mode": {
    "name": "ipython",
    "version": 3
   },
   "file_extension": ".py",
   "mimetype": "text/x-python",
   "name": "python",
   "nbconvert_exporter": "python",
   "pygments_lexer": "ipython3",
   "version": "3.9.4"
  },
  "widgets": {
   "application/vnd.jupyter.widget-state+json": {
    "state": {},
    "version_major": 2,
    "version_minor": 0
   }
  }
 },
 "nbformat": 4,
 "nbformat_minor": 4
}
