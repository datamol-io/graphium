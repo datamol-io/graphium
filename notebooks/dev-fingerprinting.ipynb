{
 "cells": [
  {
   "cell_type": "code",
   "execution_count": 55,
   "metadata": {},
   "outputs": [
    {
     "name": "stdout",
     "output_type": "stream",
     "text": [
      "The autoreload extension is already loaded. To reload it, use:\n",
      "  %reload_ext autoreload\n"
     ]
    }
   ],
   "source": [
    "%load_ext autoreload\n",
    "%autoreload 2\n",
    "\n",
    "import torch\n",
    "from copy import deepcopy\n",
    "\n",
    "from torch_geometric.data import Data, Batch\n",
    "\n",
    "from graphium.nn.architectures import FullGraphMultiTaskNetwork\n",
    "\n",
    "_ = torch.manual_seed(42)"
   ]
  },
  {
   "cell_type": "code",
   "execution_count": 56,
   "metadata": {},
   "outputs": [
    {
     "name": "stdout",
     "output_type": "stream",
     "text": [
      "DataBatch(edge_index=[2, 7], feat=[7, 5], edge_feat=[7, 13], batch=[7], ptr=[3])\n"
     ]
    }
   ],
   "source": [
    "in_dim = 5          # Input node-feature dimensions\n",
    "in_dim_edges = 13   # Input edge-feature dimensions\n",
    "out_dim = 11        # Desired output node-feature dimensions\n",
    "\n",
    "\n",
    "# Let's create 2 simple pyg graphs. \n",
    "# start by specifying the edges with edge index\n",
    "edge_idx1 = torch.tensor([[0, 1, 2],\n",
    "                          [1, 2, 3]])\n",
    "edge_idx2 = torch.tensor([[2, 0, 0, 1],\n",
    "                          [0, 1, 2, 0]])\n",
    "\n",
    "# specify the node features, convention with variable x\n",
    "x1 = torch.randn(edge_idx1.max() + 1, in_dim, dtype=torch.float32)\n",
    "x2 = torch.randn(edge_idx2.max() + 1, in_dim, dtype=torch.float32)\n",
    "\n",
    "# specify the edge features in e\n",
    "e1 = torch.randn(edge_idx1.shape[-1], in_dim_edges, dtype=torch.float32)\n",
    "e2 = torch.randn(edge_idx2.shape[-1], in_dim_edges, dtype=torch.float32)\n",
    "\n",
    "# make the pyg graph objects with our constructed features\n",
    "g1 = Data(feat=x1, edge_index=edge_idx1, edge_feat=e1)\n",
    "g2 = Data(feat=x2, edge_index=edge_idx2, edge_feat=e2)\n",
    "\n",
    "# put the two graphs into a Batch graph\n",
    "bg = Batch.from_data_list([g1, g2])\n",
    "\n",
    "# The batched graph will show as a single graph with 7 nodes\n",
    "print(bg)\n"
   ]
  },
  {
   "cell_type": "code",
   "execution_count": 75,
   "metadata": {},
   "outputs": [],
   "source": [
    "temp_dim_1 = 23\n",
    "temp_dim_2 = 17\n",
    "\n",
    "pre_nn_kwargs = {\n",
    "    \"in_dim\": in_dim,\n",
    "    \"out_dim\": temp_dim_1,\n",
    "    \"hidden_dims\": 4,\n",
    "    \"depth\": 2,\n",
    "    \"activation\": 'relu',\n",
    "    \"last_activation\": \"none\",\n",
    "    \"dropout\": 0.2\n",
    "}\n",
    "\n",
    "gnn_kwargs = {\n",
    "    \"in_dim\": temp_dim_1,\n",
    "    \"out_dim\": temp_dim_2,\n",
    "    \"hidden_dims\": 5,\n",
    "    \"depth\": 4,\n",
    "    \"activation\": 'gelu',\n",
    "    \"last_activation\": None,\n",
    "    \"dropout\": 0.1,\n",
    "    \"normalization\": 'layer_norm',\n",
    "    \"last_normalization\": 'layer_norm',\n",
    "    \"residual_type\": 'simple',\n",
    "    \"virtual_node\": None,\n",
    "    \"layer_type\": 'pyg:gcn',\n",
    "    \"layer_kwargs\": None\n",
    "}\n",
    "\n",
    "task_heads_kwargs = {\n",
    "    \"graph-task-1\": {\n",
    "        \"task_level\": 'graph',\n",
    "        \"out_dim\": 3,\n",
    "        \"hidden_dims\": 32,\n",
    "        \"depth\": 4,\n",
    "        \"activation\": 'relu',\n",
    "        \"last_activation\": None,\n",
    "        \"dropout\": 0.1,\n",
    "        \"normalization\": None,\n",
    "        \"last_normalization\": None,\n",
    "        \"residual_type\": \"none\"\n",
    "    },\n",
    "    \"graph-task-2\": {\n",
    "        \"task_level\": 'graph',\n",
    "        \"out_dim\": 4,\n",
    "        \"hidden_dims\": 32,\n",
    "        \"depth\": 2,\n",
    "        \"activation\": 'relu',\n",
    "        \"last_activation\": None,\n",
    "        \"dropout\": 0.1,\n",
    "        \"normalization\": None,\n",
    "        \"last_normalization\": None,\n",
    "        \"residual_type\": \"none\"\n",
    "    },\n",
    "    \"node-task-1\": {\n",
    "        \"task_level\": 'node',\n",
    "        \"out_dim\": 2,\n",
    "        \"hidden_dims\": 32,\n",
    "        \"depth\": 3,\n",
    "        \"activation\": 'relu',\n",
    "        \"last_activation\": None,\n",
    "        \"dropout\": 0.1,\n",
    "        \"normalization\": None,\n",
    "        \"last_normalization\": None,\n",
    "        \"residual_type\": \"none\"\n",
    "    }\n",
    "}\n",
    "\n",
    "graph_output_nn_kwargs = {\n",
    "    \"graph\": {\n",
    "        \"pooling\": ['sum'],\n",
    "        \"out_dim\": temp_dim_2,\n",
    "        \"hidden_dims\": temp_dim_2,\n",
    "        \"depth\": 1,\n",
    "        \"activation\": 'relu',\n",
    "        \"last_activation\": None,\n",
    "        \"dropout\": 0.1,\n",
    "        \"normalization\": None,\n",
    "        \"last_normalization\": None,\n",
    "        \"residual_type\": \"none\"\n",
    "    },\n",
    "    \"node\": {\n",
    "        \"pooling\": None,\n",
    "        \"out_dim\": temp_dim_2,\n",
    "        \"hidden_dims\": temp_dim_2,\n",
    "        \"depth\": 1,\n",
    "        \"activation\": 'relu',\n",
    "        \"last_activation\": None,\n",
    "        \"dropout\": 0.1,\n",
    "        \"normalization\": None,\n",
    "        \"last_normalization\": None,\n",
    "        \"residual_type\": \"none\"\n",
    "    }\n",
    "}\n",
    "    \n",
    "\n",
    "model = FullGraphMultiTaskNetwork(\n",
    "    gnn_kwargs=gnn_kwargs,\n",
    "    pre_nn_kwargs=pre_nn_kwargs, \n",
    "    task_heads_kwargs=task_heads_kwargs,\n",
    "    graph_output_nn_kwargs = graph_output_nn_kwargs\n",
    ")"
   ]
  },
  {
   "cell_type": "code",
   "execution_count": 58,
   "metadata": {},
   "outputs": [],
   "source": [
    "model.create_module_map(level=None)"
   ]
  },
  {
   "cell_type": "code",
   "execution_count": 59,
   "metadata": {},
   "outputs": [
    {
     "data": {
      "text/plain": [
       "odict_values([EncoderManager(), pre-NN(depth=2, ResidualConnectionNone)\n",
       "    [FCLayer[5 -> 4 -> 23], GNN(depth=4, ResidualConnectionSimple(skip_steps=1))\n",
       "    GCNConvPyg[23 -> 5 -> 5 -> 5 -> 17]\n",
       "    , post-NN(depth=1, ResidualConnectionNone)\n",
       "    [FCLayer[17 -> 17], post-NN(depth=1, ResidualConnectionNone)\n",
       "    [FCLayer[17 -> 17], NN-graph-task-1(depth=4, ResidualConnectionNone)\n",
       "    [FCLayer[17 -> 32 -> 32 -> 32 -> 3], NN-graph-task-2(depth=2, ResidualConnectionNone)\n",
       "    [FCLayer[17 -> 32 -> 4], NN-node-task-1(depth=2, ResidualConnectionNone)\n",
       "    [FCLayer[17 -> 32 -> 2]])"
      ]
     },
     "execution_count": 59,
     "metadata": {},
     "output_type": "execute_result"
    }
   ],
   "source": [
    "module_map = model._module_map\n",
    "module_map.values()"
   ]
  },
  {
   "cell_type": "code",
   "execution_count": 60,
   "metadata": {},
   "outputs": [],
   "source": [
    "gnn = module_map['gnn']"
   ]
  },
  {
   "cell_type": "code",
   "execution_count": 61,
   "metadata": {},
   "outputs": [
    {
     "data": {
      "text/plain": [
       "False"
      ]
     },
     "execution_count": 61,
     "metadata": {},
     "output_type": "execute_result"
    }
   ],
   "source": [
    "gnn.keep_readouts"
   ]
  },
  {
   "cell_type": "code",
   "execution_count": 62,
   "metadata": {},
   "outputs": [],
   "source": [
    "task_head = module_map['task_heads/graph-task-1']"
   ]
  },
  {
   "cell_type": "code",
   "execution_count": 63,
   "metadata": {},
   "outputs": [],
   "source": [
    "task_head._keep_readouts()"
   ]
  },
  {
   "cell_type": "code",
   "execution_count": 64,
   "metadata": {},
   "outputs": [
    {
     "name": "stdout",
     "output_type": "stream",
     "text": [
      "torch.Size([7, 5])\n",
      "\n",
      "\n",
      "FullGNN\n",
      "---------\n",
      "    pre-NN(depth=2, ResidualConnectionNone)\n",
      "        [FCLayer[5 -> 4 -> 23]\n",
      "    \n",
      "    GNN(depth=4, ResidualConnectionSimple(skip_steps=1))\n",
      "        GCNConvPyg[23 -> 5 -> 5 -> 5 -> 17]\n",
      "        \n",
      "    \n",
      "        Task heads:\n",
      "        graph-task-1: NN-graph-task-1(depth=4, ResidualConnectionNone)\n",
      "            [FCLayer[17 -> 32 -> 32 -> 32 -> 3]\n",
      "        graph-task-2: NN-graph-task-2(depth=2, ResidualConnectionNone)\n",
      "            [FCLayer[17 -> 32 -> 4]\n",
      "        node-task-1: NN-node-task-1(depth=2, ResidualConnectionNone)\n",
      "            [FCLayer[17 -> 32 -> 2]\n",
      "\n",
      "\n",
      "graph-task-1 torch.Size([2, 3])\n",
      "graph-task-2 torch.Size([2, 4])\n",
      "node-task-1 torch.Size([7, 2])\n"
     ]
    }
   ],
   "source": [
    "batch = deepcopy(bg)\n",
    "print(batch.feat.shape)\n",
    "print(\"\\n\")\n",
    "\n",
    "print(model)\n",
    "print(\"\\n\")\n",
    "\n",
    "out = model(batch)\n",
    "for task in out.keys():\n",
    "    print(task, out[task].shape)"
   ]
  },
  {
   "cell_type": "code",
   "execution_count": 53,
   "metadata": {},
   "outputs": [
    {
     "name": "stdout",
     "output_type": "stream",
     "text": [
      "torch.Size([2, 32])\n",
      "torch.Size([2, 32])\n",
      "torch.Size([2, 32])\n",
      "torch.Size([2, 3])\n"
     ]
    }
   ],
   "source": [
    "for readout in module_map['task_heads/graph-task-1'].readouts.values():\n",
    "    print(readout.shape)"
   ]
  },
  {
   "cell_type": "code",
   "execution_count": null,
   "metadata": {},
   "outputs": [],
   "source": []
  },
  {
   "cell_type": "markdown",
   "metadata": {},
   "source": [
    "## Readouts on node level\n",
    "\n",
    "Let's take as fingerprints the outputs of 2nd and 4th layer of the GNN and first two layers of TaskHead"
   ]
  },
  {
   "cell_type": "code",
   "execution_count": 72,
   "metadata": {},
   "outputs": [
    {
     "name": "stdout",
     "output_type": "stream",
     "text": [
      "GNN depth: 4\n",
      "TaskHead depth: 2\n",
      "GNN readout shapes:\n",
      "torch.Size([7, 5])\n",
      "torch.Size([7, 5])\n",
      "torch.Size([7, 5])\n",
      "torch.Size([7, 17])\n",
      "TaskHead readout shapes:\n",
      "torch.Size([7, 32])\n",
      "torch.Size([7, 2])\n"
     ]
    }
   ],
   "source": [
    "# Keep track of readouts for desired modules\n",
    "module_map['gnn']._keep_readouts()\n",
    "module_map['task_heads/node-task-1']._keep_readouts()\n",
    "\n",
    "# Run one forward pass\n",
    "batch = deepcopy(bg)\n",
    "_ = model(batch)\n",
    "\n",
    "# extract the readouts\n",
    "gnn_readouts = module_map['gnn'].readouts\n",
    "task_head_readouts = module_map['task_heads/node-task-1'].readouts\n",
    "\n",
    "print(\"GNN readout shapes:\")\n",
    "for readout in gnn_readouts.values():\n",
    "    print(readout.shape)\n",
    "\n",
    "print(\"TaskHead readout shapes:\")\n",
    "for readout in task_head_readouts.values():\n",
    "    print(readout.shape)"
   ]
  },
  {
   "cell_type": "code",
   "execution_count": 84,
   "metadata": {},
   "outputs": [],
   "source": [
    "# Create configuration of fingerprint\n",
    "config = {\n",
    "    'gnn': [1, 3],\n",
    "    'task_heads/node-task-1': [0, 1],\n",
    "}"
   ]
  },
  {
   "cell_type": "code",
   "execution_count": 99,
   "metadata": {},
   "outputs": [],
   "source": [
    "# Function for creating fingerprints \n",
    "\n",
    "def create_fingerprint(model, config, batch):\n",
    "    model.create_module_map(level=None)\n",
    "    module_map = model._module_map\n",
    "    for module_names in config.keys():\n",
    "        module_map[module_names]._keep_readouts()\n",
    "    \n",
    "    # Run one forward pass\n",
    "    _ = model(batch)\n",
    "\n",
    "    readout_list = []\n",
    "\n",
    "    for module_name, layers in config.items():\n",
    "        readout_list.extend([module_map[module_name].readouts[layer] for layer in layers])\n",
    "\n",
    "    return torch.cat(readout_list, dim=-1)"
   ]
  },
  {
   "cell_type": "code",
   "execution_count": 100,
   "metadata": {},
   "outputs": [
    {
     "name": "stdout",
     "output_type": "stream",
     "text": [
      "torch.Size([7, 86])\n"
     ]
    }
   ],
   "source": [
    "fingerprint =  create_fingerprint(model, config, deepcopy(bg))\n",
    "print(fingerprint.shape)"
   ]
  }
 ],
 "metadata": {
  "interpreter": {
   "hash": "f4a99d018a205fcbcc0480c84566beaebcb91b08d0414b39a842df533e2a1d25"
  },
  "kernelspec": {
   "display_name": "Python 3.8.8 64-bit ('goli': conda)",
   "name": "python3"
  },
  "language_info": {
   "codemirror_mode": {
    "name": "ipython",
    "version": 3
   },
   "file_extension": ".py",
   "mimetype": "text/x-python",
   "name": "python",
   "nbconvert_exporter": "python",
   "pygments_lexer": "ipython3",
   "version": "3.10.12"
  },
  "widgets": {
   "application/vnd.jupyter.widget-state+json": {
    "state": {},
    "version_major": 2,
    "version_minor": 0
   }
  }
 },
 "nbformat": 4,
 "nbformat_minor": 4
}
