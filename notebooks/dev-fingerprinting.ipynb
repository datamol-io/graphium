{
 "cells": [
  {
   "cell_type": "markdown",
   "metadata": {},
   "source": [
    "# Fingerprinting"
   ]
  },
  {
   "cell_type": "code",
   "execution_count": 1,
   "metadata": {},
   "outputs": [],
   "source": [
    "%load_ext autoreload\n",
    "%autoreload 2\n",
    "\n",
    "import torch\n",
    "from copy import deepcopy\n",
    "\n",
    "from torch_geometric.data import Data, Batch\n",
    "\n",
    "from graphium.nn.architectures import FullGraphMultiTaskNetwork\n",
    "\n",
    "_ = torch.manual_seed(42)"
   ]
  },
  {
   "cell_type": "markdown",
   "metadata": {},
   "source": [
    "## Define batch"
   ]
  },
  {
   "cell_type": "code",
   "execution_count": 2,
   "metadata": {},
   "outputs": [
    {
     "name": "stdout",
     "output_type": "stream",
     "text": [
      "DataBatch(edge_index=[2, 7], feat=[7, 5], edge_feat=[7, 13], batch=[7], ptr=[3])\n"
     ]
    }
   ],
   "source": [
    "in_dim = 5          # Input node-feature dimensions\n",
    "in_dim_edges = 13   # Input edge-feature dimensions\n",
    "out_dim = 11        # Desired output node-feature dimensions\n",
    "\n",
    "\n",
    "# Let's create 2 simple pyg graphs. \n",
    "# start by specifying the edges with edge index\n",
    "edge_idx1 = torch.tensor([[0, 1, 2],\n",
    "                          [1, 2, 3]])\n",
    "edge_idx2 = torch.tensor([[2, 0, 0, 1],\n",
    "                          [0, 1, 2, 0]])\n",
    "\n",
    "# specify the node features, convention with variable x\n",
    "x1 = torch.randn(edge_idx1.max() + 1, in_dim, dtype=torch.float32)\n",
    "x2 = torch.randn(edge_idx2.max() + 1, in_dim, dtype=torch.float32)\n",
    "\n",
    "# specify the edge features in e\n",
    "e1 = torch.randn(edge_idx1.shape[-1], in_dim_edges, dtype=torch.float32)\n",
    "e2 = torch.randn(edge_idx2.shape[-1], in_dim_edges, dtype=torch.float32)\n",
    "\n",
    "# make the pyg graph objects with our constructed features\n",
    "g1 = Data(feat=x1, edge_index=edge_idx1, edge_feat=e1)\n",
    "g2 = Data(feat=x2, edge_index=edge_idx2, edge_feat=e2)\n",
    "\n",
    "# put the two graphs into a Batch graph\n",
    "bg = Batch.from_data_list([g1, g2])\n",
    "\n",
    "# The batched graph will show as a single graph with 7 nodes\n",
    "print(bg)\n"
   ]
  },
  {
   "cell_type": "markdown",
   "metadata": {},
   "source": [
    "## Define model"
   ]
  },
  {
   "cell_type": "code",
   "execution_count": 3,
   "metadata": {},
   "outputs": [],
   "source": [
    "temp_dim_1 = 23\n",
    "temp_dim_2 = 17\n",
    "\n",
    "pre_nn_kwargs = {\n",
    "    \"in_dim\": in_dim,\n",
    "    \"out_dim\": temp_dim_1,\n",
    "    \"hidden_dims\": 4,\n",
    "    \"depth\": 2,\n",
    "    \"activation\": 'relu',\n",
    "    \"last_activation\": \"none\",\n",
    "    \"dropout\": 0.2\n",
    "}\n",
    "\n",
    "gnn_kwargs = {\n",
    "    \"in_dim\": temp_dim_1,\n",
    "    \"out_dim\": temp_dim_2,\n",
    "    \"hidden_dims\": 5,\n",
    "    \"depth\": 4,\n",
    "    \"activation\": 'gelu',\n",
    "    \"last_activation\": None,\n",
    "    \"dropout\": 0.1,\n",
    "    \"normalization\": 'layer_norm',\n",
    "    \"last_normalization\": 'layer_norm',\n",
    "    \"residual_type\": 'simple',\n",
    "    \"virtual_node\": None,\n",
    "    \"layer_type\": 'pyg:gcn',\n",
    "    \"layer_kwargs\": None\n",
    "}\n",
    "\n",
    "task_heads_kwargs = {\n",
    "    \"graph-task-1\": {\n",
    "        \"task_level\": 'graph',\n",
    "        \"out_dim\": 3,\n",
    "        \"hidden_dims\": 32,\n",
    "        \"depth\": 4,\n",
    "        \"activation\": 'relu',\n",
    "        \"last_activation\": None,\n",
    "        \"dropout\": 0.1,\n",
    "        \"normalization\": None,\n",
    "        \"last_normalization\": None,\n",
    "        \"residual_type\": \"none\"\n",
    "    },\n",
    "    \"graph-task-2\": {\n",
    "        \"task_level\": 'graph',\n",
    "        \"out_dim\": 4,\n",
    "        \"hidden_dims\": 32,\n",
    "        \"depth\": 2,\n",
    "        \"activation\": 'relu',\n",
    "        \"last_activation\": None,\n",
    "        \"dropout\": 0.1,\n",
    "        \"normalization\": None,\n",
    "        \"last_normalization\": None,\n",
    "        \"residual_type\": \"none\"\n",
    "    },\n",
    "    \"node-task-1\": {\n",
    "        \"task_level\": 'node',\n",
    "        \"out_dim\": 2,\n",
    "        \"hidden_dims\": 32,\n",
    "        \"depth\": 3,\n",
    "        \"activation\": 'relu',\n",
    "        \"last_activation\": None,\n",
    "        \"dropout\": 0.1,\n",
    "        \"normalization\": None,\n",
    "        \"last_normalization\": None,\n",
    "        \"residual_type\": \"none\"\n",
    "    }\n",
    "}\n",
    "\n",
    "graph_output_nn_kwargs = {\n",
    "    \"graph\": {\n",
    "        \"pooling\": ['sum'],\n",
    "        \"out_dim\": temp_dim_2,\n",
    "        \"hidden_dims\": temp_dim_2,\n",
    "        \"depth\": 1,\n",
    "        \"activation\": 'relu',\n",
    "        \"last_activation\": None,\n",
    "        \"dropout\": 0.1,\n",
    "        \"normalization\": None,\n",
    "        \"last_normalization\": None,\n",
    "        \"residual_type\": \"none\"\n",
    "    },\n",
    "    \"node\": {\n",
    "        \"pooling\": None,\n",
    "        \"out_dim\": temp_dim_2,\n",
    "        \"hidden_dims\": temp_dim_2,\n",
    "        \"depth\": 1,\n",
    "        \"activation\": 'relu',\n",
    "        \"last_activation\": None,\n",
    "        \"dropout\": 0.1,\n",
    "        \"normalization\": None,\n",
    "        \"last_normalization\": None,\n",
    "        \"residual_type\": \"none\"\n",
    "    }\n",
    "}\n",
    "    \n",
    "\n",
    "model = FullGraphMultiTaskNetwork(\n",
    "    gnn_kwargs=gnn_kwargs,\n",
    "    pre_nn_kwargs=pre_nn_kwargs, \n",
    "    task_heads_kwargs=task_heads_kwargs,\n",
    "    graph_output_nn_kwargs = graph_output_nn_kwargs\n",
    ")"
   ]
  },
  {
   "cell_type": "code",
   "execution_count": 4,
   "metadata": {},
   "outputs": [],
   "source": [
    "# Create the module map to navigate the modules\n",
    "model.create_module_map(level=\"module\")\n",
    "module_map = model._module_map"
   ]
  },
  {
   "cell_type": "markdown",
   "metadata": {},
   "source": [
    "## Fingerprints on graph level\n",
    "\n",
    "Let's take as fingerprints the outputs of a TaskHead"
   ]
  },
  {
   "cell_type": "code",
   "execution_count": 5,
   "metadata": {},
   "outputs": [
    {
     "name": "stdout",
     "output_type": "stream",
     "text": [
      "TaskHead depth: 4\n",
      "TaskHead readout shapes:\n",
      "torch.Size([2, 32])\n",
      "torch.Size([2, 32])\n",
      "torch.Size([2, 32])\n",
      "torch.Size([2, 3])\n"
     ]
    }
   ],
   "source": [
    "# How many layers per module?\n",
    "print(\"TaskHead depth:\", module_map['task_heads/graph-task-1'].depth)\n",
    "\n",
    "# Keep track of readouts for desired modules\n",
    "module_map['task_heads/graph-task-1']._keep_readouts()\n",
    "\n",
    "# Run one forward pass\n",
    "batch = deepcopy(bg)\n",
    "_ = model(batch)\n",
    "\n",
    "# Extract the readouts\n",
    "task_head_readouts = module_map['task_heads/graph-task-1'].readouts\n",
    "\n",
    "print(\"TaskHead readout shapes:\")\n",
    "for readout in task_head_readouts.values():\n",
    "    print(readout.shape)"
   ]
  },
  {
   "cell_type": "markdown",
   "metadata": {},
   "source": [
    "## Fingerprints on node level\n",
    "\n",
    "Let's take as fingerprints the outputs of 2nd and 4th layer of the GNN and first two layers of a TaskHead"
   ]
  },
  {
   "cell_type": "code",
   "execution_count": 6,
   "metadata": {},
   "outputs": [
    {
     "name": "stdout",
     "output_type": "stream",
     "text": [
      "GNN depth: 4\n",
      "TaskHead depth: 3\n",
      "GNN readout shapes:\n",
      "torch.Size([7, 5])\n",
      "torch.Size([7, 5])\n",
      "torch.Size([7, 5])\n",
      "torch.Size([7, 17])\n",
      "TaskHead readout shapes:\n",
      "torch.Size([7, 32])\n",
      "torch.Size([7, 32])\n",
      "torch.Size([7, 2])\n"
     ]
    }
   ],
   "source": [
    "# How many layers per module?\n",
    "print(\"GNN depth:\", module_map['gnn'].depth)\n",
    "print(\"TaskHead depth:\", module_map['task_heads/node-task-1'].depth)\n",
    "\n",
    "# Keep track of readouts for desired modules\n",
    "module_map['gnn']._keep_readouts()\n",
    "module_map['task_heads/node-task-1']._keep_readouts()\n",
    "\n",
    "# Run one forward pass\n",
    "batch = deepcopy(bg)\n",
    "_ = model(batch)\n",
    "\n",
    "# Extract the readouts\n",
    "gnn_readouts = module_map['gnn'].readouts\n",
    "task_head_readouts = module_map['task_heads/node-task-1'].readouts\n",
    "\n",
    "print(\"GNN readout shapes:\")\n",
    "for readout in gnn_readouts.values():\n",
    "    print(readout.shape)\n",
    "\n",
    "print(\"TaskHead readout shapes:\")\n",
    "for readout in task_head_readouts.values():\n",
    "    print(readout.shape)"
   ]
  },
  {
   "cell_type": "code",
   "execution_count": 7,
   "metadata": {},
   "outputs": [],
   "source": [
    "# Create configuration of fingerprint\n",
    "config = {\n",
    "    'gnn': [1, 3],\n",
    "    'task_heads/node-task-1': [0, 1],\n",
    "}"
   ]
  },
  {
   "cell_type": "code",
   "execution_count": 8,
   "metadata": {},
   "outputs": [],
   "source": [
    "# Function for creating fingerprints \n",
    "def create_fingerprint(model, config, batch):\n",
    "    model.create_module_map(level=None)\n",
    "    module_map = model._module_map\n",
    "    for module_names in config.keys():\n",
    "        module_map[module_names]._keep_readouts()\n",
    "    \n",
    "    # Run one forward pass\n",
    "    _ = model(batch)\n",
    "\n",
    "    readout_list = []\n",
    "\n",
    "    for module_name, layers in config.items():\n",
    "        readout_list.extend([module_map[module_name].readouts[layer] for layer in layers])\n",
    "\n",
    "    return torch.cat(readout_list, dim=-1), readout_list"
   ]
  },
  {
   "cell_type": "code",
   "execution_count": 9,
   "metadata": {},
   "outputs": [
    {
     "name": "stdout",
     "output_type": "stream",
     "text": [
      "torch.Size([7, 86])\n"
     ]
    }
   ],
   "source": [
    "# Create the fingerprint\n",
    "fingerprint, r =  create_fingerprint(model, config, deepcopy(bg))\n",
    "print(fingerprint.shape)"
   ]
  },
  {
   "cell_type": "code",
   "execution_count": null,
   "metadata": {},
   "outputs": [],
   "source": []
  }
 ],
 "metadata": {
  "interpreter": {
   "hash": "f4a99d018a205fcbcc0480c84566beaebcb91b08d0414b39a842df533e2a1d25"
  },
  "kernelspec": {
   "display_name": "Python 3.8.8 64-bit ('goli': conda)",
   "name": "python3"
  },
  "language_info": {
   "codemirror_mode": {
    "name": "ipython",
    "version": 3
   },
   "file_extension": ".py",
   "mimetype": "text/x-python",
   "name": "python",
   "nbconvert_exporter": "python",
   "pygments_lexer": "ipython3",
   "version": "3.10.12"
  },
  "widgets": {
   "application/vnd.jupyter.widget-state+json": {
    "state": {},
    "version_major": 2,
    "version_minor": 0
   }
  }
 },
 "nbformat": 4,
 "nbformat_minor": 4
}
