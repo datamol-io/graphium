{
 "cells": [
  {
   "cell_type": "code",
   "execution_count": 1,
   "id": "55ab828f",
   "metadata": {},
   "outputs": [],
   "source": [
    "%load_ext autoreload\n",
    "%autoreload 2"
   ]
  },
  {
   "cell_type": "code",
   "execution_count": 2,
   "id": "07e0ed51",
   "metadata": {},
   "outputs": [],
   "source": [
    "import yaml\n",
    "import omegaconf\n",
    "from datetime import datetime\n",
    "\n",
    "from typing import Union, List\n",
    "from copy import deepcopy\n",
    "from tdc.utils import retrieve_benchmark_names\n",
    "\n",
    "from graphium.config._loader import (\n",
    "    load_datamodule,\n",
    "    load_metrics,\n",
    "    load_architecture,\n",
    "    load_predictor,\n",
    "    load_trainer,\n",
    "    save_params_to_wandb,\n",
    "    load_accelerator,\n",
    "    load_yaml_config,\n",
    ")"
   ]
  },
  {
   "cell_type": "markdown",
   "id": "fba4e4dc",
   "metadata": {},
   "source": [
    "# Fine-tuning on the TDC ADMET benchmarking group\n",
    "\n",
    "[TDC](https://tdcommons.ai/) hosts a variety of ML-ready datasets and benchmarks for ML for drug discovery. The [TDC ADMET benchmarking group](https://tdcommons.ai/benchmark/admet_group/overview/) is a popular collection of benchmarks for evaluating new _foundation models_ (see e.g. [MolE](https://arxiv.org/abs/2211.02657)) due to the variety and relevance of the included tasks.\n",
    "\n",
    "The ADMET benchmarking group is integrated in `graphium` through the `TDCBenchmarkDataModule` data-module. This notebook shows how to easily fine-tune and test a model using that data-module. \n",
    "\n",
    "<div style=\"background-color: #fff3cd; border-radius: 10px; border-color: #ffeeba; padding: 20px; margin: 20px 0;  color: #856404\">\n",
    "    <b>NOTE:</b> This notebook is still <i>work in progress</i>. While the <b>fine-tuning logic is unfinished</b>, the notebook does demo how one could use the data-module to easily loop over each of the datasets in the benchmarking group and get the prescribed train-test split. Once the fine-tuning logic is finalized, we will finish this notebook and officially provide it as a tutorial within Graphium. \n",
    "</div>"
   ]
  },
  {
   "cell_type": "code",
   "execution_count": 3,
   "id": "4d5af838",
   "metadata": {},
   "outputs": [
    {
     "ename": "FileNotFoundError",
     "evalue": "[Errno 2] No such file or directory: '../expts/configs/config_tdc_admet_demo.yaml'",
     "output_type": "error",
     "traceback": [
      "\u001b[0;31m---------------------------------------------------------------------------\u001b[0m",
      "\u001b[0;31mFileNotFoundError\u001b[0m                         Traceback (most recent call last)",
      "Cell \u001b[0;32mIn[3], line 2\u001b[0m\n\u001b[1;32m      1\u001b[0m \u001b[38;5;66;03m# First, let's read the yaml configuration file\u001b[39;00m\n\u001b[0;32m----> 2\u001b[0m \u001b[38;5;28;01mwith\u001b[39;00m \u001b[38;5;28;43mopen\u001b[39;49m\u001b[43m(\u001b[49m\u001b[38;5;124;43m\"\u001b[39;49m\u001b[38;5;124;43m../expts/configs/config_tdc_admet_demo.yaml\u001b[39;49m\u001b[38;5;124;43m\"\u001b[39;49m\u001b[43m,\u001b[49m\u001b[43m \u001b[49m\u001b[38;5;124;43m\"\u001b[39;49m\u001b[38;5;124;43mr\u001b[39;49m\u001b[38;5;124;43m\"\u001b[39;49m\u001b[43m)\u001b[49m \u001b[38;5;28;01mas\u001b[39;00m file:\n\u001b[1;32m      3\u001b[0m     config \u001b[38;5;241m=\u001b[39m yaml\u001b[38;5;241m.\u001b[39mload(file, Loader\u001b[38;5;241m=\u001b[39myaml\u001b[38;5;241m.\u001b[39mFullLoader)\n",
      "File \u001b[0;32m~/miniconda3/envs/graphium3/lib/python3.12/site-packages/IPython/core/interactiveshell.py:324\u001b[0m, in \u001b[0;36m_modified_open\u001b[0;34m(file, *args, **kwargs)\u001b[0m\n\u001b[1;32m    317\u001b[0m \u001b[38;5;28;01mif\u001b[39;00m file \u001b[38;5;129;01min\u001b[39;00m {\u001b[38;5;241m0\u001b[39m, \u001b[38;5;241m1\u001b[39m, \u001b[38;5;241m2\u001b[39m}:\n\u001b[1;32m    318\u001b[0m     \u001b[38;5;28;01mraise\u001b[39;00m \u001b[38;5;167;01mValueError\u001b[39;00m(\n\u001b[1;32m    319\u001b[0m         \u001b[38;5;124mf\u001b[39m\u001b[38;5;124m\"\u001b[39m\u001b[38;5;124mIPython won\u001b[39m\u001b[38;5;124m'\u001b[39m\u001b[38;5;124mt let you open fd=\u001b[39m\u001b[38;5;132;01m{\u001b[39;00mfile\u001b[38;5;132;01m}\u001b[39;00m\u001b[38;5;124m by default \u001b[39m\u001b[38;5;124m\"\u001b[39m\n\u001b[1;32m    320\u001b[0m         \u001b[38;5;124m\"\u001b[39m\u001b[38;5;124mas it is likely to crash IPython. If you know what you are doing, \u001b[39m\u001b[38;5;124m\"\u001b[39m\n\u001b[1;32m    321\u001b[0m         \u001b[38;5;124m\"\u001b[39m\u001b[38;5;124myou can use builtins\u001b[39m\u001b[38;5;124m'\u001b[39m\u001b[38;5;124m open.\u001b[39m\u001b[38;5;124m\"\u001b[39m\n\u001b[1;32m    322\u001b[0m     )\n\u001b[0;32m--> 324\u001b[0m \u001b[38;5;28;01mreturn\u001b[39;00m \u001b[43mio_open\u001b[49m\u001b[43m(\u001b[49m\u001b[43mfile\u001b[49m\u001b[43m,\u001b[49m\u001b[43m \u001b[49m\u001b[38;5;241;43m*\u001b[39;49m\u001b[43margs\u001b[49m\u001b[43m,\u001b[49m\u001b[43m \u001b[49m\u001b[38;5;241;43m*\u001b[39;49m\u001b[38;5;241;43m*\u001b[39;49m\u001b[43mkwargs\u001b[49m\u001b[43m)\u001b[49m\n",
      "\u001b[0;31mFileNotFoundError\u001b[0m: [Errno 2] No such file or directory: '../expts/configs/config_tdc_admet_demo.yaml'"
     ]
    }
   ],
   "source": [
    "# First, let's read the yaml configuration file\n",
    "with open(\"../expts/configs/config_tdc_admet_demo.yaml\", \"r\") as file:\n",
    "    config = yaml.load(file, Loader=yaml.FullLoader)"
   ]
  },
  {
   "cell_type": "markdown",
   "id": "7b2047a3",
   "metadata": {},
   "source": [
    "## Get all TDC benchmark names"
   ]
  },
  {
   "cell_type": "code",
   "execution_count": 4,
   "id": "faa5d4b4",
   "metadata": {},
   "outputs": [
    {
     "data": {
      "text/plain": [
       "22"
      ]
     },
     "execution_count": 4,
     "metadata": {},
     "output_type": "execute_result"
    }
   ],
   "source": [
    "benchmarks = retrieve_benchmark_names(\"admet_group\")\n",
    "len(benchmarks)"
   ]
  },
  {
   "cell_type": "markdown",
   "id": "f80de284",
   "metadata": {},
   "source": [
    "While there is a total of 22, let's just use two for practicality sake: One regression and one classification task! "
   ]
  },
  {
   "cell_type": "code",
   "execution_count": 5,
   "id": "3ac3c111",
   "metadata": {},
   "outputs": [],
   "source": [
    "benchmarks = [\"caco2_wang\", \"hia_hou\"]"
   ]
  },
  {
   "cell_type": "markdown",
   "id": "3643aa30",
   "metadata": {},
   "source": [
    "## Initialize all training components per task\n",
    "**NOTE**: Since we do not have fine-tuning logic, this for now just creates a new model. Ultimately, we will want to use fine-tuning code to evaluate how well the pre-trained model transfers to downstream tasks. "
   ]
  },
  {
   "cell_type": "code",
   "execution_count": 4,
   "id": "9538abfb",
   "metadata": {},
   "outputs": [],
   "source": [
    "def training_testing_loop(cfg):\n",
    "    \"\"\"\n",
    "    Simple loop to train a model from scratch and test it. \n",
    "    \"\"\"\n",
    "    \n",
    "    # Initialize object from config\n",
    "    cfg, accelerator_type = load_accelerator(cfg)\n",
    "    datamodule = load_datamodule(cfg, accelerator_type)\n",
    "    model_class, model_kwargs = load_architecture(cfg, in_dims=datamodule.in_dims)\n",
    "    metrics = load_metrics(cfg)\n",
    "    \n",
    "    # Prepare data\n",
    "    datamodule.prepare_data()\n",
    "    \n",
    "    # Initialize the predictor\n",
    "    predictor = load_predictor(\n",
    "        cfg,\n",
    "        model_class,\n",
    "        model_kwargs,\n",
    "        metrics,\n",
    "        datamodule.get_task_levels(),\n",
    "        accelerator_type,\n",
    "        datamodule.featurization,\n",
    "        datamodule.task_norms\n",
    "    )\n",
    "    \n",
    "    # Initialize the trainer\n",
    "    date_time_suffix = datetime.now().strftime(\"%d.%m.%Y_%H.%M.%S\")\n",
    "    trainer = load_trainer(cfg, \"tdc-admet\", accelerator_type, date_time_suffix)\n",
    "        \n",
    "    # Train\n",
    "    predictor.set_max_nodes_edges_per_graph(datamodule, stages=[\"train\", \"val\"])\n",
    "    trainer.fit(model=predictor, datamodule=datamodule)\n",
    "    \n",
    "    # Test\n",
    "    predictor.set_max_nodes_edges_per_graph(datamodule, stages=[\"test\"])\n",
    "    results = trainer.test(model=predictor, datamodule=datamodule)\n",
    "    \n",
    "    return results\n"
   ]
  },
  {
   "cell_type": "code",
   "execution_count": 5,
   "id": "1ee4586e",
   "metadata": {},
   "outputs": [],
   "source": [
    "def filter_cfg_based_on_benchmark_name(config, names: Union[List[str], str]):\n",
    "    \"\"\"\n",
    "    Filter a base config for the full TDC ADMET benchmarking group to only \n",
    "    have settings related to a subset of the endpoints\n",
    "    \"\"\"\n",
    "    \n",
    "    if config[\"datamodule\"][\"module_type\"] != \"TDCBenchmarkDataModule\":\n",
    "        raise ValueError(\"You can only use this method for the `TDCBenchmarkDataModule`\")\n",
    "        \n",
    "    if isinstance(names, str):\n",
    "        names = [names]\n",
    "    \n",
    "    def _filter(d):\n",
    "        return {k: v for k, v in d.items() if k in names}\n",
    "         \n",
    "    cfg = deepcopy(config)\n",
    "    \n",
    "    # Update the datamodule arguments\n",
    "    cfg[\"datamodule\"][\"args\"][\"tdc_benchmark_names\"] = names\n",
    "    \n",
    "    # Filter the relevant config sections\n",
    "    cfg[\"architecture\"][\"task_heads\"] = _filter(cfg[\"architecture\"][\"task_heads\"])\n",
    "    cfg[\"predictor\"][\"metrics_on_progress_bar\"] = _filter(cfg[\"predictor\"][\"metrics_on_progress_bar\"])\n",
    "    cfg[\"predictor\"][\"loss_fun\"] = _filter(cfg[\"predictor\"][\"loss_fun\"])\n",
    "    cfg[\"metrics\"] = _filter(cfg[\"metrics\"])\n",
    "    \n",
    "    return cfg"
   ]
  },
  {
   "cell_type": "code",
   "execution_count": 8,
   "id": "96bc606a",
   "metadata": {},
   "outputs": [
    {
     "name": "stderr",
     "output_type": "stream",
     "text": [
      "\u001b[32m2023-07-13 14:02:22.438\u001b[0m | \u001b[1mINFO    \u001b[0m | \u001b[36mgraphium.data.datamodule\u001b[0m:\u001b[36m__init__\u001b[0m:\u001b[36m2425\u001b[0m - \u001b[1mPreparing the TDC ADMET Benchmark Group splits for each of the 1 benchmarks.\u001b[0m\n",
      "\u001b[34m\u001b[1mwandb\u001b[0m: Currently logged in as: \u001b[33mcwognum\u001b[0m (\u001b[33mvalence-ood\u001b[0m). Use \u001b[1m`wandb login --relogin`\u001b[0m to force relogin\n",
      "\u001b[34m\u001b[1mwandb\u001b[0m: \u001b[33mWARNING\u001b[0m Path logs/tdc-admet-demo/wandb/ wasn't writable, using system temp directory.\n",
      "wandb: WARNING Path logs/tdc-admet-demo/wandb/ wasn't writable, using system temp directory\n"
     ]
    },
    {
     "data": {
      "text/html": [
       "Tracking run with wandb version 0.15.5"
      ],
      "text/plain": [
       "<IPython.core.display.HTML object>"
      ]
     },
     "metadata": {},
     "output_type": "display_data"
    },
    {
     "data": {
      "text/html": [
       "Run data is saved locally in <code>/tmp/wandb/run-20230713_140223-iablpj4z</code>"
      ],
      "text/plain": [
       "<IPython.core.display.HTML object>"
      ]
     },
     "metadata": {},
     "output_type": "display_data"
    },
    {
     "data": {
      "text/html": [
       "Syncing run <strong><a href='https://wandb.ai/valence-ood/tdc_admet_demo/runs/iablpj4z' target=\"_blank\">tdc_admet_demo_13.07.2023_14.02.22</a></strong> to <a href='https://wandb.ai/valence-ood/tdc_admet_demo' target=\"_blank\">Weights & Biases</a> (<a href='https://wandb.me/run' target=\"_blank\">docs</a>)<br/>"
      ],
      "text/plain": [
       "<IPython.core.display.HTML object>"
      ]
     },
     "metadata": {},
     "output_type": "display_data"
    },
    {
     "data": {
      "text/html": [
       " View project at <a href='https://wandb.ai/valence-ood/tdc_admet_demo' target=\"_blank\">https://wandb.ai/valence-ood/tdc_admet_demo</a>"
      ],
      "text/plain": [
       "<IPython.core.display.HTML object>"
      ]
     },
     "metadata": {},
     "output_type": "display_data"
    },
    {
     "data": {
      "text/html": [
       " View run at <a href='https://wandb.ai/valence-ood/tdc_admet_demo/runs/iablpj4z' target=\"_blank\">https://wandb.ai/valence-ood/tdc_admet_demo/runs/iablpj4z</a>"
      ],
      "text/plain": [
       "<IPython.core.display.HTML object>"
      ]
     },
     "metadata": {},
     "output_type": "display_data"
    },
    {
     "name": "stderr",
     "output_type": "stream",
     "text": [
      "GPU available: True (cuda), used: True\n",
      "TPU available: False, using: 0 TPU cores\n",
      "IPU available: False, using: 0 IPUs\n",
      "HPU available: False, using: 0 HPUs\n",
      "\u001b[32m2023-07-13 14:02:28.065\u001b[0m | \u001b[1mINFO    \u001b[0m | \u001b[36mgraphium.data.datamodule\u001b[0m:\u001b[36msetup\u001b[0m:\u001b[36m1168\u001b[0m - \u001b[1m-------------------\n",
      "MultitaskDataset\n",
      "\tabout = training set\n",
      "\tnum_graphs_total = 634\n",
      "\tnum_nodes_total = 18351\n",
      "\tmax_num_nodes_per_graph = 67\n",
      "\tmin_num_nodes_per_graph = 2\n",
      "\tstd_num_nodes_per_graph = 11.441048173903344\n",
      "\tmean_num_nodes_per_graph = 28.944794952681388\n",
      "\tnum_edges_total = 39466\n",
      "\tmax_num_edges_per_graph = 144\n",
      "\tmin_num_edges_per_graph = 2\n",
      "\tstd_num_edges_per_graph = 25.32877270037731\n",
      "\tmean_num_edges_per_graph = 62.24921135646688\n",
      "-------------------\n",
      "\u001b[0m\n",
      "\u001b[32m2023-07-13 14:02:28.065\u001b[0m | \u001b[1mINFO    \u001b[0m | \u001b[36mgraphium.data.datamodule\u001b[0m:\u001b[36msetup\u001b[0m:\u001b[36m1169\u001b[0m - \u001b[1m-------------------\n",
      "MultitaskDataset\n",
      "\tabout = validation set\n",
      "\tnum_graphs_total = 91\n",
      "\tnum_nodes_total = 2791\n",
      "\tmax_num_nodes_per_graph = 67\n",
      "\tmin_num_nodes_per_graph = 13\n",
      "\tstd_num_nodes_per_graph = 11.461406761225364\n",
      "\tmean_num_nodes_per_graph = 30.67032967032967\n",
      "\tnum_edges_total = 6034\n",
      "\tmax_num_edges_per_graph = 148\n",
      "\tmin_num_edges_per_graph = 28\n",
      "\tstd_num_edges_per_graph = 25.619228830769817\n",
      "\tmean_num_edges_per_graph = 66.3076923076923\n",
      "-------------------\n",
      "\u001b[0m\n",
      "\u001b[32m2023-07-13 14:02:28.066\u001b[0m | \u001b[1mINFO    \u001b[0m | \u001b[36mgraphium.data.datamodule\u001b[0m:\u001b[36msetup\u001b[0m:\u001b[36m1186\u001b[0m - \u001b[1m-------------------\n",
      "MultitaskDataset\n",
      "\tabout = test set\n",
      "\tnum_graphs_total = 181\n",
      "\tnum_nodes_total = 5503\n",
      "\tmax_num_nodes_per_graph = 68\n",
      "\tmin_num_nodes_per_graph = 8\n",
      "\tstd_num_nodes_per_graph = 9.244248028261115\n",
      "\tmean_num_nodes_per_graph = 30.403314917127073\n",
      "\tnum_edges_total = 11736\n",
      "\tmax_num_edges_per_graph = 144\n",
      "\tmin_num_edges_per_graph = 16\n",
      "\tstd_num_edges_per_graph = 19.961337435561646\n",
      "\tmean_num_edges_per_graph = 64.83977900552486\n",
      "-------------------\n",
      "\u001b[0m\n",
      "\u001b[32m2023-07-13 14:02:28.066\u001b[0m | \u001b[1mINFO    \u001b[0m | \u001b[36mgraphium.data.datamodule\u001b[0m:\u001b[36mget_max_num_nodes_datamodule\u001b[0m:\u001b[36m556\u001b[0m - \u001b[1mMax num nodes being calcuated train\u001b[0m\n",
      "\u001b[32m2023-07-13 14:02:28.067\u001b[0m | \u001b[1mINFO    \u001b[0m | \u001b[36mgraphium.data.datamodule\u001b[0m:\u001b[36mget_max_num_nodes_datamodule\u001b[0m:\u001b[36m565\u001b[0m - \u001b[1mMax num nodes being calcuated val\u001b[0m\n",
      "\u001b[32m2023-07-13 14:02:28.067\u001b[0m | \u001b[1mINFO    \u001b[0m | \u001b[36mgraphium.data.datamodule\u001b[0m:\u001b[36mprepare_data\u001b[0m:\u001b[36m943\u001b[0m - \u001b[1mData is already prepared. Skipping the preparation\u001b[0m\n",
      "You are using a CUDA device ('NVIDIA GeForce RTX 3070') that has Tensor Cores. To properly utilize them, you should set `torch.set_float32_matmul_precision('medium' | 'high')` which will trade-off precision for performance. For more details, read https://pytorch.org/docs/stable/generated/torch.set_float32_matmul_precision.html#torch.set_float32_matmul_precision\n",
      "\u001b[32m2023-07-13 14:02:28.069\u001b[0m | \u001b[1mINFO    \u001b[0m | \u001b[36mgraphium.data.datamodule\u001b[0m:\u001b[36msetup\u001b[0m:\u001b[36m1168\u001b[0m - \u001b[1m-------------------\n",
      "MultitaskDataset\n",
      "\tabout = training set\n",
      "\tnum_graphs_total = 634\n",
      "\tnum_nodes_total = 18351\n",
      "\tmax_num_nodes_per_graph = 67\n",
      "\tmin_num_nodes_per_graph = 2\n",
      "\tstd_num_nodes_per_graph = 11.441048173903344\n",
      "\tmean_num_nodes_per_graph = 28.944794952681388\n",
      "\tnum_edges_total = 39466\n",
      "\tmax_num_edges_per_graph = 144\n",
      "\tmin_num_edges_per_graph = 2\n",
      "\tstd_num_edges_per_graph = 25.32877270037731\n",
      "\tmean_num_edges_per_graph = 62.24921135646688\n",
      "-------------------\n",
      "\u001b[0m\n",
      "\u001b[32m2023-07-13 14:02:28.069\u001b[0m | \u001b[1mINFO    \u001b[0m | \u001b[36mgraphium.data.datamodule\u001b[0m:\u001b[36msetup\u001b[0m:\u001b[36m1169\u001b[0m - \u001b[1m-------------------\n",
      "MultitaskDataset\n",
      "\tabout = validation set\n",
      "\tnum_graphs_total = 91\n",
      "\tnum_nodes_total = 2791\n",
      "\tmax_num_nodes_per_graph = 67\n",
      "\tmin_num_nodes_per_graph = 13\n",
      "\tstd_num_nodes_per_graph = 11.461406761225364\n",
      "\tmean_num_nodes_per_graph = 30.67032967032967\n",
      "\tnum_edges_total = 6034\n",
      "\tmax_num_edges_per_graph = 148\n",
      "\tmin_num_edges_per_graph = 28\n",
      "\tstd_num_edges_per_graph = 25.619228830769817\n",
      "\tmean_num_edges_per_graph = 66.3076923076923\n",
      "-------------------\n",
      "\u001b[0m\n",
      "LOCAL_RANK: 0 - CUDA_VISIBLE_DEVICES: [0]\n",
      "\n",
      "  | Name  | Type                      | Params\n",
      "----------------------------------------------------\n",
      "0 | model | FullGraphMultiTaskNetwork | 111 K \n",
      "----------------------------------------------------\n",
      "111 K     Trainable params\n",
      "0         Non-trainable params\n",
      "111 K     Total params\n",
      "0.448     Total estimated model params size (MB)\n"
     ]
    },
    {
     "data": {
      "application/vnd.jupyter.widget-view+json": {
       "model_id": "",
       "version_major": 2,
       "version_minor": 0
      },
      "text/plain": [
       "Sanity Checking: 0it [00:00, ?it/s]"
      ]
     },
     "metadata": {},
     "output_type": "display_data"
    },
    {
     "data": {
      "application/vnd.jupyter.widget-view+json": {
       "model_id": "a99952d7025f418bae86c250887d7b60",
       "version_major": 2,
       "version_minor": 0
      },
      "text/plain": [
       "Training: 0it [00:00, ?it/s]"
      ]
     },
     "metadata": {},
     "output_type": "display_data"
    },
    {
     "name": "stderr",
     "output_type": "stream",
     "text": [
      "`Trainer.fit` stopped: `max_epochs=10` reached.\n",
      "\u001b[32m2023-07-13 14:02:49.408\u001b[0m | \u001b[1mINFO    \u001b[0m | \u001b[36mgraphium.data.datamodule\u001b[0m:\u001b[36msetup\u001b[0m:\u001b[36m1168\u001b[0m - \u001b[1m-------------------\n",
      "MultitaskDataset\n",
      "\tabout = training set\n",
      "\tnum_graphs_total = 634\n",
      "\tnum_nodes_total = 18351\n",
      "\tmax_num_nodes_per_graph = 67\n",
      "\tmin_num_nodes_per_graph = 2\n",
      "\tstd_num_nodes_per_graph = 11.441048173903344\n",
      "\tmean_num_nodes_per_graph = 28.944794952681388\n",
      "\tnum_edges_total = 39466\n",
      "\tmax_num_edges_per_graph = 144\n",
      "\tmin_num_edges_per_graph = 2\n",
      "\tstd_num_edges_per_graph = 25.32877270037731\n",
      "\tmean_num_edges_per_graph = 62.24921135646688\n",
      "-------------------\n",
      "\u001b[0m\n",
      "\u001b[32m2023-07-13 14:02:49.409\u001b[0m | \u001b[1mINFO    \u001b[0m | \u001b[36mgraphium.data.datamodule\u001b[0m:\u001b[36msetup\u001b[0m:\u001b[36m1169\u001b[0m - \u001b[1m-------------------\n",
      "MultitaskDataset\n",
      "\tabout = validation set\n",
      "\tnum_graphs_total = 91\n",
      "\tnum_nodes_total = 2791\n",
      "\tmax_num_nodes_per_graph = 67\n",
      "\tmin_num_nodes_per_graph = 13\n",
      "\tstd_num_nodes_per_graph = 11.461406761225364\n",
      "\tmean_num_nodes_per_graph = 30.67032967032967\n",
      "\tnum_edges_total = 6034\n",
      "\tmax_num_edges_per_graph = 148\n",
      "\tmin_num_edges_per_graph = 28\n",
      "\tstd_num_edges_per_graph = 25.619228830769817\n",
      "\tmean_num_edges_per_graph = 66.3076923076923\n",
      "-------------------\n",
      "\u001b[0m\n",
      "\u001b[32m2023-07-13 14:02:49.410\u001b[0m | \u001b[1mINFO    \u001b[0m | \u001b[36mgraphium.data.datamodule\u001b[0m:\u001b[36msetup\u001b[0m:\u001b[36m1186\u001b[0m - \u001b[1m-------------------\n",
      "MultitaskDataset\n",
      "\tabout = test set\n",
      "\tnum_graphs_total = 181\n",
      "\tnum_nodes_total = 5503\n",
      "\tmax_num_nodes_per_graph = 68\n",
      "\tmin_num_nodes_per_graph = 8\n",
      "\tstd_num_nodes_per_graph = 9.244248028261115\n",
      "\tmean_num_nodes_per_graph = 30.403314917127073\n",
      "\tnum_edges_total = 11736\n",
      "\tmax_num_edges_per_graph = 144\n",
      "\tmin_num_edges_per_graph = 16\n",
      "\tstd_num_edges_per_graph = 19.961337435561646\n",
      "\tmean_num_edges_per_graph = 64.83977900552486\n",
      "-------------------\n",
      "\u001b[0m\n",
      "\u001b[32m2023-07-13 14:02:49.410\u001b[0m | \u001b[1mINFO    \u001b[0m | \u001b[36mgraphium.data.datamodule\u001b[0m:\u001b[36mget_max_num_nodes_datamodule\u001b[0m:\u001b[36m574\u001b[0m - \u001b[1mMax num nodes being calcuated test\u001b[0m\n",
      "\u001b[32m2023-07-13 14:02:49.411\u001b[0m | \u001b[1mINFO    \u001b[0m | \u001b[36mgraphium.data.datamodule\u001b[0m:\u001b[36mprepare_data\u001b[0m:\u001b[36m943\u001b[0m - \u001b[1mData is already prepared. Skipping the preparation\u001b[0m\n",
      "You are using a CUDA device ('NVIDIA GeForce RTX 3070') that has Tensor Cores. To properly utilize them, you should set `torch.set_float32_matmul_precision('medium' | 'high')` which will trade-off precision for performance. For more details, read https://pytorch.org/docs/stable/generated/torch.set_float32_matmul_precision.html#torch.set_float32_matmul_precision\n",
      "\u001b[32m2023-07-13 14:02:49.412\u001b[0m | \u001b[1mINFO    \u001b[0m | \u001b[36mgraphium.data.datamodule\u001b[0m:\u001b[36msetup\u001b[0m:\u001b[36m1186\u001b[0m - \u001b[1m-------------------\n",
      "MultitaskDataset\n",
      "\tabout = test set\n",
      "\tnum_graphs_total = 181\n",
      "\tnum_nodes_total = 5503\n",
      "\tmax_num_nodes_per_graph = 68\n",
      "\tmin_num_nodes_per_graph = 8\n",
      "\tstd_num_nodes_per_graph = 9.244248028261115\n",
      "\tmean_num_nodes_per_graph = 30.403314917127073\n",
      "\tnum_edges_total = 11736\n",
      "\tmax_num_edges_per_graph = 144\n",
      "\tmin_num_edges_per_graph = 16\n",
      "\tstd_num_edges_per_graph = 19.961337435561646\n",
      "\tmean_num_edges_per_graph = 64.83977900552486\n",
      "-------------------\n",
      "\u001b[0m\n",
      "LOCAL_RANK: 0 - CUDA_VISIBLE_DEVICES: [0]\n"
     ]
    },
    {
     "data": {
      "application/vnd.jupyter.widget-view+json": {
       "model_id": "e92ded2754004662a47e2fb8cb8112be",
       "version_major": 2,
       "version_minor": 0
      },
      "text/plain": [
       "Testing: 0it [00:00, ?it/s]"
      ]
     },
     "metadata": {},
     "output_type": "display_data"
    },
    {
     "data": {
      "text/html": [
       "<pre style=\"white-space:pre;overflow-x:auto;line-height:normal;font-family:Menlo,'DejaVu Sans Mono',consolas,'Courier New',monospace\">┏━━━━━━━━━━━━━━━━━━━━━━━━━━━━━━━━━━━━━┳━━━━━━━━━━━━━━━━━━━━━━━━━━━━━━━━━━━━━┓\n",
       "┃<span style=\"font-weight: bold\">             Test metric             </span>┃<span style=\"font-weight: bold\">            DataLoader 0             </span>┃\n",
       "┡━━━━━━━━━━━━━━━━━━━━━━━━━━━━━━━━━━━━━╇━━━━━━━━━━━━━━━━━━━━━━━━━━━━━━━━━━━━━┩\n",
       "│<span style=\"color: #008080; text-decoration-color: #008080\">          gpu_allocated_GB           </span>│<span style=\"color: #800080; text-decoration-color: #800080\">        0.0019927024841308594        </span>│\n",
       "│<span style=\"color: #008080; text-decoration-color: #008080\">    graph_caco2_wang/L1Loss/test     </span>│<span style=\"color: #800080; text-decoration-color: #800080\">          2.312683582305908          </span>│\n",
       "│<span style=\"color: #008080; text-decoration-color: #008080\">     graph_caco2_wang/loss/test      </span>│<span style=\"color: #800080; text-decoration-color: #800080\">          2.312683582305908          </span>│\n",
       "│<span style=\"color: #008080; text-decoration-color: #008080\">      graph_caco2_wang/mae/test      </span>│<span style=\"color: #800080; text-decoration-color: #800080\">          2.312683582305908          </span>│\n",
       "│<span style=\"color: #008080; text-decoration-color: #008080\">   graph_caco2_wang/mean_pred/test   </span>│<span style=\"color: #800080; text-decoration-color: #800080\">         -3.0216422080993652         </span>│\n",
       "│<span style=\"color: #008080; text-decoration-color: #008080\">  graph_caco2_wang/mean_target/test  </span>│<span style=\"color: #800080; text-decoration-color: #800080\">         -5.334325790405273          </span>│\n",
       "│<span style=\"color: #008080; text-decoration-color: #008080\">  graph_caco2_wang/median_pred/test  </span>│<span style=\"color: #800080; text-decoration-color: #800080\">          -3.02557373046875          </span>│\n",
       "│<span style=\"color: #008080; text-decoration-color: #008080\"> graph_caco2_wang/median_target/test </span>│<span style=\"color: #800080; text-decoration-color: #800080\">         -5.300000190734863          </span>│\n",
       "│<span style=\"color: #008080; text-decoration-color: #008080\">    graph_caco2_wang/pearson/test    </span>│<span style=\"color: #800080; text-decoration-color: #800080\">         0.11455658078193665         </span>│\n",
       "│<span style=\"color: #008080; text-decoration-color: #008080\">   graph_caco2_wang/r2_score/test    </span>│<span style=\"color: #800080; text-decoration-color: #800080\">         -11.43954086303711          </span>│\n",
       "│<span style=\"color: #008080; text-decoration-color: #008080\">   graph_caco2_wang/spearman/test    </span>│<span style=\"color: #800080; text-decoration-color: #800080\">         0.2947588562965393          </span>│\n",
       "│<span style=\"color: #008080; text-decoration-color: #008080\">   graph_caco2_wang/std_pred/test    </span>│<span style=\"color: #800080; text-decoration-color: #800080\">        0.014227418228983879         </span>│\n",
       "│<span style=\"color: #008080; text-decoration-color: #008080\">  graph_caco2_wang/std_target/test   </span>│<span style=\"color: #800080; text-decoration-color: #800080\">         0.6855407357215881          </span>│\n",
       "│<span style=\"color: #008080; text-decoration-color: #008080\">              loss/test              </span>│<span style=\"color: #800080; text-decoration-color: #800080\">          2.312683582305908          </span>│\n",
       "└─────────────────────────────────────┴─────────────────────────────────────┘\n",
       "</pre>\n"
      ],
      "text/plain": [
       "┏━━━━━━━━━━━━━━━━━━━━━━━━━━━━━━━━━━━━━┳━━━━━━━━━━━━━━━━━━━━━━━━━━━━━━━━━━━━━┓\n",
       "┃\u001b[1m \u001b[0m\u001b[1m            Test metric            \u001b[0m\u001b[1m \u001b[0m┃\u001b[1m \u001b[0m\u001b[1m           DataLoader 0            \u001b[0m\u001b[1m \u001b[0m┃\n",
       "┡━━━━━━━━━━━━━━━━━━━━━━━━━━━━━━━━━━━━━╇━━━━━━━━━━━━━━━━━━━━━━━━━━━━━━━━━━━━━┩\n",
       "│\u001b[36m \u001b[0m\u001b[36m         gpu_allocated_GB          \u001b[0m\u001b[36m \u001b[0m│\u001b[35m \u001b[0m\u001b[35m       0.0019927024841308594       \u001b[0m\u001b[35m \u001b[0m│\n",
       "│\u001b[36m \u001b[0m\u001b[36m   graph_caco2_wang/L1Loss/test    \u001b[0m\u001b[36m \u001b[0m│\u001b[35m \u001b[0m\u001b[35m         2.312683582305908         \u001b[0m\u001b[35m \u001b[0m│\n",
       "│\u001b[36m \u001b[0m\u001b[36m    graph_caco2_wang/loss/test     \u001b[0m\u001b[36m \u001b[0m│\u001b[35m \u001b[0m\u001b[35m         2.312683582305908         \u001b[0m\u001b[35m \u001b[0m│\n",
       "│\u001b[36m \u001b[0m\u001b[36m     graph_caco2_wang/mae/test     \u001b[0m\u001b[36m \u001b[0m│\u001b[35m \u001b[0m\u001b[35m         2.312683582305908         \u001b[0m\u001b[35m \u001b[0m│\n",
       "│\u001b[36m \u001b[0m\u001b[36m  graph_caco2_wang/mean_pred/test  \u001b[0m\u001b[36m \u001b[0m│\u001b[35m \u001b[0m\u001b[35m        -3.0216422080993652        \u001b[0m\u001b[35m \u001b[0m│\n",
       "│\u001b[36m \u001b[0m\u001b[36m graph_caco2_wang/mean_target/test \u001b[0m\u001b[36m \u001b[0m│\u001b[35m \u001b[0m\u001b[35m        -5.334325790405273         \u001b[0m\u001b[35m \u001b[0m│\n",
       "│\u001b[36m \u001b[0m\u001b[36m graph_caco2_wang/median_pred/test \u001b[0m\u001b[36m \u001b[0m│\u001b[35m \u001b[0m\u001b[35m         -3.02557373046875         \u001b[0m\u001b[35m \u001b[0m│\n",
       "│\u001b[36m \u001b[0m\u001b[36mgraph_caco2_wang/median_target/test\u001b[0m\u001b[36m \u001b[0m│\u001b[35m \u001b[0m\u001b[35m        -5.300000190734863         \u001b[0m\u001b[35m \u001b[0m│\n",
       "│\u001b[36m \u001b[0m\u001b[36m   graph_caco2_wang/pearson/test   \u001b[0m\u001b[36m \u001b[0m│\u001b[35m \u001b[0m\u001b[35m        0.11455658078193665        \u001b[0m\u001b[35m \u001b[0m│\n",
       "│\u001b[36m \u001b[0m\u001b[36m  graph_caco2_wang/r2_score/test   \u001b[0m\u001b[36m \u001b[0m│\u001b[35m \u001b[0m\u001b[35m        -11.43954086303711         \u001b[0m\u001b[35m \u001b[0m│\n",
       "│\u001b[36m \u001b[0m\u001b[36m  graph_caco2_wang/spearman/test   \u001b[0m\u001b[36m \u001b[0m│\u001b[35m \u001b[0m\u001b[35m        0.2947588562965393         \u001b[0m\u001b[35m \u001b[0m│\n",
       "│\u001b[36m \u001b[0m\u001b[36m  graph_caco2_wang/std_pred/test   \u001b[0m\u001b[36m \u001b[0m│\u001b[35m \u001b[0m\u001b[35m       0.014227418228983879        \u001b[0m\u001b[35m \u001b[0m│\n",
       "│\u001b[36m \u001b[0m\u001b[36m graph_caco2_wang/std_target/test  \u001b[0m\u001b[36m \u001b[0m│\u001b[35m \u001b[0m\u001b[35m        0.6855407357215881         \u001b[0m\u001b[35m \u001b[0m│\n",
       "│\u001b[36m \u001b[0m\u001b[36m             loss/test             \u001b[0m\u001b[36m \u001b[0m│\u001b[35m \u001b[0m\u001b[35m         2.312683582305908         \u001b[0m\u001b[35m \u001b[0m│\n",
       "└─────────────────────────────────────┴─────────────────────────────────────┘\n"
      ]
     },
     "metadata": {},
     "output_type": "display_data"
    },
    {
     "name": "stderr",
     "output_type": "stream",
     "text": [
      "\u001b[32m2023-07-13 14:02:50.286\u001b[0m | \u001b[1mINFO    \u001b[0m | \u001b[36mgraphium.data.datamodule\u001b[0m:\u001b[36m__init__\u001b[0m:\u001b[36m2425\u001b[0m - \u001b[1mPreparing the TDC ADMET Benchmark Group splits for each of the 1 benchmarks.\u001b[0m\n",
      "GPU available: True (cuda), used: True\n",
      "TPU available: False, using: 0 TPU cores\n",
      "IPU available: False, using: 0 IPUs\n",
      "HPU available: False, using: 0 HPUs\n",
      "\u001b[32m2023-07-13 14:02:50.421\u001b[0m | \u001b[1mINFO    \u001b[0m | \u001b[36mgraphium.data.datamodule\u001b[0m:\u001b[36msetup\u001b[0m:\u001b[36m1168\u001b[0m - \u001b[1m-------------------\n",
      "MultitaskDataset\n",
      "\tabout = training set\n",
      "\tnum_graphs_total = 403\n",
      "\tnum_nodes_total = 9065\n",
      "\tmax_num_nodes_per_graph = 101\n",
      "\tmin_num_nodes_per_graph = 7\n",
      "\tstd_num_nodes_per_graph = 8.379156239363269\n",
      "\tmean_num_nodes_per_graph = 22.49379652605459\n",
      "\tnum_edges_total = 19420\n",
      "\tmax_num_edges_per_graph = 220\n",
      "\tmin_num_edges_per_graph = 14\n",
      "\tstd_num_edges_per_graph = 18.678530787820403\n",
      "\tmean_num_edges_per_graph = 48.188585607940446\n",
      "-------------------\n",
      "\u001b[0m\n",
      "\u001b[32m2023-07-13 14:02:50.422\u001b[0m | \u001b[1mINFO    \u001b[0m | \u001b[36mgraphium.data.datamodule\u001b[0m:\u001b[36msetup\u001b[0m:\u001b[36m1169\u001b[0m - \u001b[1m-------------------\n",
      "MultitaskDataset\n",
      "\tabout = validation set\n",
      "\tnum_graphs_total = 58\n",
      "\tnum_nodes_total = 1431\n",
      "\tmax_num_nodes_per_graph = 67\n",
      "\tmin_num_nodes_per_graph = 9\n",
      "\tstd_num_nodes_per_graph = 9.610317607573146\n",
      "\tmean_num_nodes_per_graph = 24.67241379310345\n",
      "\tnum_edges_total = 3102\n",
      "\tmax_num_edges_per_graph = 144\n",
      "\tmin_num_edges_per_graph = 18\n",
      "\tstd_num_edges_per_graph = 21.938976007372833\n",
      "\tmean_num_edges_per_graph = 53.48275862068966\n",
      "-------------------\n",
      "\u001b[0m\n",
      "\u001b[32m2023-07-13 14:02:50.423\u001b[0m | \u001b[1mINFO    \u001b[0m | \u001b[36mgraphium.data.datamodule\u001b[0m:\u001b[36msetup\u001b[0m:\u001b[36m1186\u001b[0m - \u001b[1m-------------------\n",
      "MultitaskDataset\n",
      "\tabout = test set\n",
      "\tnum_graphs_total = 117\n",
      "\tnum_nodes_total = 2716\n",
      "\tmax_num_nodes_per_graph = 66\n",
      "\tmin_num_nodes_per_graph = 3\n",
      "\tstd_num_nodes_per_graph = 9.966464331904731\n",
      "\tmean_num_nodes_per_graph = 23.213675213675213\n",
      "\tnum_edges_total = 5790\n",
      "\tmax_num_edges_per_graph = 136\n",
      "\tmin_num_edges_per_graph = 4\n",
      "\tstd_num_edges_per_graph = 22.25440142180863\n",
      "\tmean_num_edges_per_graph = 49.48717948717949\n",
      "-------------------\n",
      "\u001b[0m\n",
      "\u001b[32m2023-07-13 14:02:50.423\u001b[0m | \u001b[1mINFO    \u001b[0m | \u001b[36mgraphium.data.datamodule\u001b[0m:\u001b[36mget_max_num_nodes_datamodule\u001b[0m:\u001b[36m556\u001b[0m - \u001b[1mMax num nodes being calcuated train\u001b[0m\n",
      "\u001b[32m2023-07-13 14:02:50.423\u001b[0m | \u001b[1mINFO    \u001b[0m | \u001b[36mgraphium.data.datamodule\u001b[0m:\u001b[36mget_max_num_nodes_datamodule\u001b[0m:\u001b[36m565\u001b[0m - \u001b[1mMax num nodes being calcuated val\u001b[0m\n",
      "\u001b[32m2023-07-13 14:02:50.424\u001b[0m | \u001b[1mINFO    \u001b[0m | \u001b[36mgraphium.data.datamodule\u001b[0m:\u001b[36mprepare_data\u001b[0m:\u001b[36m943\u001b[0m - \u001b[1mData is already prepared. Skipping the preparation\u001b[0m\n",
      "You are using a CUDA device ('NVIDIA GeForce RTX 3070') that has Tensor Cores. To properly utilize them, you should set `torch.set_float32_matmul_precision('medium' | 'high')` which will trade-off precision for performance. For more details, read https://pytorch.org/docs/stable/generated/torch.set_float32_matmul_precision.html#torch.set_float32_matmul_precision\n",
      "\u001b[32m2023-07-13 14:02:50.426\u001b[0m | \u001b[1mINFO    \u001b[0m | \u001b[36mgraphium.data.datamodule\u001b[0m:\u001b[36msetup\u001b[0m:\u001b[36m1168\u001b[0m - \u001b[1m-------------------\n",
      "MultitaskDataset\n",
      "\tabout = training set\n",
      "\tnum_graphs_total = 403\n",
      "\tnum_nodes_total = 9065\n",
      "\tmax_num_nodes_per_graph = 101\n",
      "\tmin_num_nodes_per_graph = 7\n",
      "\tstd_num_nodes_per_graph = 8.379156239363269\n",
      "\tmean_num_nodes_per_graph = 22.49379652605459\n",
      "\tnum_edges_total = 19420\n",
      "\tmax_num_edges_per_graph = 220\n",
      "\tmin_num_edges_per_graph = 14\n",
      "\tstd_num_edges_per_graph = 18.678530787820403\n",
      "\tmean_num_edges_per_graph = 48.188585607940446\n",
      "-------------------\n",
      "\u001b[0m\n",
      "\u001b[32m2023-07-13 14:02:50.426\u001b[0m | \u001b[1mINFO    \u001b[0m | \u001b[36mgraphium.data.datamodule\u001b[0m:\u001b[36msetup\u001b[0m:\u001b[36m1169\u001b[0m - \u001b[1m-------------------\n",
      "MultitaskDataset\n",
      "\tabout = validation set\n",
      "\tnum_graphs_total = 58\n",
      "\tnum_nodes_total = 1431\n",
      "\tmax_num_nodes_per_graph = 67\n",
      "\tmin_num_nodes_per_graph = 9\n",
      "\tstd_num_nodes_per_graph = 9.610317607573146\n",
      "\tmean_num_nodes_per_graph = 24.67241379310345\n",
      "\tnum_edges_total = 3102\n",
      "\tmax_num_edges_per_graph = 144\n",
      "\tmin_num_edges_per_graph = 18\n",
      "\tstd_num_edges_per_graph = 21.938976007372833\n",
      "\tmean_num_edges_per_graph = 53.48275862068966\n",
      "-------------------\n",
      "\u001b[0m\n",
      "LOCAL_RANK: 0 - CUDA_VISIBLE_DEVICES: [0]\n",
      "\n",
      "  | Name  | Type                      | Params\n",
      "----------------------------------------------------\n",
      "0 | model | FullGraphMultiTaskNetwork | 111 K \n",
      "----------------------------------------------------\n",
      "111 K     Trainable params\n",
      "0         Non-trainable params\n",
      "111 K     Total params\n",
      "0.448     Total estimated model params size (MB)\n"
     ]
    },
    {
     "data": {
      "application/vnd.jupyter.widget-view+json": {
       "model_id": "",
       "version_major": 2,
       "version_minor": 0
      },
      "text/plain": [
       "Sanity Checking: 0it [00:00, ?it/s]"
      ]
     },
     "metadata": {},
     "output_type": "display_data"
    },
    {
     "name": "stderr",
     "output_type": "stream",
     "text": [
      "\u001b[32m2023-07-13 14:02:51.236\u001b[0m | \u001b[33m\u001b[1mWARNING \u001b[0m | \u001b[36mgraphium.trainer.predictor_summaries\u001b[0m:\u001b[36mget_metrics_logs\u001b[0m:\u001b[36m273\u001b[0m - \u001b[33m\u001b[1mError for metric graph_hia_hou/mcc/val. NaN is returned. Exception: stack expects a non-empty TensorList\u001b[0m\n"
     ]
    },
    {
     "data": {
      "application/vnd.jupyter.widget-view+json": {
       "model_id": "9ab41b110acd4f3f8977249dc715e49d",
       "version_major": 2,
       "version_minor": 0
      },
      "text/plain": [
       "Training: 0it [00:00, ?it/s]"
      ]
     },
     "metadata": {},
     "output_type": "display_data"
    },
    {
     "name": "stderr",
     "output_type": "stream",
     "text": [
      "\u001b[32m2023-07-13 14:02:52.078\u001b[0m | \u001b[33m\u001b[1mWARNING \u001b[0m | \u001b[36mgraphium.trainer.predictor_summaries\u001b[0m:\u001b[36mget_metrics_logs\u001b[0m:\u001b[36m273\u001b[0m - \u001b[33m\u001b[1mError for metric graph_hia_hou/mcc/train. NaN is returned. Exception: stack expects a non-empty TensorList\u001b[0m\n",
      "`Trainer.fit` stopped: `max_epochs=10` reached.\n",
      "\u001b[32m2023-07-13 14:03:06.289\u001b[0m | \u001b[1mINFO    \u001b[0m | \u001b[36mgraphium.data.datamodule\u001b[0m:\u001b[36msetup\u001b[0m:\u001b[36m1168\u001b[0m - \u001b[1m-------------------\n",
      "MultitaskDataset\n",
      "\tabout = training set\n",
      "\tnum_graphs_total = 403\n",
      "\tnum_nodes_total = 9065\n",
      "\tmax_num_nodes_per_graph = 101\n",
      "\tmin_num_nodes_per_graph = 7\n",
      "\tstd_num_nodes_per_graph = 8.379156239363269\n",
      "\tmean_num_nodes_per_graph = 22.49379652605459\n",
      "\tnum_edges_total = 19420\n",
      "\tmax_num_edges_per_graph = 220\n",
      "\tmin_num_edges_per_graph = 14\n",
      "\tstd_num_edges_per_graph = 18.678530787820403\n",
      "\tmean_num_edges_per_graph = 48.188585607940446\n",
      "-------------------\n",
      "\u001b[0m\n",
      "\u001b[32m2023-07-13 14:03:06.290\u001b[0m | \u001b[1mINFO    \u001b[0m | \u001b[36mgraphium.data.datamodule\u001b[0m:\u001b[36msetup\u001b[0m:\u001b[36m1169\u001b[0m - \u001b[1m-------------------\n",
      "MultitaskDataset\n",
      "\tabout = validation set\n",
      "\tnum_graphs_total = 58\n",
      "\tnum_nodes_total = 1431\n",
      "\tmax_num_nodes_per_graph = 67\n",
      "\tmin_num_nodes_per_graph = 9\n",
      "\tstd_num_nodes_per_graph = 9.610317607573146\n",
      "\tmean_num_nodes_per_graph = 24.67241379310345\n",
      "\tnum_edges_total = 3102\n",
      "\tmax_num_edges_per_graph = 144\n",
      "\tmin_num_edges_per_graph = 18\n",
      "\tstd_num_edges_per_graph = 21.938976007372833\n",
      "\tmean_num_edges_per_graph = 53.48275862068966\n",
      "-------------------\n",
      "\u001b[0m\n",
      "\u001b[32m2023-07-13 14:03:06.290\u001b[0m | \u001b[1mINFO    \u001b[0m | \u001b[36mgraphium.data.datamodule\u001b[0m:\u001b[36msetup\u001b[0m:\u001b[36m1186\u001b[0m - \u001b[1m-------------------\n",
      "MultitaskDataset\n",
      "\tabout = test set\n",
      "\tnum_graphs_total = 117\n",
      "\tnum_nodes_total = 2716\n",
      "\tmax_num_nodes_per_graph = 66\n",
      "\tmin_num_nodes_per_graph = 3\n",
      "\tstd_num_nodes_per_graph = 9.966464331904731\n",
      "\tmean_num_nodes_per_graph = 23.213675213675213\n",
      "\tnum_edges_total = 5790\n",
      "\tmax_num_edges_per_graph = 136\n",
      "\tmin_num_edges_per_graph = 4\n",
      "\tstd_num_edges_per_graph = 22.25440142180863\n",
      "\tmean_num_edges_per_graph = 49.48717948717949\n",
      "-------------------\n",
      "\u001b[0m\n",
      "\u001b[32m2023-07-13 14:03:06.291\u001b[0m | \u001b[1mINFO    \u001b[0m | \u001b[36mgraphium.data.datamodule\u001b[0m:\u001b[36mget_max_num_nodes_datamodule\u001b[0m:\u001b[36m574\u001b[0m - \u001b[1mMax num nodes being calcuated test\u001b[0m\n",
      "\u001b[32m2023-07-13 14:03:06.291\u001b[0m | \u001b[1mINFO    \u001b[0m | \u001b[36mgraphium.data.datamodule\u001b[0m:\u001b[36mprepare_data\u001b[0m:\u001b[36m943\u001b[0m - \u001b[1mData is already prepared. Skipping the preparation\u001b[0m\n",
      "You are using a CUDA device ('NVIDIA GeForce RTX 3070') that has Tensor Cores. To properly utilize them, you should set `torch.set_float32_matmul_precision('medium' | 'high')` which will trade-off precision for performance. For more details, read https://pytorch.org/docs/stable/generated/torch.set_float32_matmul_precision.html#torch.set_float32_matmul_precision\n",
      "\u001b[32m2023-07-13 14:03:06.292\u001b[0m | \u001b[1mINFO    \u001b[0m | \u001b[36mgraphium.data.datamodule\u001b[0m:\u001b[36msetup\u001b[0m:\u001b[36m1186\u001b[0m - \u001b[1m-------------------\n",
      "MultitaskDataset\n",
      "\tabout = test set\n",
      "\tnum_graphs_total = 117\n",
      "\tnum_nodes_total = 2716\n",
      "\tmax_num_nodes_per_graph = 66\n",
      "\tmin_num_nodes_per_graph = 3\n",
      "\tstd_num_nodes_per_graph = 9.966464331904731\n",
      "\tmean_num_nodes_per_graph = 23.213675213675213\n",
      "\tnum_edges_total = 5790\n",
      "\tmax_num_edges_per_graph = 136\n",
      "\tmin_num_edges_per_graph = 4\n",
      "\tstd_num_edges_per_graph = 22.25440142180863\n",
      "\tmean_num_edges_per_graph = 49.48717948717949\n",
      "-------------------\n",
      "\u001b[0m\n",
      "LOCAL_RANK: 0 - CUDA_VISIBLE_DEVICES: [0]\n"
     ]
    },
    {
     "data": {
      "application/vnd.jupyter.widget-view+json": {
       "model_id": "47a42b8385de4cd484d3aee1ee77a8ca",
       "version_major": 2,
       "version_minor": 0
      },
      "text/plain": [
       "Testing: 0it [00:00, ?it/s]"
      ]
     },
     "metadata": {},
     "output_type": "display_data"
    },
    {
     "name": "stderr",
     "output_type": "stream",
     "text": [
      "\u001b[32m2023-07-13 14:03:07.087\u001b[0m | \u001b[33m\u001b[1mWARNING \u001b[0m | \u001b[36mgraphium.trainer.predictor_summaries\u001b[0m:\u001b[36mget_metrics_logs\u001b[0m:\u001b[36m273\u001b[0m - \u001b[33m\u001b[1mError for metric graph_hia_hou/mcc/test. NaN is returned. Exception: stack expects a non-empty TensorList\u001b[0m\n"
     ]
    },
    {
     "data": {
      "text/html": [
       "<pre style=\"white-space:pre;overflow-x:auto;line-height:normal;font-family:Menlo,'DejaVu Sans Mono',consolas,'Courier New',monospace\">┏━━━━━━━━━━━━━━━━━━━━━━━━━━━━━━━━━━┳━━━━━━━━━━━━━━━━━━━━━━━━━━━━━━━━━━┓\n",
       "┃<span style=\"font-weight: bold\">           Test metric            </span>┃<span style=\"font-weight: bold\">           DataLoader 0           </span>┃\n",
       "┡━━━━━━━━━━━━━━━━━━━━━━━━━━━━━━━━━━╇━━━━━━━━━━━━━━━━━━━━━━━━━━━━━━━━━━┩\n",
       "│<span style=\"color: #008080; text-decoration-color: #008080\">         gpu_allocated_GB         </span>│<span style=\"color: #800080; text-decoration-color: #800080\">      0.0018811225891113281       </span>│\n",
       "│<span style=\"color: #008080; text-decoration-color: #008080\">    graph_hia_hou/BCELoss/test    </span>│<span style=\"color: #800080; text-decoration-color: #800080\">        0.5804430842399597        </span>│\n",
       "│<span style=\"color: #008080; text-decoration-color: #008080\">   graph_hia_hou/accuracy/test    </span>│<span style=\"color: #800080; text-decoration-color: #800080\">        0.7692307829856873        </span>│\n",
       "│<span style=\"color: #008080; text-decoration-color: #008080\">     graph_hia_hou/auprc/test     </span>│<span style=\"color: #800080; text-decoration-color: #800080\">        0.8519759774208069        </span>│\n",
       "│<span style=\"color: #008080; text-decoration-color: #008080\">     graph_hia_hou/auroc/test     </span>│<span style=\"color: #800080; text-decoration-color: #800080\">        0.7008230686187744        </span>│\n",
       "│<span style=\"color: #008080; text-decoration-color: #008080\">     graph_hia_hou/loss/test      </span>│<span style=\"color: #800080; text-decoration-color: #800080\">        0.5804430842399597        </span>│\n",
       "│<span style=\"color: #008080; text-decoration-color: #008080\">      graph_hia_hou/mcc/test      </span>│<span style=\"color: #800080; text-decoration-color: #800080\">               nan                </span>│\n",
       "│<span style=\"color: #008080; text-decoration-color: #008080\">   graph_hia_hou/mean_pred/test   </span>│<span style=\"color: #800080; text-decoration-color: #800080\">        0.8799146413803101        </span>│\n",
       "│<span style=\"color: #008080; text-decoration-color: #008080\">  graph_hia_hou/mean_target/test  </span>│<span style=\"color: #800080; text-decoration-color: #800080\">        0.7692307829856873        </span>│\n",
       "│<span style=\"color: #008080; text-decoration-color: #008080\">  graph_hia_hou/median_pred/test  </span>│<span style=\"color: #800080; text-decoration-color: #800080\">        0.8844738006591797        </span>│\n",
       "│<span style=\"color: #008080; text-decoration-color: #008080\"> graph_hia_hou/median_target/test </span>│<span style=\"color: #800080; text-decoration-color: #800080\">               1.0                </span>│\n",
       "│<span style=\"color: #008080; text-decoration-color: #008080\">   graph_hia_hou/std_pred/test    </span>│<span style=\"color: #800080; text-decoration-color: #800080\">       0.010796700604259968       </span>│\n",
       "│<span style=\"color: #008080; text-decoration-color: #008080\">  graph_hia_hou/std_target/test   </span>│<span style=\"color: #800080; text-decoration-color: #800080\">       0.42313718795776367        </span>│\n",
       "│<span style=\"color: #008080; text-decoration-color: #008080\">            loss/test             </span>│<span style=\"color: #800080; text-decoration-color: #800080\">        0.5804430842399597        </span>│\n",
       "└──────────────────────────────────┴──────────────────────────────────┘\n",
       "</pre>\n"
      ],
      "text/plain": [
       "┏━━━━━━━━━━━━━━━━━━━━━━━━━━━━━━━━━━┳━━━━━━━━━━━━━━━━━━━━━━━━━━━━━━━━━━┓\n",
       "┃\u001b[1m \u001b[0m\u001b[1m          Test metric           \u001b[0m\u001b[1m \u001b[0m┃\u001b[1m \u001b[0m\u001b[1m          DataLoader 0          \u001b[0m\u001b[1m \u001b[0m┃\n",
       "┡━━━━━━━━━━━━━━━━━━━━━━━━━━━━━━━━━━╇━━━━━━━━━━━━━━━━━━━━━━━━━━━━━━━━━━┩\n",
       "│\u001b[36m \u001b[0m\u001b[36m        gpu_allocated_GB        \u001b[0m\u001b[36m \u001b[0m│\u001b[35m \u001b[0m\u001b[35m     0.0018811225891113281      \u001b[0m\u001b[35m \u001b[0m│\n",
       "│\u001b[36m \u001b[0m\u001b[36m   graph_hia_hou/BCELoss/test   \u001b[0m\u001b[36m \u001b[0m│\u001b[35m \u001b[0m\u001b[35m       0.5804430842399597       \u001b[0m\u001b[35m \u001b[0m│\n",
       "│\u001b[36m \u001b[0m\u001b[36m  graph_hia_hou/accuracy/test   \u001b[0m\u001b[36m \u001b[0m│\u001b[35m \u001b[0m\u001b[35m       0.7692307829856873       \u001b[0m\u001b[35m \u001b[0m│\n",
       "│\u001b[36m \u001b[0m\u001b[36m    graph_hia_hou/auprc/test    \u001b[0m\u001b[36m \u001b[0m│\u001b[35m \u001b[0m\u001b[35m       0.8519759774208069       \u001b[0m\u001b[35m \u001b[0m│\n",
       "│\u001b[36m \u001b[0m\u001b[36m    graph_hia_hou/auroc/test    \u001b[0m\u001b[36m \u001b[0m│\u001b[35m \u001b[0m\u001b[35m       0.7008230686187744       \u001b[0m\u001b[35m \u001b[0m│\n",
       "│\u001b[36m \u001b[0m\u001b[36m    graph_hia_hou/loss/test     \u001b[0m\u001b[36m \u001b[0m│\u001b[35m \u001b[0m\u001b[35m       0.5804430842399597       \u001b[0m\u001b[35m \u001b[0m│\n",
       "│\u001b[36m \u001b[0m\u001b[36m     graph_hia_hou/mcc/test     \u001b[0m\u001b[36m \u001b[0m│\u001b[35m \u001b[0m\u001b[35m              nan               \u001b[0m\u001b[35m \u001b[0m│\n",
       "│\u001b[36m \u001b[0m\u001b[36m  graph_hia_hou/mean_pred/test  \u001b[0m\u001b[36m \u001b[0m│\u001b[35m \u001b[0m\u001b[35m       0.8799146413803101       \u001b[0m\u001b[35m \u001b[0m│\n",
       "│\u001b[36m \u001b[0m\u001b[36m graph_hia_hou/mean_target/test \u001b[0m\u001b[36m \u001b[0m│\u001b[35m \u001b[0m\u001b[35m       0.7692307829856873       \u001b[0m\u001b[35m \u001b[0m│\n",
       "│\u001b[36m \u001b[0m\u001b[36m graph_hia_hou/median_pred/test \u001b[0m\u001b[36m \u001b[0m│\u001b[35m \u001b[0m\u001b[35m       0.8844738006591797       \u001b[0m\u001b[35m \u001b[0m│\n",
       "│\u001b[36m \u001b[0m\u001b[36mgraph_hia_hou/median_target/test\u001b[0m\u001b[36m \u001b[0m│\u001b[35m \u001b[0m\u001b[35m              1.0               \u001b[0m\u001b[35m \u001b[0m│\n",
       "│\u001b[36m \u001b[0m\u001b[36m  graph_hia_hou/std_pred/test   \u001b[0m\u001b[36m \u001b[0m│\u001b[35m \u001b[0m\u001b[35m      0.010796700604259968      \u001b[0m\u001b[35m \u001b[0m│\n",
       "│\u001b[36m \u001b[0m\u001b[36m graph_hia_hou/std_target/test  \u001b[0m\u001b[36m \u001b[0m│\u001b[35m \u001b[0m\u001b[35m      0.42313718795776367       \u001b[0m\u001b[35m \u001b[0m│\n",
       "│\u001b[36m \u001b[0m\u001b[36m           loss/test            \u001b[0m\u001b[36m \u001b[0m│\u001b[35m \u001b[0m\u001b[35m       0.5804430842399597       \u001b[0m\u001b[35m \u001b[0m│\n",
       "└──────────────────────────────────┴──────────────────────────────────┘\n"
      ]
     },
     "metadata": {},
     "output_type": "display_data"
    }
   ],
   "source": [
    "results = {}\n",
    "\n",
    "for name in benchmarks: \n",
    "    \n",
    "    # Run the training-testing loop\n",
    "    cfg = filter_cfg_based_on_benchmark_name(config, name)\n",
    "    benchmark_results = training_testing_loop(cfg)\n",
    "    \n",
    "    # Extract the main metric from the config\n",
    "    metric = cfg[\"predictor\"][\"metrics_on_progress_bar\"][name][0]\n",
    "    key = f\"graph_{name}/{metric}/test\"\n",
    "    results[f\"{name}/{metric}\"] = benchmark_results[0][key]"
   ]
  },
  {
   "cell_type": "code",
   "execution_count": 9,
   "id": "c2cea93b",
   "metadata": {},
   "outputs": [
    {
     "name": "stdout",
     "output_type": "stream",
     "text": [
      "caco2_wang/mae: 2.312683582305908\n",
      "hia_hou/auroc: 0.7008230686187744\n",
      "\n"
     ]
    }
   ],
   "source": [
    "print(omegaconf.OmegaConf.to_yaml(results))"
   ]
  },
  {
   "cell_type": "markdown",
   "id": "2150be90",
   "metadata": {},
   "source": [
    "The End. "
   ]
  }
 ],
 "metadata": {
  "kernelspec": {
   "display_name": "Python 3 (ipykernel)",
   "language": "python",
   "name": "python3"
  },
  "language_info": {
   "codemirror_mode": {
    "name": "ipython",
    "version": 3
   },
   "file_extension": ".py",
   "mimetype": "text/x-python",
   "name": "python",
   "nbconvert_exporter": "python",
   "pygments_lexer": "ipython3",
   "version": "3.12.4"
  }
 },
 "nbformat": 4,
 "nbformat_minor": 5
}
