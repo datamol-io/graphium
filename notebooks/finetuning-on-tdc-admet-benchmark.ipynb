{
 "cells": [
  {
   "cell_type": "code",
   "execution_count": 1,
   "id": "55ab828f",
   "metadata": {},
   "outputs": [],
   "source": [
    "%load_ext autoreload\n",
    "%autoreload 2"
   ]
  },
  {
   "cell_type": "code",
   "execution_count": 2,
   "id": "07e0ed51",
   "metadata": {},
   "outputs": [],
   "source": [
    "import yaml\n",
    "import omegaconf\n",
    "from datetime import datetime\n",
    "\n",
    "from typing import Union, List\n",
    "from copy import deepcopy\n",
    "from tdc.utils import retrieve_benchmark_names\n",
    "\n",
    "from graphium.config._loader import (\n",
    "    load_datamodule,\n",
    "    load_metrics,\n",
    "    load_architecture,\n",
    "    load_predictor,\n",
    "    load_trainer,\n",
    "    save_params_to_wandb,\n",
    "    load_accelerator,\n",
    "    load_yaml_config,\n",
    ")"
   ]
  },
  {
   "cell_type": "markdown",
   "id": "fba4e4dc",
   "metadata": {},
   "source": [
    "# Fine-tuning on the TDC ADMET benchmarking group\n",
    "\n",
    "[TDC](https://tdcommons.ai/) hosts a variety of ML-ready datasets and benchmarks for ML for drug discovery. The [TDC ADMET benchmarking group](https://tdcommons.ai/benchmark/admet_group/overview/) is a popular collection of benchmarks for evaluating new _foundation models_ (see e.g. [MolE](https://arxiv.org/abs/2211.02657)) due to the variety and relevance of the included tasks.\n",
    "\n",
    "The ADMET benchmarking group is integrated in `graphium` through the `ADMETBenchmarkDataModule` data-module. This notebook shows how to easily fine-tune and test a model using that data-module. \n",
    "\n",
    "<div style=\"background-color: #fff3cd; border-radius: 10px; border-color: #ffeeba; padding: 20px; margin: 20px 0;  color: #856404\">\n",
    "    <b>NOTE:</b> This notebook is still <i>work in progress</i>. While the <b>fine-tuning logic is unfinished</b>, the notebook does demo how one could use the data-module to easily loop over each of the datasets in the benchmarking group and get the prescribed train-test split. Once the fine-tuning logic is finalized, we will finish this notebook and officially provide it as a tutorial within Graphium. \n",
    "</div>"
   ]
  },
  {
   "cell_type": "code",
   "execution_count": 3,
   "id": "4d5af838",
   "metadata": {},
   "outputs": [],
   "source": [
    "# First, let's read the yaml configuration file\n",
    "with open(\"../expts/configs/config_tdc_admet_demo.yaml\", \"r\") as file:\n",
    "    config = yaml.load(file, Loader=yaml.FullLoader)"
   ]
  },
  {
   "cell_type": "markdown",
   "id": "7b2047a3",
   "metadata": {},
   "source": [
    "## Get all TDC benchmark names"
   ]
  },
  {
   "cell_type": "code",
   "execution_count": 4,
   "id": "faa5d4b4",
   "metadata": {},
   "outputs": [
    {
     "data": {
      "text/plain": [
       "22"
      ]
     },
     "execution_count": 4,
     "metadata": {},
     "output_type": "execute_result"
    }
   ],
   "source": [
    "benchmarks = retrieve_benchmark_names(\"admet_group\")\n",
    "len(benchmarks)"
   ]
  },
  {
   "cell_type": "markdown",
   "id": "f80de284",
   "metadata": {},
   "source": [
    "While there is a total of 22, let's just use two for practicality sake: One regression and one classification task! "
   ]
  },
  {
   "cell_type": "code",
   "execution_count": 5,
   "id": "3ac3c111",
   "metadata": {},
   "outputs": [],
   "source": [
    "benchmarks = [\"caco2_wang\", \"hia_hou\"]"
   ]
  },
  {
   "cell_type": "markdown",
   "id": "3643aa30",
   "metadata": {},
   "source": [
    "## Initialize all training components per task\n",
    "**NOTE**: Since we do not have fine-tuning logic, this for now just creates a new model. Ultimately, we will want to use fine-tuning code to evaluate how well the pre-trained model transfers to downstream tasks. "
   ]
  },
  {
   "cell_type": "code",
   "execution_count": 6,
   "id": "9538abfb",
   "metadata": {},
   "outputs": [],
   "source": [
    "def training_testing_loop(cfg):\n",
    "    \"\"\"\n",
    "    Simple loop to train a model from scratch and test it. \n",
    "    \"\"\"\n",
    "    \n",
    "    # Initialize object from config\n",
    "    cfg, accelerator_type = load_accelerator(cfg)\n",
    "    datamodule = load_datamodule(cfg, accelerator_type)\n",
    "    model_class, model_kwargs = load_architecture(cfg, in_dims=datamodule.in_dims)\n",
    "    metrics = load_metrics(cfg)\n",
    "    \n",
    "    # Prepare data\n",
    "    datamodule.prepare_data()\n",
    "    \n",
    "    # Initialize the predictor\n",
    "    predictor = load_predictor(\n",
    "        cfg,\n",
    "        model_class,\n",
    "        model_kwargs,\n",
    "        metrics,\n",
    "        datamodule.get_task_levels(),\n",
    "        accelerator_type,\n",
    "        datamodule.featurization,\n",
    "        datamodule.task_norms\n",
    "    )\n",
    "    \n",
    "    # Initialize the trainer\n",
    "    date_time_suffix = datetime.now().strftime(\"%d.%m.%Y_%H.%M.%S\")\n",
    "    trainer = load_trainer(cfg, \"tdc-admet\", accelerator_type, date_time_suffix)\n",
    "        \n",
    "    # Train\n",
    "    predictor.set_max_nodes_edges_per_graph(datamodule, stages=[\"train\", \"val\"])\n",
    "    trainer.fit(model=predictor, datamodule=datamodule)\n",
    "    \n",
    "    # Test\n",
    "    predictor.set_max_nodes_edges_per_graph(datamodule, stages=[\"test\"])\n",
    "    results = trainer.test(model=predictor, datamodule=datamodule)\n",
    "    \n",
    "    return results\n"
   ]
  },
  {
   "cell_type": "code",
   "execution_count": 7,
   "id": "1ee4586e",
   "metadata": {},
   "outputs": [],
   "source": [
    "def filter_cfg_based_on_benchmark_name(config, names: Union[List[str], str]):\n",
    "    \"\"\"\n",
    "    Filter a base config for the full TDC ADMET benchmarking group to only \n",
    "    have settings related to a subset of the endpoints\n",
    "    \"\"\"\n",
    "    \n",
    "    if config[\"datamodule\"][\"module_type\"] != \"ADMETBenchmarkDataModule\":\n",
    "        raise ValueError(\"You can only use this method for the `ADMETBenchmarkDataModule`\")\n",
    "        \n",
    "    if isinstance(names, str):\n",
    "        names = [names]\n",
    "    \n",
    "    def _filter(d):\n",
    "        return {k: v for k, v in d.items() if k in names}\n",
    "         \n",
    "    cfg = deepcopy(config)\n",
    "    \n",
    "    # Update the datamodule arguments\n",
    "    cfg[\"datamodule\"][\"args\"][\"tdc_benchmark_names\"] = names\n",
    "    \n",
    "    # Filter the relevant config sections\n",
    "    cfg[\"architecture\"][\"task_heads\"] = _filter(cfg[\"architecture\"][\"task_heads\"])\n",
    "    cfg[\"predictor\"][\"metrics_on_progress_bar\"] = _filter(cfg[\"predictor\"][\"metrics_on_progress_bar\"])\n",
    "    cfg[\"predictor\"][\"loss_fun\"] = _filter(cfg[\"predictor\"][\"loss_fun\"])\n",
    "    cfg[\"metrics\"] = _filter(cfg[\"metrics\"])\n",
    "    \n",
    "    return cfg"
   ]
  },
  {
   "cell_type": "code",
   "execution_count": null,
   "id": "96bc606a",
   "metadata": {},
   "outputs": [],
   "source": [
    "results = {}\n",
    "\n",
    "for name in benchmarks: \n",
    "    \n",
    "    # Run the training-testing loop\n",
    "    cfg = filter_cfg_based_on_benchmark_name(config, name)\n",
    "    benchmark_results = training_testing_loop(cfg)\n",
    "    \n",
    "    # Extract the main metric from the config\n",
    "    metric = cfg[\"predictor\"][\"metrics_on_progress_bar\"][name][0]\n",
    "    key = f\"graph_{name}/{metric}/test\"\n",
    "    results[f\"{name}/{metric}\"] = benchmark_results[0][key]"
   ]
  },
  {
   "cell_type": "code",
   "execution_count": 9,
   "id": "c2cea93b",
   "metadata": {},
   "outputs": [
    {
     "name": "stdout",
     "output_type": "stream",
     "text": [
      "caco2_wang/mae: 2.312683582305908\n",
      "hia_hou/auroc: 0.7008230686187744\n",
      "\n"
     ]
    }
   ],
   "source": [
    "print(omegaconf.OmegaConf.to_yaml(results))"
   ]
  },
  {
   "cell_type": "markdown",
   "id": "2150be90",
   "metadata": {},
   "source": [
    "The End. "
   ]
  }
 ],
 "metadata": {
  "kernelspec": {
   "display_name": "Python 3 (ipykernel)",
   "language": "python",
   "name": "python3"
  },
  "language_info": {
   "codemirror_mode": {
    "name": "ipython",
    "version": 3
   },
   "file_extension": ".py",
   "mimetype": "text/x-python",
   "name": "python",
   "nbconvert_exporter": "python",
   "pygments_lexer": "ipython3",
   "version": "3.8.3"
  }
 },
 "nbformat": 4,
 "nbformat_minor": 5
}
