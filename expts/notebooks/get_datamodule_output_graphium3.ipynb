{
 "cells": [
  {
   "cell_type": "markdown",
   "metadata": {},
   "source": [
    "## This document is meant to compare the output of graphium-2 vs graphium-3 datamodules"
   ]
  },
  {
   "cell_type": "code",
   "execution_count": 1,
   "metadata": {},
   "outputs": [],
   "source": [
    "import graphium\n",
    "import hydra\n",
    "from hydra.core.global_hydra import GlobalHydra\n",
    "from omegaconf import OmegaConf\n",
    "import os\n",
    "from os.path import dirname, realpath\n",
    "from graphium.config._loader import load_accelerator, load_datamodule\n",
    "import shutil"
   ]
  },
  {
   "cell_type": "code",
   "execution_count": 2,
   "metadata": {},
   "outputs": [],
   "source": [
    "os.chdir(dirname(dirname(realpath(graphium.__file__))))"
   ]
  },
  {
   "cell_type": "code",
   "execution_count": 3,
   "metadata": {},
   "outputs": [],
   "source": [
    "\n",
    "def initialize_hydra(config_path, job_name=\"app\"):\n",
    "    if GlobalHydra.instance().is_initialized():\n",
    "        GlobalHydra.instance().clear()\n",
    "    hydra.initialize(config_path=config_path, job_name=job_name)\n",
    "\n",
    "def compose_main_config(config_dir):\n",
    "    initialize_hydra(config_dir)\n",
    "    # Compose the main configuration\n",
    "    main_config = hydra.compose(config_name=\"main\")\n",
    "    return main_config"
   ]
  },
  {
   "cell_type": "code",
   "execution_count": 4,
   "metadata": {},
   "outputs": [
    {
     "name": "stderr",
     "output_type": "stream",
     "text": [
      "C:\\Users\\Dominique.Beaini\\AppData\\Local\\Temp\\ipykernel_1168\\1475485328.py:4: UserWarning: \n",
      "The version_base parameter is not specified.\n",
      "Please specify a compatability version level, or None.\n",
      "Will assume defaults for version 1.1\n",
      "  hydra.initialize(config_path=config_path, job_name=job_name)\n"
     ]
    }
   ],
   "source": [
    "\n",
    "# Load the main configuration for toymix\n",
    "CONFIG_DIR = \"../../expts/hydra-configs/\"\n",
    "cfg = compose_main_config(CONFIG_DIR)\n",
    "cfg = OmegaConf.to_container(cfg, resolve=True)\n",
    "cfg.pop(\"tasks\")\n",
    "\n",
    "# Adapt the configuration to reduce the time it takes to run the test, less samples, less epochs\n",
    "cfg[\"constants\"][\"max_epochs\"] = 4\n",
    "TINY_DIR = \"expts/data/neurips2023/tiny-dataset/\"\n",
    "cfg[\"constants\"][\"data_dir\"] = TINY_DIR\n",
    "cfg[\"trainer\"][\"trainer\"][\"check_val_every_n_epoch\"] = 1\n",
    "cfg[\"trainer\"][\"trainer\"][\"max_epochs\"] = 4\n",
    "\n",
    "cfg[\"datamodule\"][\"args\"][\"processed_graph_data_path\"] = \"datacache/testing_feats\"\n",
    "cfg[\"datamodule\"][\"args\"][\"batch_size_training\"] = 1\n",
    "cfg[\"datamodule\"][\"args\"][\"batch_size_inference\"] = 1\n",
    "cfg[\"datamodule\"][\"args\"][\"task_specific_args\"][\"qm9\"][\"df_path\"] = TINY_DIR + \"qm9.csv.gz\"\n",
    "cfg[\"datamodule\"][\"args\"][\"task_specific_args\"][\"qm9\"][\"splits_path\"] = TINY_DIR + \"qm9_random_splits.pt\"\n",
    "cfg[\"datamodule\"][\"args\"][\"task_specific_args\"][\"tox21\"][\"df_path\"] = TINY_DIR + \"Tox21-7k-12-labels.csv.gz\"\n",
    "cfg[\"datamodule\"][\"args\"][\"task_specific_args\"][\"tox21\"][\"splits_path\"] = TINY_DIR + \"Tox21_random_splits.pt\"\n",
    "cfg[\"datamodule\"][\"args\"][\"task_specific_args\"][\"zinc\"][\"df_path\"] = TINY_DIR + \"ZINC12k.csv.gz\"\n",
    "cfg[\"datamodule\"][\"args\"][\"task_specific_args\"][\"zinc\"][\"splits_path\"] = TINY_DIR + \"ZINC12k_random_splits.pt\"\n",
    "\n",
    "# Initialize the accelerator\n",
    "cfg, accelerator_type = load_accelerator(cfg)\n",
    "\n",
    "# Load and initialize the dataset\n",
    "datamodule = load_datamodule(cfg, accelerator_type)\n"
   ]
  },
  {
   "cell_type": "code",
   "execution_count": 5,
   "metadata": {},
   "outputs": [
    {
     "name": "stderr",
     "output_type": "stream",
     "text": [
      "\u001b[32m2025-02-04 14:26:48.378\u001b[0m | \u001b[1mINFO    \u001b[0m | \u001b[36mgraphium.data.datamodule\u001b[0m:\u001b[36mprepare_data\u001b[0m:\u001b[36m969\u001b[0m - \u001b[1mData is already prepared.\u001b[0m\n",
      "\u001b[32m2025-02-04 14:26:48.381\u001b[0m | \u001b[1mINFO    \u001b[0m | \u001b[36mgraphium.data.dataset\u001b[0m:\u001b[36m__init__\u001b[0m:\u001b[36m80\u001b[0m - \u001b[1mDataloading from DISK\u001b[0m\n",
      "\u001b[32m2025-02-04 14:26:48.382\u001b[0m | \u001b[1mINFO    \u001b[0m | \u001b[36mgraphium.data.dataset\u001b[0m:\u001b[36m__init__\u001b[0m:\u001b[36m80\u001b[0m - \u001b[1mDataloading from DISK\u001b[0m\n",
      "\u001b[32m2025-02-04 14:26:48.383\u001b[0m | \u001b[1mINFO    \u001b[0m | \u001b[36mgraphium.data.datamodule\u001b[0m:\u001b[36msetup\u001b[0m:\u001b[36m1136\u001b[0m - \u001b[1m-------------------\n",
      "MultitaskDataset\n",
      "\tabout = training set\n",
      "\tnum_graphs_total = 15\n",
      "\tnum_nodes_total = 267\n",
      "\tmax_num_nodes_per_graph = 38\n",
      "\tmin_num_nodes_per_graph = 8\n",
      "\tstd_num_nodes_per_graph = 9.382252750095079\n",
      "\tmean_num_nodes_per_graph = 17.8\n",
      "\tnum_edges_total = 570\n",
      "\tmax_num_edges_per_graph = 78\n",
      "\tmin_num_edges_per_graph = 16\n",
      "\tstd_num_edges_per_graph = 20.199009876724155\n",
      "\tmean_num_edges_per_graph = 38.0\n",
      "-------------------\n",
      "\u001b[0m\n",
      "\u001b[32m2025-02-04 14:26:48.384\u001b[0m | \u001b[1mINFO    \u001b[0m | \u001b[36mgraphium.data.datamodule\u001b[0m:\u001b[36msetup\u001b[0m:\u001b[36m1143\u001b[0m - \u001b[1m-------------------\n",
      "MultitaskDataset\n",
      "\tabout = validation set\n",
      "\tnum_graphs_total = 30\n",
      "\tnum_nodes_total = 469\n",
      "\tmax_num_nodes_per_graph = 38\n",
      "\tmin_num_nodes_per_graph = 7\n",
      "\tstd_num_nodes_per_graph = 8.244122485477492\n",
      "\tmean_num_nodes_per_graph = 15.633333333333333\n",
      "\tnum_edges_total = 996\n",
      "\tmax_num_edges_per_graph = 84\n",
      "\tmin_num_edges_per_graph = 14\n",
      "\tstd_num_edges_per_graph = 18.188641144040055\n",
      "\tmean_num_edges_per_graph = 33.2\n",
      "-------------------\n",
      "\u001b[0m\n"
     ]
    },
    {
     "data": {
      "text/plain": [
       "name: MultitaskFromSmilesDataModule\n",
       "len: 60\n",
       "batch_size_training: 1\n",
       "batch_size_inference: 1\n",
       "num_node_feats: 85\n",
       "num_edge_feats: 13\n",
       "num_tasks: 3\n",
       "collate_fn: graphium_collate_fn\n",
       "featurization:\n",
       "  atom_property_list_onehot:\n",
       "  - atomic-number\n",
       "  - group\n",
       "  - period\n",
       "  - total-valence\n",
       "  atom_property_list_float:\n",
       "  - degree\n",
       "  - formal-charge\n",
       "  - radical-electron\n",
       "  - aromatic\n",
       "  - in-ring\n",
       "  edge_property_list:\n",
       "  - bond-type-onehot\n",
       "  - stereo\n",
       "  - in-ring\n",
       "  add_self_loop: false\n",
       "  explicit_H: false\n",
       "  use_bonds_weights: false\n",
       "  pos_encoding_as_features:\n",
       "    pos_types:\n",
       "      lap_eigvec:\n",
       "        pos_level: node\n",
       "        pos_type: laplacian_eigvec\n",
       "        num_pos: 8\n",
       "        normalization: none\n",
       "        disconnected_comp: true\n",
       "      lap_eigval:\n",
       "        pos_level: node\n",
       "        pos_type: laplacian_eigval\n",
       "        num_pos: 8\n",
       "        normalization: none\n",
       "        disconnected_comp: true\n",
       "      rw_pos:\n",
       "        pos_level: node\n",
       "        pos_type: rw_return_probs\n",
       "        ksteps: 16"
      ]
     },
     "execution_count": 5,
     "metadata": {},
     "output_type": "execute_result"
    }
   ],
   "source": [
    "datamodule.prepare_data()\n",
    "datamodule.setup(\"fit\")\n",
    "datamodule"
   ]
  },
  {
   "cell_type": "code",
   "execution_count": 6,
   "metadata": {},
   "outputs": [
    {
     "data": {
      "text/plain": [
       "<torch.utils.data.dataloader.DataLoader at 0x1d65dc99cd0>"
      ]
     },
     "execution_count": 6,
     "metadata": {},
     "output_type": "execute_result"
    }
   ],
   "source": [
    "val_loader = datamodule.val_dataloader()\n",
    "val_loader"
   ]
  },
  {
   "cell_type": "code",
   "execution_count": 7,
   "metadata": {},
   "outputs": [
    {
     "name": "stdout",
     "output_type": "stream",
     "text": [
      "{'labels': DataBatch(graph_qm9=[1, 19], graph_zinc=[1, 3], graph_tox21=[1, 12]), 'features': DataBatch(edge_index=[2, 16], edge_weight=[16], num_nodes=8, feat=[8, 85], edge_feat=[16, 13], laplacian_eigvec=[8, 8], laplacian_eigval=[8, 8], rw_return_probs=[8, 16], batch=[8], ptr=[2])}\n",
      "{'labels': DataBatch(graph_zinc=[1, 3], graph_qm9=[1, 19], graph_tox21=[1, 12]), 'features': DataBatch(edge_index=[2, 42], edge_weight=[42], num_nodes=20, feat=[20, 85], edge_feat=[42, 13], laplacian_eigvec=[20, 8], laplacian_eigval=[20, 8], rw_return_probs=[20, 16], batch=[20], ptr=[2])}\n",
      "{'labels': DataBatch(graph_tox21=[1, 12], graph_zinc=[1, 3], graph_qm9=[1, 19]), 'features': DataBatch(edge_index=[2, 24], edge_weight=[24], num_nodes=12, feat=[12, 85], edge_feat=[24, 13], laplacian_eigvec=[12, 8], laplacian_eigval=[12, 8], rw_return_probs=[12, 16], batch=[12], ptr=[2])}\n",
      "{'labels': DataBatch(graph_zinc=[1, 3], graph_qm9=[1, 19], graph_tox21=[1, 12]), 'features': DataBatch(edge_index=[2, 62], edge_weight=[62], num_nodes=29, feat=[29, 85], edge_feat=[62, 13], laplacian_eigvec=[29, 8], laplacian_eigval=[29, 8], rw_return_probs=[29, 16], batch=[29], ptr=[2])}\n",
      "{'labels': DataBatch(graph_zinc=[1, 3], graph_qm9=[1, 19], graph_tox21=[1, 12]), 'features': DataBatch(edge_index=[2, 40], edge_weight=[40], num_nodes=19, feat=[19, 85], edge_feat=[40, 13], laplacian_eigvec=[19, 8], laplacian_eigval=[19, 8], rw_return_probs=[19, 16], batch=[19], ptr=[2])}\n",
      "{'labels': DataBatch(graph_tox21=[1, 12], graph_qm9=[1, 19], graph_zinc=[1, 3]), 'features': DataBatch(edge_index=[2, 18], edge_weight=[18], num_nodes=10, feat=[10, 85], edge_feat=[18, 13], laplacian_eigvec=[10, 8], laplacian_eigval=[10, 8], rw_return_probs=[10, 16], batch=[10], ptr=[2])}\n",
      "{'labels': DataBatch(graph_zinc=[1, 3], graph_tox21=[1, 12], graph_qm9=[1, 19]), 'features': DataBatch(edge_index=[2, 54], edge_weight=[54], num_nodes=25, feat=[25, 85], edge_feat=[54, 13], laplacian_eigvec=[25, 8], laplacian_eigval=[25, 8], rw_return_probs=[25, 16], batch=[25], ptr=[2])}\n",
      "{'labels': DataBatch(graph_tox21=[1, 12], graph_qm9=[1, 19], graph_zinc=[1, 3]), 'features': DataBatch(edge_index=[2, 84], edge_weight=[84], num_nodes=38, feat=[38, 85], edge_feat=[84, 13], laplacian_eigvec=[38, 8], laplacian_eigval=[38, 8], rw_return_probs=[38, 16], batch=[38], ptr=[2])}\n",
      "{'labels': DataBatch(graph_tox21=[1, 12], graph_qm9=[1, 19], graph_zinc=[1, 3]), 'features': DataBatch(edge_index=[2, 22], edge_weight=[22], num_nodes=10, feat=[10, 85], edge_feat=[22, 13], laplacian_eigvec=[10, 8], laplacian_eigval=[10, 8], rw_return_probs=[10, 16], batch=[10], ptr=[2])}\n",
      "{'labels': DataBatch(graph_tox21=[1, 12], graph_qm9=[1, 19], graph_zinc=[1, 3]), 'features': DataBatch(edge_index=[2, 20], edge_weight=[20], num_nodes=10, feat=[10, 85], edge_feat=[20, 13], laplacian_eigvec=[10, 8], laplacian_eigval=[10, 8], rw_return_probs=[10, 16], batch=[10], ptr=[2])}\n",
      "{'labels': DataBatch(graph_qm9=[1, 19], graph_tox21=[1, 12], graph_zinc=[1, 3]), 'features': DataBatch(edge_index=[2, 20], edge_weight=[20], num_nodes=9, feat=[9, 85], edge_feat=[20, 13], laplacian_eigvec=[9, 8], laplacian_eigval=[9, 8], rw_return_probs=[9, 16], batch=[9], ptr=[2])}\n",
      "{'labels': DataBatch(graph_qm9=[1, 19], graph_tox21=[1, 12], graph_zinc=[1, 3]), 'features': DataBatch(edge_index=[2, 22], edge_weight=[22], num_nodes=9, feat=[9, 85], edge_feat=[22, 13], laplacian_eigvec=[9, 8], laplacian_eigval=[9, 8], rw_return_probs=[9, 16], batch=[9], ptr=[2])}\n",
      "{'labels': DataBatch(graph_qm9=[1, 19], graph_zinc=[1, 3], graph_tox21=[1, 12]), 'features': DataBatch(edge_index=[2, 20], edge_weight=[20], num_nodes=9, feat=[9, 85], edge_feat=[20, 13], laplacian_eigvec=[9, 8], laplacian_eigval=[9, 8], rw_return_probs=[9, 16], batch=[9], ptr=[2])}\n",
      "{'labels': DataBatch(graph_tox21=[1, 12], graph_qm9=[1, 19], graph_zinc=[1, 3]), 'features': DataBatch(edge_index=[2, 50], edge_weight=[50], num_nodes=23, feat=[23, 85], edge_feat=[50, 13], laplacian_eigvec=[23, 8], laplacian_eigval=[23, 8], rw_return_probs=[23, 16], batch=[23], ptr=[2])}\n",
      "{'labels': DataBatch(graph_zinc=[1, 3], graph_tox21=[1, 12], graph_qm9=[1, 19]), 'features': DataBatch(edge_index=[2, 46], edge_weight=[46], num_nodes=21, feat=[21, 85], edge_feat=[46, 13], laplacian_eigvec=[21, 8], laplacian_eigval=[21, 8], rw_return_probs=[21, 16], batch=[21], ptr=[2])}\n",
      "{'labels': DataBatch(graph_zinc=[1, 3], graph_qm9=[1, 19], graph_tox21=[1, 12]), 'features': DataBatch(edge_index=[2, 52], edge_weight=[52], num_nodes=24, feat=[24, 85], edge_feat=[52, 13], laplacian_eigvec=[24, 8], laplacian_eigval=[24, 8], rw_return_probs=[24, 16], batch=[24], ptr=[2])}\n",
      "{'labels': DataBatch(graph_qm9=[1, 19], graph_zinc=[1, 3], graph_tox21=[1, 12]), 'features': DataBatch(edge_index=[2, 22], edge_weight=[22], num_nodes=9, feat=[9, 85], edge_feat=[22, 13], laplacian_eigvec=[9, 8], laplacian_eigval=[9, 8], rw_return_probs=[9, 16], batch=[9], ptr=[2])}\n",
      "{'labels': DataBatch(graph_tox21=[1, 12], graph_qm9=[1, 19], graph_zinc=[1, 3]), 'features': DataBatch(edge_index=[2, 28], edge_weight=[28], num_nodes=13, feat=[13, 85], edge_feat=[28, 13], laplacian_eigvec=[13, 8], laplacian_eigval=[13, 8], rw_return_probs=[13, 16], batch=[13], ptr=[2])}\n",
      "{'labels': DataBatch(graph_tox21=[1, 12], graph_zinc=[1, 3], graph_qm9=[1, 19]), 'features': DataBatch(edge_index=[2, 40], edge_weight=[40], num_nodes=20, feat=[20, 85], edge_feat=[40, 13], laplacian_eigvec=[20, 8], laplacian_eigval=[20, 8], rw_return_probs=[20, 16], batch=[20], ptr=[2])}\n",
      "{'labels': DataBatch(graph_qm9=[1, 19], graph_tox21=[1, 12], graph_zinc=[1, 3]), 'features': DataBatch(edge_index=[2, 20], edge_weight=[20], num_nodes=9, feat=[9, 85], edge_feat=[20, 13], laplacian_eigvec=[9, 8], laplacian_eigval=[9, 8], rw_return_probs=[9, 16], batch=[9], ptr=[2])}\n",
      "{'labels': DataBatch(graph_zinc=[1, 3], graph_qm9=[1, 19], graph_tox21=[1, 12]), 'features': DataBatch(edge_index=[2, 68], edge_weight=[68], num_nodes=32, feat=[32, 85], edge_feat=[68, 13], laplacian_eigvec=[32, 8], laplacian_eigval=[32, 8], rw_return_probs=[32, 16], batch=[32], ptr=[2])}\n",
      "{'labels': DataBatch(graph_qm9=[1, 19], graph_zinc=[1, 3], graph_tox21=[1, 12]), 'features': DataBatch(edge_index=[2, 18], edge_weight=[18], num_nodes=9, feat=[9, 85], edge_feat=[18, 13], laplacian_eigvec=[9, 8], laplacian_eigval=[9, 8], rw_return_probs=[9, 16], batch=[9], ptr=[2])}\n",
      "{'labels': DataBatch(graph_tox21=[1, 12], graph_zinc=[1, 3], graph_qm9=[1, 19]), 'features': DataBatch(edge_index=[2, 18], edge_weight=[18], num_nodes=9, feat=[9, 85], edge_feat=[18, 13], laplacian_eigvec=[9, 8], laplacian_eigval=[9, 8], rw_return_probs=[9, 16], batch=[9], ptr=[2])}\n",
      "{'labels': DataBatch(graph_zinc=[1, 3], graph_qm9=[1, 19], graph_tox21=[1, 12]), 'features': DataBatch(edge_index=[2, 44], edge_weight=[44], num_nodes=20, feat=[20, 85], edge_feat=[44, 13], laplacian_eigvec=[20, 8], laplacian_eigval=[20, 8], rw_return_probs=[20, 16], batch=[20], ptr=[2])}\n",
      "{'labels': DataBatch(graph_zinc=[1, 3], graph_qm9=[1, 19], graph_tox21=[1, 12]), 'features': DataBatch(edge_index=[2, 26], edge_weight=[26], num_nodes=13, feat=[13, 85], edge_feat=[26, 13], laplacian_eigvec=[13, 8], laplacian_eigval=[13, 8], rw_return_probs=[13, 16], batch=[13], ptr=[2])}\n",
      "{'labels': DataBatch(graph_tox21=[1, 12], graph_qm9=[1, 19], graph_zinc=[1, 3]), 'features': DataBatch(edge_index=[2, 16], edge_weight=[16], num_nodes=9, feat=[9, 85], edge_feat=[16, 13], laplacian_eigvec=[9, 8], laplacian_eigval=[9, 8], rw_return_probs=[9, 16], batch=[9], ptr=[2])}\n",
      "{'labels': DataBatch(graph_qm9=[1, 19], graph_tox21=[1, 12], graph_zinc=[1, 3]), 'features': DataBatch(edge_index=[2, 14], edge_weight=[14], num_nodes=7, feat=[7, 85], edge_feat=[14, 13], laplacian_eigvec=[7, 8], laplacian_eigval=[7, 8], rw_return_probs=[7, 16], batch=[7], ptr=[2])}\n",
      "{'labels': DataBatch(graph_zinc=[1, 3], graph_qm9=[1, 19], graph_tox21=[1, 12]), 'features': DataBatch(edge_index=[2, 54], edge_weight=[54], num_nodes=25, feat=[25, 85], edge_feat=[54, 13], laplacian_eigvec=[25, 8], laplacian_eigval=[25, 8], rw_return_probs=[25, 16], batch=[25], ptr=[2])}\n",
      "{'labels': DataBatch(graph_qm9=[1, 19], graph_zinc=[1, 3], graph_tox21=[1, 12]), 'features': DataBatch(edge_index=[2, 18], edge_weight=[18], num_nodes=9, feat=[9, 85], edge_feat=[18, 13], laplacian_eigvec=[9, 8], laplacian_eigval=[9, 8], rw_return_probs=[9, 16], batch=[9], ptr=[2])}\n",
      "{'labels': DataBatch(graph_qm9=[1, 19], graph_zinc=[1, 3], graph_tox21=[1, 12]), 'features': DataBatch(edge_index=[2, 18], edge_weight=[18], num_nodes=9, feat=[9, 85], edge_feat=[18, 13], laplacian_eigvec=[9, 8], laplacian_eigval=[9, 8], rw_return_probs=[9, 16], batch=[9], ptr=[2])}\n"
     ]
    }
   ],
   "source": [
    "iter_loader = iter(val_loader)\n",
    "elems = [next(iter_loader) for _ in range(30)]\n",
    "\n",
    "for elem in elems:\n",
    "    print(elem)"
   ]
  },
  {
   "cell_type": "code",
   "execution_count": 8,
   "metadata": {},
   "outputs": [
    {
     "name": "stdout",
     "output_type": "stream",
     "text": [
      "{'labels': DataBatch(graph_qm9=[1, 19], graph_zinc=[1, 3], graph_tox21=[1, 12]), 'features': DataBatch(edge_index=[2, 16], edge_weight=[16], num_nodes=8, feat=[8, 85], edge_feat=[16, 13], laplacian_eigvec=[8, 8], laplacian_eigval=[8, 8], rw_return_probs=[8, 16], batch=[8], ptr=[2])}\n",
      "{'labels': DataBatch(graph_zinc=[1, 3], graph_qm9=[1, 19], graph_tox21=[1, 12]), 'features': DataBatch(edge_index=[2, 42], edge_weight=[42], num_nodes=20, feat=[20, 85], edge_feat=[42, 13], laplacian_eigvec=[20, 8], laplacian_eigval=[20, 8], rw_return_probs=[20, 16], batch=[20], ptr=[2])}\n",
      "{'labels': DataBatch(graph_tox21=[1, 12], graph_zinc=[1, 3], graph_qm9=[1, 19]), 'features': DataBatch(edge_index=[2, 24], edge_weight=[24], num_nodes=12, feat=[12, 85], edge_feat=[24, 13], laplacian_eigvec=[12, 8], laplacian_eigval=[12, 8], rw_return_probs=[12, 16], batch=[12], ptr=[2])}\n",
      "{'labels': DataBatch(graph_zinc=[1, 3], graph_qm9=[1, 19], graph_tox21=[1, 12]), 'features': DataBatch(edge_index=[2, 62], edge_weight=[62], num_nodes=29, feat=[29, 85], edge_feat=[62, 13], laplacian_eigvec=[29, 8], laplacian_eigval=[29, 8], rw_return_probs=[29, 16], batch=[29], ptr=[2])}\n",
      "{'labels': DataBatch(graph_zinc=[1, 3], graph_qm9=[1, 19], graph_tox21=[1, 12]), 'features': DataBatch(edge_index=[2, 40], edge_weight=[40], num_nodes=19, feat=[19, 85], edge_feat=[40, 13], laplacian_eigvec=[19, 8], laplacian_eigval=[19, 8], rw_return_probs=[19, 16], batch=[19], ptr=[2])}\n",
      "{'labels': DataBatch(graph_tox21=[1, 12], graph_qm9=[1, 19], graph_zinc=[1, 3]), 'features': DataBatch(edge_index=[2, 18], edge_weight=[18], num_nodes=10, feat=[10, 85], edge_feat=[18, 13], laplacian_eigvec=[10, 8], laplacian_eigval=[10, 8], rw_return_probs=[10, 16], batch=[10], ptr=[2])}\n",
      "{'labels': DataBatch(graph_zinc=[1, 3], graph_tox21=[1, 12], graph_qm9=[1, 19]), 'features': DataBatch(edge_index=[2, 54], edge_weight=[54], num_nodes=25, feat=[25, 85], edge_feat=[54, 13], laplacian_eigvec=[25, 8], laplacian_eigval=[25, 8], rw_return_probs=[25, 16], batch=[25], ptr=[2])}\n",
      "{'labels': DataBatch(graph_tox21=[1, 12], graph_qm9=[1, 19], graph_zinc=[1, 3]), 'features': DataBatch(edge_index=[2, 84], edge_weight=[84], num_nodes=38, feat=[38, 85], edge_feat=[84, 13], laplacian_eigvec=[38, 8], laplacian_eigval=[38, 8], rw_return_probs=[38, 16], batch=[38], ptr=[2])}\n",
      "{'labels': DataBatch(graph_tox21=[1, 12], graph_qm9=[1, 19], graph_zinc=[1, 3]), 'features': DataBatch(edge_index=[2, 22], edge_weight=[22], num_nodes=10, feat=[10, 85], edge_feat=[22, 13], laplacian_eigvec=[10, 8], laplacian_eigval=[10, 8], rw_return_probs=[10, 16], batch=[10], ptr=[2])}\n",
      "{'labels': DataBatch(graph_tox21=[1, 12], graph_qm9=[1, 19], graph_zinc=[1, 3]), 'features': DataBatch(edge_index=[2, 20], edge_weight=[20], num_nodes=10, feat=[10, 85], edge_feat=[20, 13], laplacian_eigvec=[10, 8], laplacian_eigval=[10, 8], rw_return_probs=[10, 16], batch=[10], ptr=[2])}\n",
      "{'labels': DataBatch(graph_qm9=[1, 19], graph_tox21=[1, 12], graph_zinc=[1, 3]), 'features': DataBatch(edge_index=[2, 20], edge_weight=[20], num_nodes=9, feat=[9, 85], edge_feat=[20, 13], laplacian_eigvec=[9, 8], laplacian_eigval=[9, 8], rw_return_probs=[9, 16], batch=[9], ptr=[2])}\n",
      "{'labels': DataBatch(graph_qm9=[1, 19], graph_tox21=[1, 12], graph_zinc=[1, 3]), 'features': DataBatch(edge_index=[2, 22], edge_weight=[22], num_nodes=9, feat=[9, 85], edge_feat=[22, 13], laplacian_eigvec=[9, 8], laplacian_eigval=[9, 8], rw_return_probs=[9, 16], batch=[9], ptr=[2])}\n",
      "{'labels': DataBatch(graph_qm9=[1, 19], graph_zinc=[1, 3], graph_tox21=[1, 12]), 'features': DataBatch(edge_index=[2, 20], edge_weight=[20], num_nodes=9, feat=[9, 85], edge_feat=[20, 13], laplacian_eigvec=[9, 8], laplacian_eigval=[9, 8], rw_return_probs=[9, 16], batch=[9], ptr=[2])}\n",
      "{'labels': DataBatch(graph_tox21=[1, 12], graph_qm9=[1, 19], graph_zinc=[1, 3]), 'features': DataBatch(edge_index=[2, 50], edge_weight=[50], num_nodes=23, feat=[23, 85], edge_feat=[50, 13], laplacian_eigvec=[23, 8], laplacian_eigval=[23, 8], rw_return_probs=[23, 16], batch=[23], ptr=[2])}\n",
      "{'labels': DataBatch(graph_zinc=[1, 3], graph_tox21=[1, 12], graph_qm9=[1, 19]), 'features': DataBatch(edge_index=[2, 46], edge_weight=[46], num_nodes=21, feat=[21, 85], edge_feat=[46, 13], laplacian_eigvec=[21, 8], laplacian_eigval=[21, 8], rw_return_probs=[21, 16], batch=[21], ptr=[2])}\n",
      "{'labels': DataBatch(graph_zinc=[1, 3], graph_qm9=[1, 19], graph_tox21=[1, 12]), 'features': DataBatch(edge_index=[2, 52], edge_weight=[52], num_nodes=24, feat=[24, 85], edge_feat=[52, 13], laplacian_eigvec=[24, 8], laplacian_eigval=[24, 8], rw_return_probs=[24, 16], batch=[24], ptr=[2])}\n",
      "{'labels': DataBatch(graph_qm9=[1, 19], graph_zinc=[1, 3], graph_tox21=[1, 12]), 'features': DataBatch(edge_index=[2, 22], edge_weight=[22], num_nodes=9, feat=[9, 85], edge_feat=[22, 13], laplacian_eigvec=[9, 8], laplacian_eigval=[9, 8], rw_return_probs=[9, 16], batch=[9], ptr=[2])}\n",
      "{'labels': DataBatch(graph_tox21=[1, 12], graph_qm9=[1, 19], graph_zinc=[1, 3]), 'features': DataBatch(edge_index=[2, 28], edge_weight=[28], num_nodes=13, feat=[13, 85], edge_feat=[28, 13], laplacian_eigvec=[13, 8], laplacian_eigval=[13, 8], rw_return_probs=[13, 16], batch=[13], ptr=[2])}\n",
      "{'labels': DataBatch(graph_tox21=[1, 12], graph_zinc=[1, 3], graph_qm9=[1, 19]), 'features': DataBatch(edge_index=[2, 40], edge_weight=[40], num_nodes=20, feat=[20, 85], edge_feat=[40, 13], laplacian_eigvec=[20, 8], laplacian_eigval=[20, 8], rw_return_probs=[20, 16], batch=[20], ptr=[2])}\n",
      "{'labels': DataBatch(graph_qm9=[1, 19], graph_tox21=[1, 12], graph_zinc=[1, 3]), 'features': DataBatch(edge_index=[2, 20], edge_weight=[20], num_nodes=9, feat=[9, 85], edge_feat=[20, 13], laplacian_eigvec=[9, 8], laplacian_eigval=[9, 8], rw_return_probs=[9, 16], batch=[9], ptr=[2])}\n",
      "{'labels': DataBatch(graph_zinc=[1, 3], graph_qm9=[1, 19], graph_tox21=[1, 12]), 'features': DataBatch(edge_index=[2, 68], edge_weight=[68], num_nodes=32, feat=[32, 85], edge_feat=[68, 13], laplacian_eigvec=[32, 8], laplacian_eigval=[32, 8], rw_return_probs=[32, 16], batch=[32], ptr=[2])}\n",
      "{'labels': DataBatch(graph_qm9=[1, 19], graph_zinc=[1, 3], graph_tox21=[1, 12]), 'features': DataBatch(edge_index=[2, 18], edge_weight=[18], num_nodes=9, feat=[9, 85], edge_feat=[18, 13], laplacian_eigvec=[9, 8], laplacian_eigval=[9, 8], rw_return_probs=[9, 16], batch=[9], ptr=[2])}\n",
      "{'labels': DataBatch(graph_tox21=[1, 12], graph_zinc=[1, 3], graph_qm9=[1, 19]), 'features': DataBatch(edge_index=[2, 18], edge_weight=[18], num_nodes=9, feat=[9, 85], edge_feat=[18, 13], laplacian_eigvec=[9, 8], laplacian_eigval=[9, 8], rw_return_probs=[9, 16], batch=[9], ptr=[2])}\n",
      "{'labels': DataBatch(graph_zinc=[1, 3], graph_qm9=[1, 19], graph_tox21=[1, 12]), 'features': DataBatch(edge_index=[2, 44], edge_weight=[44], num_nodes=20, feat=[20, 85], edge_feat=[44, 13], laplacian_eigvec=[20, 8], laplacian_eigval=[20, 8], rw_return_probs=[20, 16], batch=[20], ptr=[2])}\n",
      "{'labels': DataBatch(graph_zinc=[1, 3], graph_qm9=[1, 19], graph_tox21=[1, 12]), 'features': DataBatch(edge_index=[2, 26], edge_weight=[26], num_nodes=13, feat=[13, 85], edge_feat=[26, 13], laplacian_eigvec=[13, 8], laplacian_eigval=[13, 8], rw_return_probs=[13, 16], batch=[13], ptr=[2])}\n",
      "{'labels': DataBatch(graph_tox21=[1, 12], graph_qm9=[1, 19], graph_zinc=[1, 3]), 'features': DataBatch(edge_index=[2, 16], edge_weight=[16], num_nodes=9, feat=[9, 85], edge_feat=[16, 13], laplacian_eigvec=[9, 8], laplacian_eigval=[9, 8], rw_return_probs=[9, 16], batch=[9], ptr=[2])}\n",
      "{'labels': DataBatch(graph_qm9=[1, 19], graph_tox21=[1, 12], graph_zinc=[1, 3]), 'features': DataBatch(edge_index=[2, 14], edge_weight=[14], num_nodes=7, feat=[7, 85], edge_feat=[14, 13], laplacian_eigvec=[7, 8], laplacian_eigval=[7, 8], rw_return_probs=[7, 16], batch=[7], ptr=[2])}\n",
      "{'labels': DataBatch(graph_zinc=[1, 3], graph_qm9=[1, 19], graph_tox21=[1, 12]), 'features': DataBatch(edge_index=[2, 54], edge_weight=[54], num_nodes=25, feat=[25, 85], edge_feat=[54, 13], laplacian_eigvec=[25, 8], laplacian_eigval=[25, 8], rw_return_probs=[25, 16], batch=[25], ptr=[2])}\n",
      "{'labels': DataBatch(graph_qm9=[1, 19], graph_zinc=[1, 3], graph_tox21=[1, 12]), 'features': DataBatch(edge_index=[2, 18], edge_weight=[18], num_nodes=9, feat=[9, 85], edge_feat=[18, 13], laplacian_eigvec=[9, 8], laplacian_eigval=[9, 8], rw_return_probs=[9, 16], batch=[9], ptr=[2])}\n",
      "{'labels': DataBatch(graph_qm9=[1, 19], graph_zinc=[1, 3], graph_tox21=[1, 12]), 'features': DataBatch(edge_index=[2, 18], edge_weight=[18], num_nodes=9, feat=[9, 85], edge_feat=[18, 13], laplacian_eigvec=[9, 8], laplacian_eigval=[9, 8], rw_return_probs=[9, 16], batch=[9], ptr=[2])}\n"
     ]
    }
   ],
   "source": [
    "# Pickle the list of graphs\n",
    "import pickle\n",
    "with open(\"expts/notebooks/val_graphs_graphium3_new.pkl\", \"wb\") as f:\n",
    "    pickle.dump(elems, f)\n",
    "\n",
    "# Load the list of graphs to make sure the pickle works\n",
    "with open(\"expts/notebooks/val_graphs_graphium3_new.pkl\", \"rb\") as f:\n",
    "    elems = pickle.load(f)\n",
    "for elem in elems:\n",
    "    print(elem)"
   ]
  },
  {
   "cell_type": "code",
   "execution_count": null,
   "metadata": {},
   "outputs": [],
   "source": []
  }
 ],
 "metadata": {
  "kernelspec": {
   "display_name": "graphium",
   "language": "python",
   "name": "python3"
  },
  "language_info": {
   "codemirror_mode": {
    "name": "ipython",
    "version": 3
   },
   "file_extension": ".py",
   "mimetype": "text/x-python",
   "name": "python",
   "nbconvert_exporter": "python",
   "pygments_lexer": "ipython3",
   "version": "3.11.11"
  }
 },
 "nbformat": 4,
 "nbformat_minor": 2
}
