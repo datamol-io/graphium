{
 "cells": [
  {
   "cell_type": "code",
   "execution_count": 1,
   "metadata": {},
   "outputs": [],
   "source": [
    "from typing import List, Tuple, Dict\n",
    "\n",
    "import random\n",
    "import pandas as pd\n",
    "import numpy as np\n",
    "import torch\n",
    "from os.path import join"
   ]
  },
  {
   "cell_type": "code",
   "execution_count": 2,
   "metadata": {},
   "outputs": [],
   "source": [
    "NUM_MOLS = 83746835"
   ]
  },
  {
   "cell_type": "code",
   "execution_count": 3,
   "metadata": {},
   "outputs": [],
   "source": [
    "def make_random_splits(num_elem, val_ratio, test_ratio, seed=42, ignore_idx=None):\n",
    "    \"\"\"Make random splits of the data into train, validation, and test sets.\n",
    "\n",
    "    Args:\n",
    "        num_elem (int): Number of elements in the dataset.\n",
    "        val_ratio (float): Ratio of the dataset to use for validation.\n",
    "        test_ratio (float): Ratio of the dataset to use for testing.\n",
    "        seed (int): Random seed.\n",
    "        ignore_idx (list): List of indices to ignore.\n",
    "\n",
    "    Returns:\n",
    "        train_idx (list): List of indices for the training set.\n",
    "        val_idx (list): List of indices for the validation set.\n",
    "        test_idx (list): List of indices for the test set.\n",
    "    \"\"\"\n",
    "    # Create a list of indices\n",
    "    idx = list(range(num_elem))\n",
    "    # Remove the indices to ignore\n",
    "    if ignore_idx is not None:\n",
    "        idx = list(set(idx) - set(ignore_idx))\n",
    "        num_elem = len(idx)\n",
    "    # Shuffle the list of indices\n",
    "    random.seed(seed)\n",
    "    random.shuffle(idx)\n",
    "    # Compute the number of elements in each set\n",
    "    num_val = int(num_elem * val_ratio)\n",
    "    num_test = int(num_elem * test_ratio)\n",
    "    num_train = num_elem - num_val - num_test\n",
    "    # Split the list of indices into three sets\n",
    "    train_idx = idx[:num_train]\n",
    "    val_idx = idx[num_train:(num_train + num_val)]\n",
    "    test_idx = idx[(num_train + num_val):]\n",
    "    # Return the three lists of indices\n",
    "    return train_idx, val_idx, test_idx"
   ]
  },
  {
   "cell_type": "code",
   "execution_count": 4,
   "metadata": {},
   "outputs": [],
   "source": [
    "train_PM6, val_PM6, test_PM6 = make_random_splits(NUM_MOLS, 0.01, 0.01, seed=42, ignore_idx=None)"
   ]
  },
  {
   "cell_type": "code",
   "execution_count": 5,
   "metadata": {},
   "outputs": [],
   "source": [
    "def make_random_splits_file(num_mols, out_file, train_idx, val_idx, test_idx, test_seen_idx=None):\n",
    "    # Save the splits\n",
    "    if test_seen_idx is None:\n",
    "        splits_dict = {\"train\": train_idx, \"val\": val_idx, \"test\": test_idx}\n",
    "    else:\n",
    "        splits_dict = {\"train\": train_idx, \"val\": val_idx, \"test\": test_idx, \"test_seen\": test_seen_idx}\n",
    "\n",
    "    # Check the splits validity\n",
    "    \n",
    "    assert len(set(train_idx).intersection(set(val_idx))) == 0\n",
    "    assert len(set(train_idx).intersection(set(test_idx))) == 0\n",
    "    assert len(set(val_idx).intersection(set(test_idx))) == 0\n",
    "    assert len(train_idx) > 0\n",
    "    assert len(val_idx) > 0\n",
    "    assert len(test_idx) > 0\n",
    "\n",
    "    if test_seen_idx is None:\n",
    "        assert num_mols == len(train_idx) + len(val_idx) + len(test_idx), f\"{num_mols} != {len(train_idx)} + {len(val_idx)} + {len(test_idx)}\"\n",
    "        print(out_file, \"train\", len(train_idx), \"val\", len(val_idx), \"test\", len(test_idx))\n",
    "    else:\n",
    "        assert len(test_seen_idx) > 0\n",
    "        assert len(set(train_idx).intersection(set(test_seen_idx))) == 0\n",
    "        assert len(set(val_idx).intersection(set(test_seen_idx))) == 0\n",
    "        assert len(set(test_idx).intersection(set(test_seen_idx))) == 0\n",
    "        assert num_mols == len(train_idx) + len(val_idx) + len(test_idx) + len(test_seen_idx), f\"{num_mols} != {len(train_idx)} + {len(val_idx)} + {len(test_idx)} + {len(test_seen_idx)}\"\n",
    "        print(out_file, \"train\", len(train_idx), \"val\", len(val_idx), \"test\", len(test_idx), \"test_seen\", len(test_seen_idx))\n",
    "\n",
    "    torch.save(splits_dict, out_file)"
   ]
  },
  {
   "cell_type": "code",
   "execution_count": 6,
   "metadata": {},
   "outputs": [
    {
     "name": "stdout",
     "output_type": "stream",
     "text": [
      "pm6_random_splits.pt train 82071899 val 837468 test 837468\n"
     ]
    }
   ],
   "source": [
    "make_random_splits_file(NUM_MOLS, \"pm6_random_splits.pt\", train_PM6, val_PM6, test_PM6)"
   ]
  },
  {
   "cell_type": "code",
   "execution_count": null,
   "metadata": {},
   "outputs": [],
   "source": []
  }
 ],
 "metadata": {
  "kernelspec": {
   "display_name": "graphium",
   "language": "python",
   "name": "python3"
  },
  "language_info": {
   "codemirror_mode": {
    "name": "ipython",
    "version": 3
   },
   "file_extension": ".py",
   "mimetype": "text/x-python",
   "name": "python",
   "nbconvert_exporter": "python",
   "pygments_lexer": "ipython3",
   "version": "3.10.9"
  },
  "orig_nbformat": 4
 },
 "nbformat": 4,
 "nbformat_minor": 2
}
