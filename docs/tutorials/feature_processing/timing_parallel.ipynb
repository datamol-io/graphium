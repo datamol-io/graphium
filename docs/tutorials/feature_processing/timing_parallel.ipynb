{
 "cells": [
  {
   "attachments": {},
   "cell_type": "markdown",
   "id": "0693c5c9",
   "metadata": {},
   "source": [
    "# Timing parallel processing\n",
    "\n",
    "This tutorial is meant to help you benchmark different parallel processing methods for the processing of molecules into graphs. This will allow you to chose the one most suitable for your machine, since the benchmarks vary per machine.\n",
    "\n",
    "In general, we find that using `joblib` with the `loky` parallel processing and a batch size of `1000` is most beneficial. The logic is abstracted into `datamol.parallelized_with_batches`"
   ]
  },
  {
   "cell_type": "code",
   "execution_count": 1,
   "id": "b5df2ac6-2ded-4597-a445-f2b5fb106330",
   "metadata": {
    "tags": []
   },
   "outputs": [
    {
     "name": "stdout",
     "output_type": "stream",
     "text": [
      "INFO: Pandarallel will run on 240 workers.\n",
      "INFO: Pandarallel will use Memory file system to transfer data between the main process and workers.\n"
     ]
    }
   ],
   "source": [
    "%load_ext autoreload\n",
    "%autoreload 2\n",
    "\n",
    "import joblib\n",
    "\n",
    "import numpy as np\n",
    "import datamol as dm\n",
    "import pandas as pd\n",
    "\n",
    "from pandarallel import pandarallel\n",
    "\n",
    "pandarallel.initialize(progress_bar=True, nb_workers=joblib.cpu_count())"
   ]
  },
  {
   "cell_type": "markdown",
   "id": "f81fe0f5-055f-436e-9ef4-e58a89fd50ec",
   "metadata": {},
   "source": [
    "## Setup"
   ]
  },
  {
   "cell_type": "code",
   "execution_count": 2,
   "id": "0f31e18d-bdd9-4d9b-8ba5-81e5887b857e",
   "metadata": {
    "tags": []
   },
   "outputs": [],
   "source": [
    "# download from https://raw.githubusercontent.com/aspuru-guzik-group/chemical_vae/master/models/zinc_properties/250k_rndm_zinc_drugs_clean_3.csv\n",
    "# data = pd.read_csv(\"/home/hadim/250k_rndm_zinc_drugs_clean_3.csv\", usecols=[\"smiles\"])\n",
    "\n",
    "# download from https://storage.googleapis.com/graphium-public/datasets/QM9/norm_qm9.csv\n",
    "data = pd.read_csv(\"https://storage.googleapis.com/graphium-public/datasets/QM9/norm_qm9.csv\", usecols=[\"smiles\"])"
   ]
  },
  {
   "cell_type": "code",
   "execution_count": 3,
   "id": "a1197c31-7dbc-4fd7-a69a-5215e1a96b8e",
   "metadata": {
    "tags": []
   },
   "outputs": [],
   "source": [
    "rows_number_list = [250_000]\n",
    "batch_size_list = [10, 100, 1_000, 10_000]\n",
    "\n",
    "\n",
    "def smiles_to_unique_mol_id(smiles):\n",
    "    try:\n",
    "        mol = dm.to_mol(mol=smiles)\n",
    "        mol_id = dm.unique_id(mol)\n",
    "    except:\n",
    "        mol_id = \"\"\n",
    "    if mol_id is None:\n",
    "        mol_id = \"\"\n",
    "    return mol_id\n",
    "\n",
    "\n",
    "def smiles_to_unique_mol_id_batch(smiles_list):\n",
    "    mol_id_list = []\n",
    "    for smiles in smiles_list:\n",
    "        mol_id_list.append(smiles_to_unique_mol_id(smiles))\n",
    "    return mol_id_list"
   ]
  },
  {
   "cell_type": "markdown",
   "id": "5d8eea8f-b983-46e7-bfb4-b8012b3ede1a",
   "metadata": {},
   "source": [
    "## Benchmarks"
   ]
  },
  {
   "cell_type": "code",
   "execution_count": 4,
   "id": "2f8ce5c3-4232-4279-8ea3-7a74832303be",
   "metadata": {
    "tags": []
   },
   "outputs": [],
   "source": [
    "benchmark = []"
   ]
  },
  {
   "cell_type": "markdown",
   "id": "691f8963-6cac-4d58-b8a0-8049f1185486",
   "metadata": {},
   "source": [
    "### No batch"
   ]
  },
  {
   "cell_type": "code",
   "execution_count": 5,
   "id": "a246cdcf-b5ea-4c9e-9ccc-dd3c544587bb",
   "metadata": {
    "tags": []
   },
   "outputs": [
    {
     "data": {
      "application/vnd.jupyter.widget-view+json": {
       "model_id": "b2e528726a384b258d6ed3576bc0db1c",
       "version_major": 2,
       "version_minor": 0
      },
      "text/plain": [
       "  0%|          | 0/133885 [00:00<?, ?it/s]"
      ]
     },
     "metadata": {},
     "output_type": "display_data"
    }
   ],
   "source": [
    "for n in rows_number_list:\n",
    "    df = data.iloc[:n]\n",
    "\n",
    "    with dm.utils.perf.watch_duration(log=False) as d:\n",
    "        out = dm.parallelized(\n",
    "            smiles_to_unique_mol_id,\n",
    "            df[\"smiles\"].values,\n",
    "            progress=True,\n",
    "            n_jobs=-1,\n",
    "            scheduler=\"processes\",\n",
    "        )\n",
    "\n",
    "    datum = {\n",
    "        \"batch\": False,\n",
    "        \"batch_size\": None,\n",
    "        \"scheduler\": \"loky_processes\",\n",
    "        \"duration_minutes\": d.duration_minutes,\n",
    "        \"duration_seconds\": d.duration,\n",
    "        \"n_rows\": len(df),\n",
    "    }\n",
    "    benchmark.append(datum)"
   ]
  },
  {
   "cell_type": "markdown",
   "id": "41139854-892f-4481-8dd6-a3972bb6ece0",
   "metadata": {},
   "source": [
    "### Batch"
   ]
  },
  {
   "cell_type": "code",
   "execution_count": 5,
   "id": "845a72d5-0b3f-4a21-8d7d-8312671e9924",
   "metadata": {
    "tags": []
   },
   "outputs": [
    {
     "data": {
      "application/vnd.jupyter.widget-view+json": {
       "model_id": "85e79375f3e94d9abc435bdc8d28d2df",
       "version_major": 2,
       "version_minor": 0
      },
      "text/plain": [
       "  0%|          | 0/13388 [00:00<?, ?it/s]"
      ]
     },
     "metadata": {},
     "output_type": "display_data"
    },
    {
     "data": {
      "application/vnd.jupyter.widget-view+json": {
       "model_id": "f5df65b3d2474b02aff1058e044f7dcf",
       "version_major": 2,
       "version_minor": 0
      },
      "text/plain": [
       "  0%|          | 0/1338 [00:00<?, ?it/s]"
      ]
     },
     "metadata": {},
     "output_type": "display_data"
    },
    {
     "data": {
      "application/vnd.jupyter.widget-view+json": {
       "model_id": "3a5170b0055e4971bd0ea5e7b6cdcbd8",
       "version_major": 2,
       "version_minor": 0
      },
      "text/plain": [
       "  0%|          | 0/133 [00:00<?, ?it/s]"
      ]
     },
     "metadata": {},
     "output_type": "display_data"
    },
    {
     "data": {
      "application/vnd.jupyter.widget-view+json": {
       "model_id": "fa091db65b454db4bc824439645290ad",
       "version_major": 2,
       "version_minor": 0
      },
      "text/plain": [
       "  0%|          | 0/13 [00:00<?, ?it/s]"
      ]
     },
     "metadata": {},
     "output_type": "display_data"
    }
   ],
   "source": [
    "for batch_size in batch_size_list:\n",
    "    for n in rows_number_list:\n",
    "        df = data.iloc[:n]\n",
    "\n",
    "        with dm.utils.perf.watch_duration(log=False) as d:\n",
    "            out = dm.parallelized_with_batches(\n",
    "                smiles_to_unique_mol_id_batch,\n",
    "                df[\"smiles\"].values,\n",
    "                batch_size=batch_size,\n",
    "                progress=True,\n",
    "                n_jobs=-1,\n",
    "                scheduler=\"processes\",\n",
    "            )\n",
    "        assert len(out) == len(df), f\"{len(out)} != {len(df)}\"\n",
    "\n",
    "        datum = {\n",
    "            \"batch\": True,\n",
    "            \"batch_size\": batch_size,\n",
    "            \"scheduler\": \"loky_processes\",\n",
    "            \"duration_minutes\": d.duration_minutes,\n",
    "            \"duration_seconds\": d.duration,\n",
    "            \"n_rows\": len(df),\n",
    "        }\n",
    "        benchmark.append(datum)"
   ]
  },
  {
   "cell_type": "code",
   "execution_count": 7,
   "id": "ec7529d1-2ca3-42ec-a811-3dc010a03350",
   "metadata": {
    "tags": []
   },
   "outputs": [
    {
     "data": {
      "application/vnd.jupyter.widget-view+json": {
       "model_id": "a9de4fa3630e4c9aa4d81cac4f10b4c8",
       "version_major": 2,
       "version_minor": 0
      },
      "text/plain": [
       "VBox(children=(HBox(children=(IntProgress(value=0, description='0.00%', max=558), Label(value='0 / 558'))), HB…"
      ]
     },
     "metadata": {},
     "output_type": "display_data"
    }
   ],
   "source": [
    "for n in rows_number_list:\n",
    "    df = data.iloc[:n]\n",
    "\n",
    "    with dm.utils.perf.watch_duration(log=False) as d:\n",
    "        _ = df[\"smiles\"].parallel_apply(smiles_to_unique_mol_id)\n",
    "\n",
    "    datum = {\n",
    "        \"batch\": False,\n",
    "        \"batch_size\": None,\n",
    "        \"scheduler\": \"pandarallel\",\n",
    "        \"duration_minutes\": d.duration_minutes,\n",
    "        \"duration_seconds\": d.duration,\n",
    "        \"n_rows\": len(df),\n",
    "    }\n",
    "    benchmark.append(datum)"
   ]
  },
  {
   "cell_type": "markdown",
   "id": "1ddf56ef-6349-4d43-9720-9e53699e9a8e",
   "metadata": {},
   "source": [
    "## Results"
   ]
  },
  {
   "cell_type": "code",
   "execution_count": 8,
   "id": "989ae5dd-9826-4adb-af0a-64d9e2c19e2c",
   "metadata": {
    "tags": []
   },
   "outputs": [
    {
     "data": {
      "text/html": [
       "<div>\n",
       "<style scoped>\n",
       "    .dataframe tbody tr th:only-of-type {\n",
       "        vertical-align: middle;\n",
       "    }\n",
       "\n",
       "    .dataframe tbody tr th {\n",
       "        vertical-align: top;\n",
       "    }\n",
       "\n",
       "    .dataframe thead th {\n",
       "        text-align: right;\n",
       "    }\n",
       "</style>\n",
       "<table border=\"1\" class=\"dataframe\">\n",
       "  <thead>\n",
       "    <tr style=\"text-align: right;\">\n",
       "      <th></th>\n",
       "      <th>batch</th>\n",
       "      <th>batch_size</th>\n",
       "      <th>scheduler</th>\n",
       "      <th>duration_minutes</th>\n",
       "      <th>duration_seconds</th>\n",
       "      <th>n_rows</th>\n",
       "      <th>duration_seconds_per_mol</th>\n",
       "    </tr>\n",
       "  </thead>\n",
       "  <tbody>\n",
       "    <tr>\n",
       "      <th>3</th>\n",
       "      <td>True</td>\n",
       "      <td>1000.0</td>\n",
       "      <td>loky_processes</td>\n",
       "      <td>0.014199</td>\n",
       "      <td>0.851930</td>\n",
       "      <td>133885</td>\n",
       "      <td>0.000006</td>\n",
       "    </tr>\n",
       "    <tr>\n",
       "      <th>2</th>\n",
       "      <td>True</td>\n",
       "      <td>100.0</td>\n",
       "      <td>loky_processes</td>\n",
       "      <td>0.037132</td>\n",
       "      <td>2.227947</td>\n",
       "      <td>133885</td>\n",
       "      <td>0.000017</td>\n",
       "    </tr>\n",
       "    <tr>\n",
       "      <th>4</th>\n",
       "      <td>True</td>\n",
       "      <td>10000.0</td>\n",
       "      <td>loky_processes</td>\n",
       "      <td>0.047438</td>\n",
       "      <td>2.846266</td>\n",
       "      <td>133885</td>\n",
       "      <td>0.000021</td>\n",
       "    </tr>\n",
       "    <tr>\n",
       "      <th>5</th>\n",
       "      <td>False</td>\n",
       "      <td>NaN</td>\n",
       "      <td>pandarallel</td>\n",
       "      <td>0.118230</td>\n",
       "      <td>7.093791</td>\n",
       "      <td>133885</td>\n",
       "      <td>0.000053</td>\n",
       "    </tr>\n",
       "    <tr>\n",
       "      <th>1</th>\n",
       "      <td>True</td>\n",
       "      <td>10.0</td>\n",
       "      <td>loky_processes</td>\n",
       "      <td>0.222177</td>\n",
       "      <td>13.330603</td>\n",
       "      <td>133885</td>\n",
       "      <td>0.000100</td>\n",
       "    </tr>\n",
       "    <tr>\n",
       "      <th>0</th>\n",
       "      <td>False</td>\n",
       "      <td>NaN</td>\n",
       "      <td>loky_processes</td>\n",
       "      <td>4.002346</td>\n",
       "      <td>240.140754</td>\n",
       "      <td>133885</td>\n",
       "      <td>0.001794</td>\n",
       "    </tr>\n",
       "  </tbody>\n",
       "</table>\n",
       "</div>"
      ],
      "text/plain": [
       "   batch  batch_size       scheduler  duration_minutes  duration_seconds   \n",
       "3   True      1000.0  loky_processes          0.014199          0.851930  \\\n",
       "2   True       100.0  loky_processes          0.037132          2.227947   \n",
       "4   True     10000.0  loky_processes          0.047438          2.846266   \n",
       "5  False         NaN     pandarallel          0.118230          7.093791   \n",
       "1   True        10.0  loky_processes          0.222177         13.330603   \n",
       "0  False         NaN  loky_processes          4.002346        240.140754   \n",
       "\n",
       "   n_rows  duration_seconds_per_mol  \n",
       "3  133885                  0.000006  \n",
       "2  133885                  0.000017  \n",
       "4  133885                  0.000021  \n",
       "5  133885                  0.000053  \n",
       "1  133885                  0.000100  \n",
       "0  133885                  0.001794  "
      ]
     },
     "execution_count": 8,
     "metadata": {},
     "output_type": "execute_result"
    }
   ],
   "source": [
    "b = pd.DataFrame(benchmark)\n",
    "b[\"duration_seconds_per_mol\"] = b[\"duration_seconds\"] / b[\"n_rows\"]\n",
    "\n",
    "b.sort_values(\"duration_seconds_per_mol\")"
   ]
  },
  {
   "cell_type": "code",
   "execution_count": null,
   "id": "04c0b10c-bf99-43bf-979a-9d1f0c1ff1fd",
   "metadata": {},
   "outputs": [],
   "source": []
  },
  {
   "cell_type": "code",
   "execution_count": null,
   "id": "39b3d77e",
   "metadata": {},
   "outputs": [],
   "source": []
  }
 ],
 "metadata": {
  "kernelspec": {
   "display_name": "graphium",
   "language": "python",
   "name": "python3"
  },
  "language_info": {
   "codemirror_mode": {
    "name": "ipython",
    "version": 3
   },
   "file_extension": ".py",
   "mimetype": "text/x-python",
   "name": "python",
   "nbconvert_exporter": "python",
   "pygments_lexer": "ipython3",
   "version": "3.8.10"
  },
  "widgets": {
   "application/vnd.jupyter.widget-state+json": {
    "state": {},
    "version_major": 2,
    "version_minor": 0
   }
  }
 },
 "nbformat": 4,
 "nbformat_minor": 5
}
